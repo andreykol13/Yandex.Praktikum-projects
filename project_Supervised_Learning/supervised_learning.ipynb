{
 "cells": [
  {
   "cell_type": "markdown",
   "metadata": {},
   "source": [
    "# Проект \"Отток клиентов\""
   ]
  },
  {
   "cell_type": "markdown",
   "metadata": {},
   "source": [
    "## Описание проекта"
   ]
  },
  {
   "cell_type": "markdown",
   "metadata": {},
   "source": [
    "Из «Бета-Банка» стали уходить клиенты. Маркетологи посчитали: сохранять текущих клиентов дешевле, чем привлекать новых. Нужно спрогнозировать, уйдёт клиент из банка в ближайшее время или нет. Предоставлены исторические данные о поведении клиентов и расторжении договоров с банком. Нужно построить модель с предельно большим значением F1-меры на тестовой выборке (не менее 0.59). Дополнительно нужно измерить AUC-ROC, сравнить её значение с F1-мерой."
   ]
  },
  {
   "cell_type": "markdown",
   "metadata": {},
   "source": [
    "## План выполнения проекта"
   ]
  },
  {
   "cell_type": "markdown",
   "metadata": {},
   "source": [
    "1. [**Загрузите и подготовьте данные.**](#step1) Поясните порядок действий. Путь к файлу: <i>/datasets/Churn.csv</i>.\n",
    "1. [**Исследуйте баланс классов, обучите модель без учёта дисбаланса.**](#step2) Кратко опишите выводы.\n",
    "1. [**Улучшите качество модели, учитывая дисбаланс классов. Обучите разные модели и найдите лучшую.**](#step3) Кратко опишите выводы.\n",
    "1. [**Проведите финальное тестирование.**](#step4)"
   ]
  },
  {
   "cell_type": "markdown",
   "metadata": {},
   "source": [
    "## Описание данных"
   ]
  },
  {
   "cell_type": "markdown",
   "metadata": {},
   "source": [
    "- `RowNumber` — индекс строки в данных;\n",
    "- `CustomerId` — уникальный идентификатор клиента;\n",
    "- `Surname` — фамилия;\n",
    "- `CreditScore` — кредитный рейтинг;\n",
    "- `Geography` — страна проживания;\n",
    "- `Gender` — пол;\n",
    "- `Age` — возраст;\n",
    "- `Tenure` — количество недвижимости у клиента;\n",
    "- `Balance` — баланс на счёте;\n",
    "- `NumOfProducts` — количество продуктов банка, используемых клиентом;\n",
    "- `HasCrCard` — наличие кредитной карты;\n",
    "- `IsActiveMember` — активность клиента;\n",
    "- `EstimatedSalary` — предполагаемая зарплата;\n",
    "- `Exited` (целевой признак) — факт ухода клиента."
   ]
  },
  {
   "cell_type": "markdown",
   "metadata": {},
   "source": [
    "## <a name=\"step1\"></a>Шаг 1. Загрузите и подготовьте данные"
   ]
  },
  {
   "cell_type": "markdown",
   "metadata": {},
   "source": [
    "Для начала сделаем импорт необходимых библиотек."
   ]
  },
  {
   "cell_type": "code",
   "execution_count": 1,
   "metadata": {},
   "outputs": [],
   "source": [
    "import pandas as pd\n",
    "from sklearn.preprocessing import StandardScaler\n",
    "from sklearn.model_selection import train_test_split\n",
    "from sklearn.linear_model import LogisticRegression\n",
    "from sklearn.metrics import f1_score, roc_auc_score, accuracy_score, precision_score, recall_score\n",
    "from sklearn.ensemble import RandomForestClassifier"
   ]
  },
  {
   "cell_type": "markdown",
   "metadata": {},
   "source": [
    "Откроем файл с данными, запишем его в переменную `churn`."
   ]
  },
  {
   "cell_type": "code",
   "execution_count": 2,
   "metadata": {},
   "outputs": [],
   "source": [
    "try:\n",
    "    churn = pd.read_csv('/Users/andreykol/Desktop/yandex_projects/project_Supervised_Learning/Churn.csv')\n",
    "    # churn = pd.read_csv('datasets/Churn.csv')\n",
    "except:\n",
    "    print('Ошибка при чтении файла!')"
   ]
  },
  {
   "cell_type": "markdown",
   "metadata": {},
   "source": [
    "Теперь подробнее изучим информацию в таблице."
   ]
  },
  {
   "cell_type": "code",
   "execution_count": 3,
   "metadata": {},
   "outputs": [
    {
     "name": "stdout",
     "output_type": "stream",
     "text": [
      "<class 'pandas.core.frame.DataFrame'>\n",
      "RangeIndex: 10000 entries, 0 to 9999\n",
      "Data columns (total 14 columns):\n",
      " #   Column           Non-Null Count  Dtype  \n",
      "---  ------           --------------  -----  \n",
      " 0   RowNumber        10000 non-null  int64  \n",
      " 1   CustomerId       10000 non-null  int64  \n",
      " 2   Surname          10000 non-null  object \n",
      " 3   CreditScore      10000 non-null  int64  \n",
      " 4   Geography        10000 non-null  object \n",
      " 5   Gender           10000 non-null  object \n",
      " 6   Age              10000 non-null  int64  \n",
      " 7   Tenure           9091 non-null   float64\n",
      " 8   Balance          10000 non-null  float64\n",
      " 9   NumOfProducts    10000 non-null  int64  \n",
      " 10  HasCrCard        10000 non-null  int64  \n",
      " 11  IsActiveMember   10000 non-null  int64  \n",
      " 12  EstimatedSalary  10000 non-null  float64\n",
      " 13  Exited           10000 non-null  int64  \n",
      "dtypes: float64(3), int64(8), object(3)\n",
      "memory usage: 1.1+ MB\n",
      "None\n",
      "Index(['RowNumber', 'CustomerId', 'Surname', 'CreditScore', 'Geography',\n",
      "       'Gender', 'Age', 'Tenure', 'Balance', 'NumOfProducts', 'HasCrCard',\n",
      "       'IsActiveMember', 'EstimatedSalary', 'Exited'],\n",
      "      dtype='object')\n"
     ]
    },
    {
     "data": {
      "text/html": [
       "<div>\n",
       "<style scoped>\n",
       "    .dataframe tbody tr th:only-of-type {\n",
       "        vertical-align: middle;\n",
       "    }\n",
       "\n",
       "    .dataframe tbody tr th {\n",
       "        vertical-align: top;\n",
       "    }\n",
       "\n",
       "    .dataframe thead th {\n",
       "        text-align: right;\n",
       "    }\n",
       "</style>\n",
       "<table border=\"1\" class=\"dataframe\">\n",
       "  <thead>\n",
       "    <tr style=\"text-align: right;\">\n",
       "      <th></th>\n",
       "      <th>RowNumber</th>\n",
       "      <th>CustomerId</th>\n",
       "      <th>Surname</th>\n",
       "      <th>CreditScore</th>\n",
       "      <th>Geography</th>\n",
       "      <th>Gender</th>\n",
       "      <th>Age</th>\n",
       "      <th>Tenure</th>\n",
       "      <th>Balance</th>\n",
       "      <th>NumOfProducts</th>\n",
       "      <th>HasCrCard</th>\n",
       "      <th>IsActiveMember</th>\n",
       "      <th>EstimatedSalary</th>\n",
       "      <th>Exited</th>\n",
       "    </tr>\n",
       "  </thead>\n",
       "  <tbody>\n",
       "    <tr>\n",
       "      <th>0</th>\n",
       "      <td>1</td>\n",
       "      <td>15634602</td>\n",
       "      <td>Hargrave</td>\n",
       "      <td>619</td>\n",
       "      <td>France</td>\n",
       "      <td>Female</td>\n",
       "      <td>42</td>\n",
       "      <td>2.0</td>\n",
       "      <td>0.00</td>\n",
       "      <td>1</td>\n",
       "      <td>1</td>\n",
       "      <td>1</td>\n",
       "      <td>101348.88</td>\n",
       "      <td>1</td>\n",
       "    </tr>\n",
       "    <tr>\n",
       "      <th>1</th>\n",
       "      <td>2</td>\n",
       "      <td>15647311</td>\n",
       "      <td>Hill</td>\n",
       "      <td>608</td>\n",
       "      <td>Spain</td>\n",
       "      <td>Female</td>\n",
       "      <td>41</td>\n",
       "      <td>1.0</td>\n",
       "      <td>83807.86</td>\n",
       "      <td>1</td>\n",
       "      <td>0</td>\n",
       "      <td>1</td>\n",
       "      <td>112542.58</td>\n",
       "      <td>0</td>\n",
       "    </tr>\n",
       "    <tr>\n",
       "      <th>2</th>\n",
       "      <td>3</td>\n",
       "      <td>15619304</td>\n",
       "      <td>Onio</td>\n",
       "      <td>502</td>\n",
       "      <td>France</td>\n",
       "      <td>Female</td>\n",
       "      <td>42</td>\n",
       "      <td>8.0</td>\n",
       "      <td>159660.80</td>\n",
       "      <td>3</td>\n",
       "      <td>1</td>\n",
       "      <td>0</td>\n",
       "      <td>113931.57</td>\n",
       "      <td>1</td>\n",
       "    </tr>\n",
       "    <tr>\n",
       "      <th>3</th>\n",
       "      <td>4</td>\n",
       "      <td>15701354</td>\n",
       "      <td>Boni</td>\n",
       "      <td>699</td>\n",
       "      <td>France</td>\n",
       "      <td>Female</td>\n",
       "      <td>39</td>\n",
       "      <td>1.0</td>\n",
       "      <td>0.00</td>\n",
       "      <td>2</td>\n",
       "      <td>0</td>\n",
       "      <td>0</td>\n",
       "      <td>93826.63</td>\n",
       "      <td>0</td>\n",
       "    </tr>\n",
       "    <tr>\n",
       "      <th>4</th>\n",
       "      <td>5</td>\n",
       "      <td>15737888</td>\n",
       "      <td>Mitchell</td>\n",
       "      <td>850</td>\n",
       "      <td>Spain</td>\n",
       "      <td>Female</td>\n",
       "      <td>43</td>\n",
       "      <td>2.0</td>\n",
       "      <td>125510.82</td>\n",
       "      <td>1</td>\n",
       "      <td>1</td>\n",
       "      <td>1</td>\n",
       "      <td>79084.10</td>\n",
       "      <td>0</td>\n",
       "    </tr>\n",
       "    <tr>\n",
       "      <th>5</th>\n",
       "      <td>6</td>\n",
       "      <td>15574012</td>\n",
       "      <td>Chu</td>\n",
       "      <td>645</td>\n",
       "      <td>Spain</td>\n",
       "      <td>Male</td>\n",
       "      <td>44</td>\n",
       "      <td>8.0</td>\n",
       "      <td>113755.78</td>\n",
       "      <td>2</td>\n",
       "      <td>1</td>\n",
       "      <td>0</td>\n",
       "      <td>149756.71</td>\n",
       "      <td>1</td>\n",
       "    </tr>\n",
       "    <tr>\n",
       "      <th>6</th>\n",
       "      <td>7</td>\n",
       "      <td>15592531</td>\n",
       "      <td>Bartlett</td>\n",
       "      <td>822</td>\n",
       "      <td>France</td>\n",
       "      <td>Male</td>\n",
       "      <td>50</td>\n",
       "      <td>7.0</td>\n",
       "      <td>0.00</td>\n",
       "      <td>2</td>\n",
       "      <td>1</td>\n",
       "      <td>1</td>\n",
       "      <td>10062.80</td>\n",
       "      <td>0</td>\n",
       "    </tr>\n",
       "    <tr>\n",
       "      <th>7</th>\n",
       "      <td>8</td>\n",
       "      <td>15656148</td>\n",
       "      <td>Obinna</td>\n",
       "      <td>376</td>\n",
       "      <td>Germany</td>\n",
       "      <td>Female</td>\n",
       "      <td>29</td>\n",
       "      <td>4.0</td>\n",
       "      <td>115046.74</td>\n",
       "      <td>4</td>\n",
       "      <td>1</td>\n",
       "      <td>0</td>\n",
       "      <td>119346.88</td>\n",
       "      <td>1</td>\n",
       "    </tr>\n",
       "    <tr>\n",
       "      <th>8</th>\n",
       "      <td>9</td>\n",
       "      <td>15792365</td>\n",
       "      <td>He</td>\n",
       "      <td>501</td>\n",
       "      <td>France</td>\n",
       "      <td>Male</td>\n",
       "      <td>44</td>\n",
       "      <td>4.0</td>\n",
       "      <td>142051.07</td>\n",
       "      <td>2</td>\n",
       "      <td>0</td>\n",
       "      <td>1</td>\n",
       "      <td>74940.50</td>\n",
       "      <td>0</td>\n",
       "    </tr>\n",
       "    <tr>\n",
       "      <th>9</th>\n",
       "      <td>10</td>\n",
       "      <td>15592389</td>\n",
       "      <td>H?</td>\n",
       "      <td>684</td>\n",
       "      <td>France</td>\n",
       "      <td>Male</td>\n",
       "      <td>27</td>\n",
       "      <td>2.0</td>\n",
       "      <td>134603.88</td>\n",
       "      <td>1</td>\n",
       "      <td>1</td>\n",
       "      <td>1</td>\n",
       "      <td>71725.73</td>\n",
       "      <td>0</td>\n",
       "    </tr>\n",
       "  </tbody>\n",
       "</table>\n",
       "</div>"
      ],
      "text/plain": [
       "   RowNumber  CustomerId   Surname  CreditScore Geography  Gender  Age  \\\n",
       "0          1    15634602  Hargrave          619    France  Female   42   \n",
       "1          2    15647311      Hill          608     Spain  Female   41   \n",
       "2          3    15619304      Onio          502    France  Female   42   \n",
       "3          4    15701354      Boni          699    France  Female   39   \n",
       "4          5    15737888  Mitchell          850     Spain  Female   43   \n",
       "5          6    15574012       Chu          645     Spain    Male   44   \n",
       "6          7    15592531  Bartlett          822    France    Male   50   \n",
       "7          8    15656148    Obinna          376   Germany  Female   29   \n",
       "8          9    15792365        He          501    France    Male   44   \n",
       "9         10    15592389        H?          684    France    Male   27   \n",
       "\n",
       "   Tenure    Balance  NumOfProducts  HasCrCard  IsActiveMember  \\\n",
       "0     2.0       0.00              1          1               1   \n",
       "1     1.0   83807.86              1          0               1   \n",
       "2     8.0  159660.80              3          1               0   \n",
       "3     1.0       0.00              2          0               0   \n",
       "4     2.0  125510.82              1          1               1   \n",
       "5     8.0  113755.78              2          1               0   \n",
       "6     7.0       0.00              2          1               1   \n",
       "7     4.0  115046.74              4          1               0   \n",
       "8     4.0  142051.07              2          0               1   \n",
       "9     2.0  134603.88              1          1               1   \n",
       "\n",
       "   EstimatedSalary  Exited  \n",
       "0        101348.88       1  \n",
       "1        112542.58       0  \n",
       "2        113931.57       1  \n",
       "3         93826.63       0  \n",
       "4         79084.10       0  \n",
       "5        149756.71       1  \n",
       "6         10062.80       0  \n",
       "7        119346.88       1  \n",
       "8         74940.50       0  \n",
       "9         71725.73       0  "
      ]
     },
     "metadata": {},
     "output_type": "display_data"
    }
   ],
   "source": [
    "print(churn.info())\n",
    "print(churn.columns)\n",
    "display(churn.head(10))"
   ]
  },
  {
   "cell_type": "markdown",
   "metadata": {},
   "source": [
    "Итак, необходимо сделать предобработку данных. Будем действовать по следующему плану:\n",
    "- удалим столбец `RowNumber`, который является излишним;\n",
    "- заполним пропуски в столбце `Tenure`;\n",
    "- закодируем категориальные переменные;\n",
    "- нормализуем количественные переменные."
   ]
  },
  {
   "cell_type": "markdown",
   "metadata": {},
   "source": [
    "Итак, удалим столбец, отвечающий за индекс строки в данных."
   ]
  },
  {
   "cell_type": "code",
   "execution_count": 4,
   "metadata": {},
   "outputs": [],
   "source": [
    "churn = churn.drop('RowNumber', axis=1)"
   ]
  },
  {
   "cell_type": "markdown",
   "metadata": {},
   "source": [
    "Узнаем, какие значения вообще есть в столбце, в котором записана информация о количестве недвижимости у клиента."
   ]
  },
  {
   "cell_type": "code",
   "execution_count": 5,
   "metadata": {},
   "outputs": [
    {
     "data": {
      "text/plain": [
       "1.0     952\n",
       "2.0     950\n",
       "8.0     933\n",
       "3.0     928\n",
       "5.0     927\n",
       "7.0     925\n",
       "NaN     909\n",
       "4.0     885\n",
       "9.0     882\n",
       "6.0     881\n",
       "10.0    446\n",
       "0.0     382\n",
       "Name: Tenure, dtype: int64"
      ]
     },
     "execution_count": 5,
     "metadata": {},
     "output_type": "execute_result"
    }
   ],
   "source": [
    "churn['Tenure'].value_counts(dropna=False)"
   ]
  },
  {
   "cell_type": "markdown",
   "metadata": {},
   "source": [
    "По смыслу данных в столбце, вполне логично заполнить пропуски значением `0` (нет недвижимости)."
   ]
  },
  {
   "cell_type": "code",
   "execution_count": 6,
   "metadata": {},
   "outputs": [],
   "source": [
    "churn['Tenure'] = churn['Tenure'].fillna(0)"
   ]
  },
  {
   "cell_type": "markdown",
   "metadata": {},
   "source": [
    "Теперь произведём кодировку категориальных признаков в наших данных. Такими признаками являются `Geography` и `Gender`."
   ]
  },
  {
   "cell_type": "code",
   "execution_count": 7,
   "metadata": {},
   "outputs": [],
   "source": [
    "cat_cols = ['Geography', 'Gender']\n",
    "trans_categ = pd.get_dummies(churn[cat_cols], drop_first=True) # новые столбцы\n",
    "churn = churn.drop(labels=cat_cols, axis=1).join(trans_categ) # удалим старые, вставим новые"
   ]
  },
  {
   "cell_type": "markdown",
   "metadata": {},
   "source": [
    "Переходим к нормализации признаков, а именно столбцов `CreditScore`, `Age`, `Tenure`, `Balance`, `EstimatedSalary`. Мы будем использовать инструмент `StandardScaler` для упрощения, предполагая, что распределение данных нормально (это, однако, совсем не так)."
   ]
  },
  {
   "cell_type": "code",
   "execution_count": 8,
   "metadata": {},
   "outputs": [],
   "source": [
    "num_cols = ['CreditScore', 'Age', 'Tenure', 'Balance', 'EstimatedSalary']\n",
    "scaler = StandardScaler()\n",
    "churn[num_cols] = scaler.fit_transform(churn[num_cols])"
   ]
  },
  {
   "cell_type": "markdown",
   "metadata": {},
   "source": [
    "Итак, посмотрим, какие данные мы имеем на этот момент."
   ]
  },
  {
   "cell_type": "code",
   "execution_count": 9,
   "metadata": {},
   "outputs": [
    {
     "data": {
      "text/html": [
       "<div>\n",
       "<style scoped>\n",
       "    .dataframe tbody tr th:only-of-type {\n",
       "        vertical-align: middle;\n",
       "    }\n",
       "\n",
       "    .dataframe tbody tr th {\n",
       "        vertical-align: top;\n",
       "    }\n",
       "\n",
       "    .dataframe thead th {\n",
       "        text-align: right;\n",
       "    }\n",
       "</style>\n",
       "<table border=\"1\" class=\"dataframe\">\n",
       "  <thead>\n",
       "    <tr style=\"text-align: right;\">\n",
       "      <th></th>\n",
       "      <th>CustomerId</th>\n",
       "      <th>Surname</th>\n",
       "      <th>CreditScore</th>\n",
       "      <th>Age</th>\n",
       "      <th>Tenure</th>\n",
       "      <th>Balance</th>\n",
       "      <th>NumOfProducts</th>\n",
       "      <th>HasCrCard</th>\n",
       "      <th>IsActiveMember</th>\n",
       "      <th>EstimatedSalary</th>\n",
       "      <th>Exited</th>\n",
       "      <th>Geography_Germany</th>\n",
       "      <th>Geography_Spain</th>\n",
       "      <th>Gender_Male</th>\n",
       "    </tr>\n",
       "  </thead>\n",
       "  <tbody>\n",
       "    <tr>\n",
       "      <th>0</th>\n",
       "      <td>15634602</td>\n",
       "      <td>Hargrave</td>\n",
       "      <td>-0.326221</td>\n",
       "      <td>0.293517</td>\n",
       "      <td>-0.817441</td>\n",
       "      <td>-1.225848</td>\n",
       "      <td>1</td>\n",
       "      <td>1</td>\n",
       "      <td>1</td>\n",
       "      <td>0.021886</td>\n",
       "      <td>1</td>\n",
       "      <td>0</td>\n",
       "      <td>0</td>\n",
       "      <td>0</td>\n",
       "    </tr>\n",
       "    <tr>\n",
       "      <th>1</th>\n",
       "      <td>15647311</td>\n",
       "      <td>Hill</td>\n",
       "      <td>-0.440036</td>\n",
       "      <td>0.198164</td>\n",
       "      <td>-1.138838</td>\n",
       "      <td>0.117350</td>\n",
       "      <td>1</td>\n",
       "      <td>0</td>\n",
       "      <td>1</td>\n",
       "      <td>0.216534</td>\n",
       "      <td>0</td>\n",
       "      <td>0</td>\n",
       "      <td>1</td>\n",
       "      <td>0</td>\n",
       "    </tr>\n",
       "    <tr>\n",
       "      <th>2</th>\n",
       "      <td>15619304</td>\n",
       "      <td>Onio</td>\n",
       "      <td>-1.536794</td>\n",
       "      <td>0.293517</td>\n",
       "      <td>1.110941</td>\n",
       "      <td>1.333053</td>\n",
       "      <td>3</td>\n",
       "      <td>1</td>\n",
       "      <td>0</td>\n",
       "      <td>0.240687</td>\n",
       "      <td>1</td>\n",
       "      <td>0</td>\n",
       "      <td>0</td>\n",
       "      <td>0</td>\n",
       "    </tr>\n",
       "    <tr>\n",
       "      <th>3</th>\n",
       "      <td>15701354</td>\n",
       "      <td>Boni</td>\n",
       "      <td>0.501521</td>\n",
       "      <td>0.007457</td>\n",
       "      <td>-1.138838</td>\n",
       "      <td>-1.225848</td>\n",
       "      <td>2</td>\n",
       "      <td>0</td>\n",
       "      <td>0</td>\n",
       "      <td>-0.108918</td>\n",
       "      <td>0</td>\n",
       "      <td>0</td>\n",
       "      <td>0</td>\n",
       "      <td>0</td>\n",
       "    </tr>\n",
       "    <tr>\n",
       "      <th>4</th>\n",
       "      <td>15737888</td>\n",
       "      <td>Mitchell</td>\n",
       "      <td>2.063884</td>\n",
       "      <td>0.388871</td>\n",
       "      <td>-0.817441</td>\n",
       "      <td>0.785728</td>\n",
       "      <td>1</td>\n",
       "      <td>1</td>\n",
       "      <td>1</td>\n",
       "      <td>-0.365276</td>\n",
       "      <td>0</td>\n",
       "      <td>0</td>\n",
       "      <td>1</td>\n",
       "      <td>0</td>\n",
       "    </tr>\n",
       "    <tr>\n",
       "      <th>5</th>\n",
       "      <td>15574012</td>\n",
       "      <td>Chu</td>\n",
       "      <td>-0.057205</td>\n",
       "      <td>0.484225</td>\n",
       "      <td>1.110941</td>\n",
       "      <td>0.597329</td>\n",
       "      <td>2</td>\n",
       "      <td>1</td>\n",
       "      <td>0</td>\n",
       "      <td>0.863650</td>\n",
       "      <td>1</td>\n",
       "      <td>0</td>\n",
       "      <td>1</td>\n",
       "      <td>1</td>\n",
       "    </tr>\n",
       "    <tr>\n",
       "      <th>6</th>\n",
       "      <td>15592531</td>\n",
       "      <td>Bartlett</td>\n",
       "      <td>1.774174</td>\n",
       "      <td>1.056346</td>\n",
       "      <td>0.789544</td>\n",
       "      <td>-1.225848</td>\n",
       "      <td>2</td>\n",
       "      <td>1</td>\n",
       "      <td>1</td>\n",
       "      <td>-1.565487</td>\n",
       "      <td>0</td>\n",
       "      <td>0</td>\n",
       "      <td>0</td>\n",
       "      <td>1</td>\n",
       "    </tr>\n",
       "    <tr>\n",
       "      <th>7</th>\n",
       "      <td>15656148</td>\n",
       "      <td>Obinna</td>\n",
       "      <td>-2.840488</td>\n",
       "      <td>-0.946079</td>\n",
       "      <td>-0.174647</td>\n",
       "      <td>0.618019</td>\n",
       "      <td>4</td>\n",
       "      <td>1</td>\n",
       "      <td>0</td>\n",
       "      <td>0.334854</td>\n",
       "      <td>1</td>\n",
       "      <td>1</td>\n",
       "      <td>0</td>\n",
       "      <td>0</td>\n",
       "    </tr>\n",
       "    <tr>\n",
       "      <th>8</th>\n",
       "      <td>15792365</td>\n",
       "      <td>He</td>\n",
       "      <td>-1.547141</td>\n",
       "      <td>0.484225</td>\n",
       "      <td>-0.174647</td>\n",
       "      <td>1.050820</td>\n",
       "      <td>2</td>\n",
       "      <td>0</td>\n",
       "      <td>1</td>\n",
       "      <td>-0.437329</td>\n",
       "      <td>0</td>\n",
       "      <td>0</td>\n",
       "      <td>0</td>\n",
       "      <td>1</td>\n",
       "    </tr>\n",
       "    <tr>\n",
       "      <th>9</th>\n",
       "      <td>15592389</td>\n",
       "      <td>H?</td>\n",
       "      <td>0.346319</td>\n",
       "      <td>-1.136786</td>\n",
       "      <td>-0.817441</td>\n",
       "      <td>0.931463</td>\n",
       "      <td>1</td>\n",
       "      <td>1</td>\n",
       "      <td>1</td>\n",
       "      <td>-0.493230</td>\n",
       "      <td>0</td>\n",
       "      <td>0</td>\n",
       "      <td>0</td>\n",
       "      <td>1</td>\n",
       "    </tr>\n",
       "  </tbody>\n",
       "</table>\n",
       "</div>"
      ],
      "text/plain": [
       "   CustomerId   Surname  CreditScore       Age    Tenure   Balance  \\\n",
       "0    15634602  Hargrave    -0.326221  0.293517 -0.817441 -1.225848   \n",
       "1    15647311      Hill    -0.440036  0.198164 -1.138838  0.117350   \n",
       "2    15619304      Onio    -1.536794  0.293517  1.110941  1.333053   \n",
       "3    15701354      Boni     0.501521  0.007457 -1.138838 -1.225848   \n",
       "4    15737888  Mitchell     2.063884  0.388871 -0.817441  0.785728   \n",
       "5    15574012       Chu    -0.057205  0.484225  1.110941  0.597329   \n",
       "6    15592531  Bartlett     1.774174  1.056346  0.789544 -1.225848   \n",
       "7    15656148    Obinna    -2.840488 -0.946079 -0.174647  0.618019   \n",
       "8    15792365        He    -1.547141  0.484225 -0.174647  1.050820   \n",
       "9    15592389        H?     0.346319 -1.136786 -0.817441  0.931463   \n",
       "\n",
       "   NumOfProducts  HasCrCard  IsActiveMember  EstimatedSalary  Exited  \\\n",
       "0              1          1               1         0.021886       1   \n",
       "1              1          0               1         0.216534       0   \n",
       "2              3          1               0         0.240687       1   \n",
       "3              2          0               0        -0.108918       0   \n",
       "4              1          1               1        -0.365276       0   \n",
       "5              2          1               0         0.863650       1   \n",
       "6              2          1               1        -1.565487       0   \n",
       "7              4          1               0         0.334854       1   \n",
       "8              2          0               1        -0.437329       0   \n",
       "9              1          1               1        -0.493230       0   \n",
       "\n",
       "   Geography_Germany  Geography_Spain  Gender_Male  \n",
       "0                  0                0            0  \n",
       "1                  0                1            0  \n",
       "2                  0                0            0  \n",
       "3                  0                0            0  \n",
       "4                  0                1            0  \n",
       "5                  0                1            1  \n",
       "6                  0                0            1  \n",
       "7                  1                0            0  \n",
       "8                  0                0            1  \n",
       "9                  0                0            1  "
      ]
     },
     "execution_count": 9,
     "metadata": {},
     "output_type": "execute_result"
    }
   ],
   "source": [
    "churn.head(10)"
   ]
  },
  {
   "cell_type": "markdown",
   "metadata": {},
   "source": [
    "Теперь разделим нашу выборку на обучающую, валидационную и тестовую, а также отделим целевой признак от всех остальных."
   ]
  },
  {
   "cell_type": "code",
   "execution_count": 10,
   "metadata": {},
   "outputs": [],
   "source": [
    "X = churn.drop(['CustomerId', 'Surname', 'Exited'], axis=1) # ясно, что фамилия и id -- ненужные для модели признаки\n",
    "y = churn['Exited']\n",
    "X_nottest, X_test, y_nottest, y_test = train_test_split(X, y, \n",
    "                                                        test_size=0.2, random_state=42, shuffle=True)\n",
    "X_train, X_valid, y_train, y_valid = train_test_split(X_nottest, y_nottest, \n",
    "                                                      test_size=0.25, random_state=42, shuffle=True)"
   ]
  },
  {
   "cell_type": "code",
   "execution_count": 11,
   "metadata": {},
   "outputs": [
    {
     "name": "stdout",
     "output_type": "stream",
     "text": [
      "(6000, 11) (2000, 11) (2000, 11) (6000,) (2000,) (2000,)\n"
     ]
    }
   ],
   "source": [
    "print(X_train.shape, X_valid.shape, X_test.shape, y_train.shape, y_valid.shape, y_test.shape)"
   ]
  },
  {
   "cell_type": "markdown",
   "metadata": {},
   "source": [
    "Итак, данные готовы для подачи на вход модели."
   ]
  },
  {
   "cell_type": "markdown",
   "metadata": {},
   "source": [
    "## <a name=\"step2\"></a>Шаг 2. Исследуйте баланс классов, обучите модель без учёта дисбаланса"
   ]
  },
  {
   "cell_type": "markdown",
   "metadata": {},
   "source": [
    "Итак, для того, чтобы исследовать баланс классов, достаточно узнать, в каком количестве у нас имеются значения `0` и `1` в `target` (в известной части столбца, то есть `y_nottest`)."
   ]
  },
  {
   "cell_type": "code",
   "execution_count": 12,
   "metadata": {},
   "outputs": [
    {
     "data": {
      "text/plain": [
       "0    6356\n",
       "1    1644\n",
       "Name: Exited, dtype: int64"
      ]
     },
     "execution_count": 12,
     "metadata": {},
     "output_type": "execute_result"
    }
   ],
   "source": [
    "y_nottest.value_counts()"
   ]
  },
  {
   "cell_type": "markdown",
   "metadata": {},
   "source": [
    "Мы видим, что размеры классов относятся примерно как 4:1 в пользу неушедших клиентов. Будем принимать дисбаланс классов в расчёт на следующем шаге. А пока обучим модель. Перед нами стоит задача классификации. Для её решения будем использовать модели логистической регрессии и случайного леса (с вариацией гиперпараметров)."
   ]
  },
  {
   "cell_type": "markdown",
   "metadata": {},
   "source": [
    "Итак, начнём с логистической регрессии."
   ]
  },
  {
   "cell_type": "code",
   "execution_count": 13,
   "metadata": {},
   "outputs": [
    {
     "name": "stdout",
     "output_type": "stream",
     "text": [
      "F1-score for logistic regression (TRAIN): 0.31470230862697446\n",
      "F1-score for logistic regression (VALID): 0.3090909090909091\n",
      "Area under the ROC curve for logistic regression: 0.7835256495344285\n"
     ]
    }
   ],
   "source": [
    "model = LogisticRegression()\n",
    "model.fit(X_train, y_train)\n",
    "y_valid_pred_probs = model.predict_proba(X_valid)[:, 1]\n",
    "y_valid_pred = model.predict(X_valid)\n",
    "y_train_pred = model.predict(X_train)\n",
    "print('F1-score for logistic regression (TRAIN):', f1_score(y_train, y_train_pred))\n",
    "print('F1-score for logistic regression (VALID):', f1_score(y_valid, y_valid_pred))\n",
    "print('Area under the ROC curve for logistic regression:', roc_auc_score(y_valid, y_valid_pred_probs))"
   ]
  },
  {
   "cell_type": "markdown",
   "metadata": {},
   "source": [
    "Довольно неудачный показатель F1-меры у нас получился, всего лишь 0.309, площадь под ROC-кривой равна примерно 0.78. Перейдём к настройке наилучшего случайного леса. Будем варьировать два гиперпараметра — количество деревьев (от 10 до 100 с шагом 10) и максимальную глубину дерева (от 1 до 15). Если перебирать значения в двойном цикле, нужно было бы оценить 150 моделей. Для ускорения процесса сначала, фиксируя количество деревьев в лесу на уровне 20, найдём оптимальную глубину, а затем, при помощи найденной глубины найдём оптимальное количество деревьев (всего 25 моделей)."
   ]
  },
  {
   "cell_type": "code",
   "execution_count": 14,
   "metadata": {},
   "outputs": [
    {
     "name": "stdout",
     "output_type": "stream",
     "text": [
      "Best maximum depth: 13\n",
      "F1-score for best random forest (TRAIN): 0.8587155963302752\n",
      "F1-score for best random forest (VALID): 0.6039453717754173\n",
      "Area under the ROC curve for best random forest: 0.8511208655068192\n"
     ]
    }
   ],
   "source": [
    "best_f1 = 0\n",
    "best_f1_train = 0\n",
    "best_aucroc = 0\n",
    "best_depth = 0\n",
    "for depth in range(1, 16):\n",
    "    model = RandomForestClassifier(n_estimators=20, max_depth=depth, random_state=42)\n",
    "    model.fit(X_train, y_train)\n",
    "    y_valid_pred_probs = model.predict_proba(X_valid)[:, 1]\n",
    "    y_valid_pred = model.predict(X_valid)\n",
    "    y_train_pred = model.predict(X_train)\n",
    "    f1 = f1_score(y_valid, y_valid_pred)\n",
    "    f1_train = f1_score(y_train, y_train_pred)\n",
    "    aucroc = roc_auc_score(y_valid, y_valid_pred_probs)\n",
    "    if f1 > best_f1:\n",
    "        best_f1 = f1\n",
    "        best_f1_train = f1_train\n",
    "        best_aucroc = aucroc\n",
    "        best_depth = depth\n",
    "print('Best maximum depth:', best_depth)\n",
    "print('F1-score for best random forest (TRAIN):', best_f1_train)\n",
    "print('F1-score for best random forest (VALID):', best_f1)\n",
    "print('Area under the ROC curve for best random forest:', best_aucroc)"
   ]
  },
  {
   "cell_type": "markdown",
   "metadata": {},
   "source": [
    "Все целевые показатели стали выше. Получили, что оптимальная максимальная глубина деревьев равна 13. Мы уже близки к нашей цели, ведь F1-мера у нас стала равна 0.603. Но пока мы не знаем, какой она будет на тестовой выборке. Двигаемся далее."
   ]
  },
  {
   "cell_type": "code",
   "execution_count": 15,
   "metadata": {},
   "outputs": [
    {
     "name": "stdout",
     "output_type": "stream",
     "text": [
      "Best number of estimators: 20\n",
      "F1-score for best random forest (TRAIN): 0.8587155963302752\n",
      "F1-score for best random forest (VALID): 0.6039453717754173\n",
      "Area under the ROC curve for best random forest: 0.8511208655068192\n"
     ]
    }
   ],
   "source": [
    "best_f1 = 0\n",
    "best_f1_train = 0\n",
    "best_aucroc = 0\n",
    "best_ests = 0\n",
    "for ests in range(10, 110, 10):\n",
    "    model = RandomForestClassifier(n_estimators=ests, max_depth=best_depth, random_state=42)\n",
    "    model.fit(X_train, y_train)\n",
    "    y_valid_pred_probs = model.predict_proba(X_valid)[:, 1]\n",
    "    y_valid_pred = model.predict(X_valid)\n",
    "    y_train_pred = model.predict(X_train)\n",
    "    f1 = f1_score(y_valid, y_valid_pred)\n",
    "    f1_train = f1_score(y_train, y_train_pred)\n",
    "    aucroc = roc_auc_score(y_valid, y_valid_pred_probs)\n",
    "    if f1 > best_f1:\n",
    "        best_f1 = f1\n",
    "        best_f1_train = f1_train\n",
    "        best_aucroc = aucroc\n",
    "        best_ests = ests\n",
    "print('Best number of estimators:', best_ests)\n",
    "print('F1-score for best random forest (TRAIN):', best_f1_train)\n",
    "print('F1-score for best random forest (VALID):', best_f1)\n",
    "print('Area under the ROC curve for best random forest:', best_aucroc)"
   ]
  },
  {
   "cell_type": "markdown",
   "metadata": {},
   "source": [
    "Таким образом, мы можем сказать, что при дисбалансе классов (и неучитывании его моделью) логистическая регрессия справляется намного хуже (F1-мера чуть более 0.3), чем почти любая модель случайного леса. При этом, анализ показал, что наилучшее количество деревьев в лесу — 20, а наилучшая максимальная глубина — 13. На валидационной выборке мы достигли показателя F1-меры, большего 0.6, а площадь под ROC-кривой оказалась чуть больше 0.851."
   ]
  },
  {
   "cell_type": "markdown",
   "metadata": {},
   "source": [
    "## <a name=\"step3\"></a>Шаг 3. Улучшите качество модели, учитывая дисбаланс классов. Обучите разные модели и найдите лучшую"
   ]
  },
  {
   "cell_type": "markdown",
   "metadata": {},
   "source": [
    "На прошлом шаге мы выяснили, что имеет место сильный дисбаланс классов. Теперь будем тестировать те же самые модели, что и раньше, но теперь учитывая дисбаланс классов в каждой из них. Мы можем сделать это разными способами, например, апсэмплингом или даунсэмплингом. В данной работе поступим иначе. И у `LinearRegression()`, и у `RandomForestClassifier()` есть параметр, который мы будем использовать далее — `class_weight='balanced'`. Он придаст больший вес объектам с ответом `1`, причём ровно во столько раз, во сколько этот класс меньше другого (около 4 в нашем случае)."
   ]
  },
  {
   "cell_type": "markdown",
   "metadata": {},
   "source": [
    "Снова начинаем с логистической регрессии."
   ]
  },
  {
   "cell_type": "code",
   "execution_count": 16,
   "metadata": {},
   "outputs": [
    {
     "name": "stdout",
     "output_type": "stream",
     "text": [
      "F1-score for logistic regression (TRAIN, BALANCED): 0.4883855981416957\n",
      "F1-score for logistic regression (VALID, BALANCED): 0.5172413793103448\n",
      "Area under the ROC curve for logistic regression (BALANCED): 0.7847096032992031\n"
     ]
    }
   ],
   "source": [
    "model = LogisticRegression(class_weight='balanced')\n",
    "model.fit(X_train, y_train)\n",
    "y_valid_pred_probs = model.predict_proba(X_valid)[:, 1]\n",
    "y_valid_pred = model.predict(X_valid)\n",
    "y_train_pred = model.predict(X_train)\n",
    "print('F1-score for logistic regression (TRAIN, BALANCED):', f1_score(y_train, y_train_pred))\n",
    "print('F1-score for logistic regression (VALID, BALANCED):', f1_score(y_valid, y_valid_pred))\n",
    "print('Area under the ROC curve for logistic regression (BALANCED):', roc_auc_score(y_valid, y_valid_pred_probs))"
   ]
  },
  {
   "cell_type": "markdown",
   "metadata": {},
   "source": [
    "Мы наблюдаем значительное улучшение результатов для логистической регрессии после устранения дисбаланса классов. Однако, F1-мера на валидационной выборке по-прежнему ниже приемлемого уровня, она чуть превосходит 0.517. Площадь под ROC-кривой около 0.784. Руководствуясь принципами, выбранными ранее, теперь будем подбирать лучшую модель среди случайных лесов. Начнём с подбора глубина деревьев при фиксированном их числе, а затем узнаем наилучшее количество деревьев в лесу."
   ]
  },
  {
   "cell_type": "code",
   "execution_count": 17,
   "metadata": {},
   "outputs": [
    {
     "name": "stdout",
     "output_type": "stream",
     "text": [
      "Best maximum depth: 8\n",
      "F1-score for best random forest (TRAIN, BALANCED): 0.694683908045977\n",
      "F1-score for best random forest (VALID, BALANCED): 0.6351931330472103\n",
      "Area under the ROC curve for best random forest (BALANCED): 0.8717645335664623\n"
     ]
    }
   ],
   "source": [
    "best_f1 = 0\n",
    "best_f1_train = 0\n",
    "best_aucroc = 0\n",
    "best_depth = 0\n",
    "for depth in range(1, 16):\n",
    "    model = RandomForestClassifier(n_estimators=20, max_depth=depth, random_state=42, class_weight='balanced')\n",
    "    model.fit(X_train, y_train)\n",
    "    y_valid_pred_probs = model.predict_proba(X_valid)[:, 1]\n",
    "    y_valid_pred = model.predict(X_valid)\n",
    "    y_train_pred = model.predict(X_train)\n",
    "    f1 = f1_score(y_valid, y_valid_pred)\n",
    "    f1_train = f1_score(y_train, y_train_pred)\n",
    "    aucroc = roc_auc_score(y_valid, y_valid_pred_probs)\n",
    "    if f1 > best_f1:\n",
    "        best_f1 = f1\n",
    "        best_f1_train = f1_train\n",
    "        best_aucroc = aucroc\n",
    "        best_depth = depth\n",
    "print('Best maximum depth:', best_depth)\n",
    "print('F1-score for best random forest (TRAIN, BALANCED):', best_f1_train)\n",
    "print('F1-score for best random forest (VALID, BALANCED):', best_f1)\n",
    "print('Area under the ROC curve for best random forest (BALANCED):', best_aucroc)"
   ]
  },
  {
   "cell_type": "markdown",
   "metadata": {},
   "source": [
    "Итак, на валидационной выборке мы достигли уровня F1-меры в 0.635, что хорошо. Заметим, что оптимальная максимальная глубина деревьев теперь равна всего лишь 8. Далее узнаем, как это отразится на подборе количества деревьев в лесу ниже."
   ]
  },
  {
   "cell_type": "code",
   "execution_count": 18,
   "metadata": {},
   "outputs": [
    {
     "name": "stdout",
     "output_type": "stream",
     "text": [
      "Best number of estimators: 20\n",
      "F1-score for best random forest (TRAIN): 0.694683908045977\n",
      "F1-score for best random forest (VALID): 0.6351931330472103\n",
      "Area under the ROC curve for best random forest: 0.8717645335664623\n"
     ]
    }
   ],
   "source": [
    "best_f1 = 0\n",
    "best_f1_train = 0\n",
    "best_aucroc = 0\n",
    "best_ests = 0\n",
    "for ests in range(10, 110, 10):\n",
    "    model = RandomForestClassifier(n_estimators=ests, max_depth=best_depth, random_state=42, class_weight='balanced')\n",
    "    model.fit(X_train, y_train)\n",
    "    y_valid_pred_probs = model.predict_proba(X_valid)[:, 1]\n",
    "    y_valid_pred = model.predict(X_valid)\n",
    "    y_train_pred = model.predict(X_train)\n",
    "    f1 = f1_score(y_valid, y_valid_pred)\n",
    "    f1_train = f1_score(y_train, y_train_pred)\n",
    "    aucroc = roc_auc_score(y_valid, y_valid_pred_probs)\n",
    "    if f1 > best_f1:\n",
    "        best_f1 = f1\n",
    "        best_f1_train = f1_train\n",
    "        best_aucroc = aucroc\n",
    "        best_ests = ests\n",
    "print('Best number of estimators:', best_ests)\n",
    "print('F1-score for best random forest (TRAIN):', best_f1_train)\n",
    "print('F1-score for best random forest (VALID):', best_f1)\n",
    "print('Area under the ROC curve for best random forest:', best_aucroc)"
   ]
  },
  {
   "cell_type": "markdown",
   "metadata": {},
   "source": [
    "Итак, мы получили чуть улучшенные результаты, F1-мера на валидационной выборке достигла 0.635, а площадь под ROC-кривой теперь равна 0.871. Лучшей моделью становится случайный лес с 20 деревьями максимальной глубины 8 и балансировкой классов."
   ]
  },
  {
   "cell_type": "markdown",
   "metadata": {},
   "source": [
    "## <a name=\"step4\"></a>Шаг 4. Проведите финальное тестирование"
   ]
  },
  {
   "cell_type": "markdown",
   "metadata": {},
   "source": [
    "До этого момента мы никак не использовали ответы тестовой выборки (`y_test`), они в реальности нам неизвестны. Теперь мы предскажем эти значения по `X_test`. Мы ожидаем увидеть примерно те же значения F1-меры и площади под ROC-кривой, что и на валидационной выборке. Теперь мы можем обучать модель на совокупности обучающей и валидационной выборки (`X_nottest` и `y_nottest`)."
   ]
  },
  {
   "cell_type": "code",
   "execution_count": 21,
   "metadata": {},
   "outputs": [
    {
     "name": "stdout",
     "output_type": "stream",
     "text": [
      "F1-score for the best model (TEST): 0.6163793103448275\n",
      "Accuracy for the best model (TEST): 0.822\n",
      "Precision for the best model (TEST): 0.5345794392523364\n",
      "Recall for the best model (TEST): 0.727735368956743\n",
      "Area under the ROC curve for the best model: 0.86251862478248\n",
      "CPU times: user 217 ms, sys: 6.55 ms, total: 224 ms\n",
      "Wall time: 226 ms\n"
     ]
    }
   ],
   "source": [
    "%%time\n",
    "\n",
    "model = RandomForestClassifier(n_estimators=best_ests, max_depth=best_depth, random_state=42, class_weight='balanced')\n",
    "model.fit(X_nottest, y_nottest)\n",
    "y_test_pred_probs = model.predict_proba(X_test)[:, 1]\n",
    "y_test_pred = model.predict(X_test)\n",
    "print('F1-score for the best model (TEST):', f1_score(y_test, y_test_pred))\n",
    "print('Accuracy for the best model (TEST):', accuracy_score(y_test, y_test_pred))\n",
    "print('Precision for the best model (TEST):', precision_score(y_test, y_test_pred))\n",
    "print('Recall for the best model (TEST):', recall_score(y_test, y_test_pred))\n",
    "print('Area under the ROC curve for the best model:', roc_auc_score(y_test, y_test_pred_probs))"
   ]
  },
  {
   "cell_type": "markdown",
   "metadata": {},
   "source": [
    "Да, значение F1-меры превысило 0.616, основная задача нами выполнена, мы достигли необходимого порога в 0.59 на тестовой выборке. Значение площади под ROC-кривой в данном случае примерно равно 0.862. Для более цельной картины мы подсчитали и другие известные нам метрики."
   ]
  },
  {
   "cell_type": "markdown",
   "metadata": {},
   "source": [
    "Таким образом, мы построили предсказательную модель, которая удовлетворяет требованиям задачи. Время её работы не превосходит 1 секунды, что является отличным результатом."
   ]
  }
 ],
 "metadata": {
  "kernelspec": {
   "display_name": "Python 3",
   "language": "python",
   "name": "python3"
  },
  "language_info": {
   "codemirror_mode": {
    "name": "ipython",
    "version": 3
   },
   "file_extension": ".py",
   "mimetype": "text/x-python",
   "name": "python",
   "nbconvert_exporter": "python",
   "pygments_lexer": "ipython3",
   "version": "3.8.5"
  }
 },
 "nbformat": 4,
 "nbformat_minor": 4
}
