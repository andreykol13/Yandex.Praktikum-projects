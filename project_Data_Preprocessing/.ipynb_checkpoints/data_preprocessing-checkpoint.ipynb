{
 "cells": [
  {
   "cell_type": "markdown",
   "metadata": {},
   "source": [
    "# Проект по теме \"Предобработка данных\""
   ]
  },
  {
   "cell_type": "markdown",
   "metadata": {},
   "source": [
    "## Описание проекта"
   ]
  },
  {
   "cell_type": "markdown",
   "metadata": {},
   "source": [
    "Заказчик — кредитный отдел банка. Нужно разобраться, влияет ли семейное положение, уровень дохода, цель кредита и количество детей клиента на факт погашения кредита в срок. Входные данные от банка — статистика о платёжеспособности клиентов.\n",
    "Результаты исследования будут учтены при построении модели кредитного скоринга — специальной системы, которая оценивает способность потенциального заёмщика вернуть кредит банку."
   ]
  },
  {
   "cell_type": "markdown",
   "metadata": {},
   "source": [
    "## План выполнения проекта"
   ]
  },
  {
   "cell_type": "markdown",
   "metadata": {},
   "source": [
    "1. <b> Откройте таблицу и изучите общую информацию о данных </b> <i> (путь к файлу: /datasets/data.csv) </i>\n",
    "1. <b> Предобработка данных </b>\n",
    "    1. определите и заполните пропущенные значения:\n",
    "        1. <i> опишите, какие пропущенные значения вы обнаружили; </i>\n",
    "        1. <i> приведите возможные причины появления пропусков в данных; </i>\n",
    "        1. <i> объясните, по какому принципу заполнены пропуски; </i>\n",
    "    1. замените вещественный тип данных на целочисленный:\n",
    "        1. <i> поясните, как выбирали метод для изменения типа данных; </i>\n",
    "    1. удалите дубликаты:\n",
    "        1. <i> поясните, как выбирали метод для поиска и удаления дубликатов в данных; </i>\n",
    "        1. <i> приведите возможные причины появления дубликатов; </i>\n",
    "    1. выделите леммы в значениях столбца с целями получения кредита:\n",
    "        1. <i> опишите, как вы проводили лемматизацию целей кредита; </i>\n",
    "    1. категоризируйте данные:\n",
    "        1. <i> перечислите, какие «словари» вы выделили для этого набора данных, и объясните, почему. </i>\n",
    "1. <b> Ответьте на вопросы </b>  <i> (ответы сопроводите интерпретацией — поясните, о чём именно говорит полученный вами результат) </i>\n",
    "    1. Есть ли зависимость между наличием детей и возвратом кредита в срок?\n",
    "    1. Есть ли зависимость между семейным положением и возвратом кредита в срок?\n",
    "    1. Есть ли зависимость между уровнем дохода и возвратом кредита в срок?\n",
    "    1. Как разные цели кредита влияют на его возврат в срок?\n",
    "1. <b> Напишите общий вывод </b>"
   ]
  },
  {
   "cell_type": "markdown",
   "metadata": {},
   "source": [
    "## Шаг 1. Откройте таблицу и изучите общую информацию о данных"
   ]
  },
  {
   "cell_type": "code",
   "execution_count": 1,
   "metadata": {},
   "outputs": [],
   "source": [
    "import pandas as pd\n",
    "import math\n",
    "import sys"
   ]
  },
  {
   "cell_type": "code",
   "execution_count": 2,
   "metadata": {},
   "outputs": [
    {
     "name": "stdout",
     "output_type": "stream",
     "text": [
      "<class 'pandas.core.frame.DataFrame'>\n",
      "RangeIndex: 21525 entries, 0 to 21524\n",
      "Data columns (total 12 columns):\n",
      "children            21525 non-null int64\n",
      "days_employed       19351 non-null float64\n",
      "dob_years           21525 non-null int64\n",
      "education           21525 non-null object\n",
      "education_id        21525 non-null int64\n",
      "family_status       21525 non-null object\n",
      "family_status_id    21525 non-null int64\n",
      "gender              21525 non-null object\n",
      "income_type         21525 non-null object\n",
      "debt                21525 non-null int64\n",
      "total_income        19351 non-null float64\n",
      "purpose             21525 non-null object\n",
      "dtypes: float64(2), int64(5), object(5)\n",
      "memory usage: 2.0+ MB\n",
      "None\n",
      "Index(['children', 'days_employed', 'dob_years', 'education', 'education_id',\n",
      "       'family_status', 'family_status_id', 'gender', 'income_type', 'debt',\n",
      "       'total_income', 'purpose'],\n",
      "      dtype='object')\n",
      "   children  days_employed  dob_years education  education_id  \\\n",
      "0         1   -8437.673028         42    высшее             0   \n",
      "1         1   -4024.803754         36   среднее             1   \n",
      "2         0   -5623.422610         33   Среднее             1   \n",
      "3         3   -4124.747207         32   среднее             1   \n",
      "4         0  340266.072047         53   среднее             1   \n",
      "5         0    -926.185831         27    высшее             0   \n",
      "6         0   -2879.202052         43    высшее             0   \n",
      "7         0    -152.779569         50   СРЕДНЕЕ             1   \n",
      "8         2   -6929.865299         35    ВЫСШЕЕ             0   \n",
      "9         0   -2188.756445         41   среднее             1   \n",
      "\n",
      "      family_status  family_status_id gender income_type  debt   total_income  \\\n",
      "0   женат / замужем                 0      F   сотрудник     0  253875.639453   \n",
      "1   женат / замужем                 0      F   сотрудник     0  112080.014102   \n",
      "2   женат / замужем                 0      M   сотрудник     0  145885.952297   \n",
      "3   женат / замужем                 0      M   сотрудник     0  267628.550329   \n",
      "4  гражданский брак                 1      F   пенсионер     0  158616.077870   \n",
      "5  гражданский брак                 1      M   компаньон     0  255763.565419   \n",
      "6   женат / замужем                 0      F   компаньон     0  240525.971920   \n",
      "7   женат / замужем                 0      M   сотрудник     0  135823.934197   \n",
      "8  гражданский брак                 1      F   сотрудник     0   95856.832424   \n",
      "9   женат / замужем                 0      M   сотрудник     0  144425.938277   \n",
      "\n",
      "                      purpose  \n",
      "0               покупка жилья  \n",
      "1     приобретение автомобиля  \n",
      "2               покупка жилья  \n",
      "3  дополнительное образование  \n",
      "4             сыграть свадьбу  \n",
      "5               покупка жилья  \n",
      "6           операции с жильем  \n",
      "7                 образование  \n",
      "8       на проведение свадьбы  \n",
      "9     покупка жилья для семьи  \n"
     ]
    }
   ],
   "source": [
    "try:\n",
    "    # clients_credit = pd.read_csv('/Users/Andrejkolesnik/PycharmProjects/project_Data_Preprocessing/data.csv')\n",
    "    clients_credit = pd.read_csv('/datasets/data.csv')\n",
    "    print(clients_credit.info())\n",
    "    print(clients_credit.columns)\n",
    "    print(clients_credit.head(10))\n",
    "except:\n",
    "    print('Проблемы со считыванием файла.')"
   ]
  },
  {
   "cell_type": "markdown",
   "metadata": {},
   "source": [
    "Названия столбцов корректны: в них нет пробелов и символов за пределами латиницы, цифр и символа подчеркивания. Однако, мы видим, что имеются пропуски данных в столбцах days_employed и total_income, от которых нужно будет избавиться, а также установить причину их появления. Также видим, что эти же столбцы имеют вещественный тип данных, который мы позже заменим на целочисленный."
   ]
  },
  {
   "cell_type": "markdown",
   "metadata": {},
   "source": [
    "## Шаг 2. Предобработка данных\n",
    "### Определите и заполните пропущенные значения"
   ]
  },
  {
   "cell_type": "markdown",
   "metadata": {},
   "source": [
    "Пройдемся по всем столбцам таблицы, отыщем в них аномальные и пропущенные значения и заменим их. Начнем со столбца children — количество детей."
   ]
  },
  {
   "cell_type": "code",
   "execution_count": 3,
   "metadata": {},
   "outputs": [
    {
     "name": "stdout",
     "output_type": "stream",
     "text": [
      " 0     14149\n",
      " 1      4818\n",
      " 2      2055\n",
      " 3       330\n",
      " 20       76\n",
      "-1        47\n",
      " 4        41\n",
      " 5         9\n",
      "Name: children, dtype: int64\n"
     ]
    }
   ],
   "source": [
    "print(clients_credit['children'].value_counts())"
   ]
  },
  {
   "cell_type": "markdown",
   "metadata": {},
   "source": [
    "При рассмотрении информации о столбце children мы видим несколько аномальных значений. Отчетливо замечаем отрицательное количество детей (-1) целых 47 раз, а также 20 детей в 76 случаях из 21525. Считаю верным решением заменить данные в этом столбце следующим образом: -1 на 1, а 20 на 2 (причина: опечатка человека, вносящего данные в таблицу)."
   ]
  },
  {
   "cell_type": "code",
   "execution_count": 4,
   "metadata": {},
   "outputs": [
    {
     "name": "stdout",
     "output_type": "stream",
     "text": [
      "0    14149\n",
      "1     4865\n",
      "2     2131\n",
      "3      330\n",
      "4       41\n",
      "5        9\n",
      "Name: children, dtype: int64\n"
     ]
    }
   ],
   "source": [
    "clients_credit['children'] = clients_credit['children'].replace(-1, 1)\n",
    "clients_credit['children'] = clients_credit['children'].replace(20, 2)\n",
    "print(clients_credit['children'].value_counts())"
   ]
  },
  {
   "cell_type": "markdown",
   "metadata": {},
   "source": [
    "Следующий столбец days_employed (трудовой стаж, выраженный в днях) имеет пропущенные значения."
   ]
  },
  {
   "cell_type": "code",
   "execution_count": 5,
   "metadata": {},
   "outputs": [
    {
     "name": "stdout",
     "output_type": "stream",
     "text": [
      "count     19351.000000\n",
      "mean      63046.497661\n",
      "std      140827.311974\n",
      "min      -18388.949901\n",
      "25%       -2747.423625\n",
      "50%       -1203.369529\n",
      "75%        -291.095954\n",
      "max      401755.400475\n",
      "Name: days_employed, dtype: float64\n"
     ]
    }
   ],
   "source": [
    "print(clients_credit['days_employed'].describe())"
   ]
  },
  {
   "cell_type": "markdown",
   "metadata": {},
   "source": [
    "Видим, что около двух тысяч значений в столбце пропущено (21525 записей всего, в этом столбце их всего 19351). Возможно, они возникли из-за отсутствия возможности на месте посмотреть стаж в трудовой книжке. Однако, есть и иные проблемы. Адекватные значения переменной (стаж до 70 лет к примеру, то есть около 25 тысяч дней) являются отрицательными. Причина понятна: скорее всего, при подсчете стажа работы человека из даты начала работы вычли текущую дату, а не наоборот. Все положительные же значения не являются сколь угодно реалистичными. Решим этот вопрос так: все положительные значения (и изначальные пропуски) заменим на медиану всех отрицательных значений. После этого просто сделаем все значения положительными, сменив знак. Выбор медианы вместо среднего обусловлен тем, что есть люди с опытом работы гораздо выше среднего (и даже намного выше 75-й перцентили), они смещают среднее сильно в большую сторону."
   ]
  },
  {
   "cell_type": "code",
   "execution_count": 6,
   "metadata": {},
   "outputs": [
    {
     "name": "stdout",
     "output_type": "stream",
     "text": [
      "count    21525.000000\n",
      "mean      2164.281083\n",
      "std       2006.061675\n",
      "min         24.141633\n",
      "25%       1025.608174\n",
      "50%       1630.019381\n",
      "75%       2518.168900\n",
      "max      18388.949901\n",
      "Name: days_employed, dtype: float64\n"
     ]
    }
   ],
   "source": [
    "neg_true_median = clients_credit[clients_credit['days_employed'] < 0]['days_employed'].median()\n",
    "# медиана по \"реальным\" значениям, с минусом\n",
    "\n",
    "def days_emp_corr(d_emp): # функция замены значений\n",
    "    if d_emp > 0 or math.isnan(d_emp):\n",
    "        return -neg_true_median\n",
    "    return -d_emp\n",
    "\n",
    "clients_credit['days_employed'] = clients_credit['days_employed'].apply(days_emp_corr)\n",
    "print(clients_credit['days_employed'].describe())"
   ]
  },
  {
   "cell_type": "markdown",
   "metadata": {},
   "source": [
    "Перейдем к столбцу dob_years, показывающий возраст клиента в годах."
   ]
  },
  {
   "cell_type": "code",
   "execution_count": 7,
   "metadata": {},
   "outputs": [
    {
     "name": "stdout",
     "output_type": "stream",
     "text": [
      "count    21525.000000\n",
      "mean        43.293380\n",
      "std         12.574584\n",
      "min          0.000000\n",
      "25%         33.000000\n",
      "50%         42.000000\n",
      "75%         53.000000\n",
      "max         75.000000\n",
      "Name: dob_years, dtype: float64\n",
      "Empty DataFrame\n",
      "Columns: [children, days_employed, dob_years, education, education_id, family_status, family_status_id, gender, income_type, debt, total_income, purpose]\n",
      "Index: []\n"
     ]
    }
   ],
   "source": [
    "print(clients_credit['dob_years'].describe())\n",
    "print(clients_credit[(clients_credit['dob_years'] > 0) & (clients_credit['dob_years'] < 18)])\n",
    "# кредит можно получить лишь с 18 лет, моложе 18 никого нет, Empty DataFrame, все хорошо"
   ]
  },
  {
   "cell_type": "markdown",
   "metadata": {},
   "source": [
    "Мы видим часть записей с возрастом 0 лет. Очевидно, так заменили пропуски. Они, скорее всего, возникли из-за того, что клиент просто не указал свой возраст в анкете. Заменим нулевой возраст на значение, равное 18 годам + стажу работы в годах, а затем округлим его, потому что при игнорировании этого факта получается перекос в сторону меньшего возраста. В остальном же столбец проблем не имеет."
   ]
  },
  {
   "cell_type": "code",
   "execution_count": 8,
   "metadata": {},
   "outputs": [
    {
     "name": "stdout",
     "output_type": "stream",
     "text": [
      "count    21525.000000\n",
      "mean        43.403484\n",
      "std         12.299707\n",
      "min         18.000000\n",
      "25%         33.000000\n",
      "50%         42.000000\n",
      "75%         53.000000\n",
      "max         75.000000\n",
      "Name: dob_years, dtype: float64\n"
     ]
    }
   ],
   "source": [
    "# mean_nonzero = round(clients_credit[(clients_credit['dob_years'] > 0)]['dob_years'].mean())\n",
    "clients_credit['dob_years'] = clients_credit['dob_years'].replace(0, 18 + round(clients_credit['days_employed'] / 365.25))\n",
    "print(clients_credit['dob_years'].describe())"
   ]
  },
  {
   "cell_type": "markdown",
   "metadata": {},
   "source": [
    "Далее идет столбец education (образование клиента)."
   ]
  },
  {
   "cell_type": "code",
   "execution_count": 9,
   "metadata": {},
   "outputs": [
    {
     "name": "stdout",
     "output_type": "stream",
     "text": [
      "среднее                13750\n",
      "высшее                  4718\n",
      "СРЕДНЕЕ                  772\n",
      "Среднее                  711\n",
      "неоконченное высшее      668\n",
      "ВЫСШЕЕ                   274\n",
      "Высшее                   268\n",
      "начальное                250\n",
      "Неоконченное высшее       47\n",
      "НЕОКОНЧЕННОЕ ВЫСШЕЕ       29\n",
      "НАЧАЛЬНОЕ                 17\n",
      "Начальное                 15\n",
      "ученая степень             4\n",
      "Ученая степень             1\n",
      "УЧЕНАЯ СТЕПЕНЬ             1\n",
      "Name: education, dtype: int64\n"
     ]
    }
   ],
   "source": [
    "print(clients_credit['education'].value_counts())"
   ]
  },
  {
   "cell_type": "markdown",
   "metadata": {},
   "source": [
    "Видим явные повторы значений, которые не должны быть в разных категориях. Приведем значения к нижнему регистру."
   ]
  },
  {
   "cell_type": "code",
   "execution_count": 10,
   "metadata": {},
   "outputs": [
    {
     "name": "stdout",
     "output_type": "stream",
     "text": [
      "среднее                15233\n",
      "высшее                  5260\n",
      "неоконченное высшее      744\n",
      "начальное                282\n",
      "ученая степень             6\n",
      "Name: education, dtype: int64\n"
     ]
    }
   ],
   "source": [
    "clients_credit['education'] = clients_credit['education'].str.lower()\n",
    "print(clients_credit['education'].value_counts())"
   ]
  },
  {
   "cell_type": "markdown",
   "metadata": {},
   "source": [
    "Теперь с этим столбцом все хорошо. Следом идет столбец education_id, кодирующий столбец education числами."
   ]
  },
  {
   "cell_type": "code",
   "execution_count": 11,
   "metadata": {},
   "outputs": [
    {
     "name": "stdout",
     "output_type": "stream",
     "text": [
      "1    15233\n",
      "0     5260\n",
      "2      744\n",
      "3      282\n",
      "4        6\n",
      "Name: education_id, dtype: int64\n"
     ]
    }
   ],
   "source": [
    "print(clients_credit['education_id'].value_counts())"
   ]
  },
  {
   "cell_type": "markdown",
   "metadata": {},
   "source": [
    "Количество записей в категориях совпадают с теми, что мы видели в столбце education. Значит, кодирование корректное. Подробнее рассмотрим столбец family_status, связанный с семейным положением клиента."
   ]
  },
  {
   "cell_type": "code",
   "execution_count": 12,
   "metadata": {},
   "outputs": [
    {
     "name": "stdout",
     "output_type": "stream",
     "text": [
      "женат / замужем          12380\n",
      "гражданский брак          4177\n",
      "Не женат / не замужем     2813\n",
      "в разводе                 1195\n",
      "вдовец / вдова             960\n",
      "Name: family_status, dtype: int64\n"
     ]
    }
   ],
   "source": [
    "print(clients_credit['family_status'].value_counts())"
   ]
  },
  {
   "cell_type": "markdown",
   "metadata": {},
   "source": [
    "Здесь почти нет никаких проблем, лишь стоит привести все строки к нижнему регистру для унификации."
   ]
  },
  {
   "cell_type": "code",
   "execution_count": 13,
   "metadata": {},
   "outputs": [
    {
     "name": "stdout",
     "output_type": "stream",
     "text": [
      "женат / замужем          12380\n",
      "гражданский брак          4177\n",
      "не женат / не замужем     2813\n",
      "в разводе                 1195\n",
      "вдовец / вдова             960\n",
      "Name: family_status, dtype: int64\n"
     ]
    }
   ],
   "source": [
    "clients_credit['family_status'] = clients_credit['family_status'].str.lower()\n",
    "print(clients_credit['family_status'].value_counts())"
   ]
  },
  {
   "cell_type": "markdown",
   "metadata": {},
   "source": [
    "Аналогично предыдущей паре столбцов мы видим пару family_status и family_status_id. Проверяем корректность кодирования."
   ]
  },
  {
   "cell_type": "code",
   "execution_count": 14,
   "metadata": {},
   "outputs": [
    {
     "name": "stdout",
     "output_type": "stream",
     "text": [
      "0    12380\n",
      "1     4177\n",
      "4     2813\n",
      "3     1195\n",
      "2      960\n",
      "Name: family_status_id, dtype: int64\n"
     ]
    }
   ],
   "source": [
    "print(clients_credit['family_status_id'].value_counts())"
   ]
  },
  {
   "cell_type": "markdown",
   "metadata": {},
   "source": [
    "Количество записей в каждой категории совпало с ранее увиденными. Следующий на очереди столбец — gender (пол человека)."
   ]
  },
  {
   "cell_type": "code",
   "execution_count": 15,
   "metadata": {},
   "outputs": [
    {
     "name": "stdout",
     "output_type": "stream",
     "text": [
      "F      14236\n",
      "M       7288\n",
      "XNA        1\n",
      "Name: gender, dtype: int64\n"
     ]
    }
   ],
   "source": [
    "print(clients_credit['gender'].value_counts())"
   ]
  },
  {
   "cell_type": "markdown",
   "metadata": {},
   "source": [
    "Случай пола XNA единичный на более чем 21 тысячу записей, поэтому считаю допустимым заменить значение XNA на F, как на самое популярное значение в столбце. "
   ]
  },
  {
   "cell_type": "code",
   "execution_count": 16,
   "metadata": {},
   "outputs": [
    {
     "name": "stdout",
     "output_type": "stream",
     "text": [
      "F    14237\n",
      "M     7288\n",
      "Name: gender, dtype: int64\n"
     ]
    }
   ],
   "source": [
    "clients_credit['gender'] = clients_credit['gender'].replace('XNA', 'F')\n",
    "print(clients_credit['gender'].value_counts())"
   ]
  },
  {
   "cell_type": "markdown",
   "metadata": {},
   "source": [
    "В столбце income_type записан тип занятости клиента, рассмотрим его значения."
   ]
  },
  {
   "cell_type": "code",
   "execution_count": 17,
   "metadata": {},
   "outputs": [
    {
     "name": "stdout",
     "output_type": "stream",
     "text": [
      "сотрудник          11119\n",
      "компаньон           5085\n",
      "пенсионер           3856\n",
      "госслужащий         1459\n",
      "безработный            2\n",
      "предприниматель        2\n",
      "в декрете              1\n",
      "студент                1\n",
      "Name: income_type, dtype: int64\n"
     ]
    }
   ],
   "source": [
    "print(clients_credit['income_type'].value_counts())"
   ]
  },
  {
   "cell_type": "markdown",
   "metadata": {},
   "source": [
    "Никаких аномалий нет. Далее анализируем значения в debt — столбце, где указано, имел ли клиент задолженность по возврату кредитов."
   ]
  },
  {
   "cell_type": "code",
   "execution_count": 18,
   "metadata": {},
   "outputs": [
    {
     "name": "stdout",
     "output_type": "stream",
     "text": [
      "0    19784\n",
      "1     1741\n",
      "Name: debt, dtype: int64\n"
     ]
    }
   ],
   "source": [
    "print(clients_credit['debt'].value_counts())"
   ]
  },
  {
   "cell_type": "markdown",
   "metadata": {},
   "source": [
    "И снова нет никаких аномалий. Еще один столбец с пропусками — total_income — ежемесячный доход клиента. Некоторые значения пропущены, возможно, из-за нежелания человека публиковать размер личных доходов."
   ]
  },
  {
   "cell_type": "code",
   "execution_count": 19,
   "metadata": {},
   "outputs": [
    {
     "name": "stdout",
     "output_type": "stream",
     "text": [
      "count      19351.000000\n",
      "mean      167422.302208\n",
      "std       102971.566448\n",
      "min        20667.263793\n",
      "25%       103053.152913\n",
      "50%       145017.937533\n",
      "75%       203435.067663\n",
      "max      2265604.028723\n",
      "Name: total_income, dtype: object\n"
     ]
    }
   ],
   "source": [
    "print(clients_credit['total_income'].describe().apply(lambda x: format(x, 'f')))\n",
    "# добавили apply, чтоб избежать экспоненциальной нотации"
   ]
  },
  {
   "cell_type": "markdown",
   "metadata": {},
   "source": [
    "Не очень правильно заменять пропуски в зарплате средним или медианным значением всего столбца. Получится так, что и пенсионер, и студент, и компаньон получат одинаковую зарплату. Постараемся заполнить столбец доходов более разумно и не очень сложно. Предлагается заменять пропуск на медианное (зарплаты, как правило, имеют выбросы на концах распределения, поэтому не выбираем среднее) значение в своей категории income_type."
   ]
  },
  {
   "cell_type": "code",
   "execution_count": 20,
   "metadata": {},
   "outputs": [
    {
     "name": "stdout",
     "output_type": "stream",
     "text": [
      "count      21525.000000\n",
      "mean      165225.324514\n",
      "std        98043.665491\n",
      "min        20667.263793\n",
      "25%       107798.172619\n",
      "50%       142594.396847\n",
      "75%       195549.940861\n",
      "max      2265604.028723\n",
      "Name: total_income, dtype: object\n"
     ]
    }
   ],
   "source": [
    "clients_credit['total_income'] = clients_credit.groupby('income_type')['total_income'].transform(lambda group: group.fillna(group.median()))\n",
    "print(clients_credit['total_income'].describe().apply(lambda x: format(x, 'f')))"
   ]
  },
  {
   "cell_type": "markdown",
   "metadata": {},
   "source": [
    "Наконец, столбец purpose — цель получения кредита."
   ]
  },
  {
   "cell_type": "code",
   "execution_count": 21,
   "metadata": {},
   "outputs": [
    {
     "name": "stdout",
     "output_type": "stream",
     "text": [
      "свадьба                                   797\n",
      "на проведение свадьбы                     777\n",
      "сыграть свадьбу                           774\n",
      "операции с недвижимостью                  676\n",
      "покупка коммерческой недвижимости         664\n",
      "покупка жилья для сдачи                   653\n",
      "операции с жильем                         653\n",
      "операции с коммерческой недвижимостью     651\n",
      "жилье                                     647\n",
      "покупка жилья                             647\n",
      "покупка жилья для семьи                   641\n",
      "строительство собственной недвижимости    635\n",
      "недвижимость                              634\n",
      "операции со своей недвижимостью           630\n",
      "строительство жилой недвижимости          626\n",
      "покупка недвижимости                      624\n",
      "строительство недвижимости                620\n",
      "покупка своего жилья                      620\n",
      "ремонт жилью                              612\n",
      "покупка жилой недвижимости                607\n",
      "на покупку своего автомобиля              505\n",
      "заняться высшим образованием              496\n",
      "автомобиль                                495\n",
      "сделка с подержанным автомобилем          489\n",
      "свой автомобиль                           480\n",
      "на покупку подержанного автомобиля        479\n",
      "автомобили                                478\n",
      "на покупку автомобиля                     472\n",
      "дополнительное образование                462\n",
      "приобретение автомобиля                   462\n",
      "сделка с автомобилем                      455\n",
      "высшее образование                        453\n",
      "получение дополнительного образования     447\n",
      "образование                               447\n",
      "получение образования                     443\n",
      "профильное образование                    436\n",
      "получение высшего образования             426\n",
      "заняться образованием                     412\n",
      "Name: purpose, dtype: int64\n"
     ]
    }
   ],
   "source": [
    "print(clients_credit['purpose'].value_counts())"
   ]
  },
  {
   "cell_type": "markdown",
   "metadata": {},
   "source": [
    "Уже видим, что многие значения близки друг к другу, их нужно объединить в осмысленные категории. Сделаем лемматизацию чуть позднее. Явных аномалий в столбце не наблюдается. Еще раз посмотрим на общую информацию о наших данных."
   ]
  },
  {
   "cell_type": "code",
   "execution_count": 22,
   "metadata": {},
   "outputs": [
    {
     "name": "stdout",
     "output_type": "stream",
     "text": [
      "<class 'pandas.core.frame.DataFrame'>\n",
      "RangeIndex: 21525 entries, 0 to 21524\n",
      "Data columns (total 12 columns):\n",
      "children            21525 non-null int64\n",
      "days_employed       21525 non-null float64\n",
      "dob_years           21525 non-null int64\n",
      "education           21525 non-null object\n",
      "education_id        21525 non-null int64\n",
      "family_status       21525 non-null object\n",
      "family_status_id    21525 non-null int64\n",
      "gender              21525 non-null object\n",
      "income_type         21525 non-null object\n",
      "debt                21525 non-null int64\n",
      "total_income        21525 non-null float64\n",
      "purpose             21525 non-null object\n",
      "dtypes: float64(2), int64(5), object(5)\n",
      "memory usage: 2.0+ MB\n",
      "None\n"
     ]
    }
   ],
   "source": [
    "print(clients_credit.info())"
   ]
  },
  {
   "cell_type": "markdown",
   "metadata": {},
   "source": [
    "Итак, мы избавились от пропусков в данных, а также от аномалий в них."
   ]
  },
  {
   "cell_type": "markdown",
   "metadata": {},
   "source": [
    "### Замените вещественный тип данных на целочисленный"
   ]
  },
  {
   "cell_type": "markdown",
   "metadata": {},
   "source": [
    "На этом этапе мы работаем лишь с двумя столбцами — days_employed и total_income, имеющими тип данных float64. Заменим этот тип данных в столбцах на int64, то есть на целочисленный. Сделаем это с помощью метода astype(), потому что в обоих столбцах данных мы уже имеем числовой тип данных."
   ]
  },
  {
   "cell_type": "code",
   "execution_count": 23,
   "metadata": {},
   "outputs": [
    {
     "name": "stdout",
     "output_type": "stream",
     "text": [
      "<class 'pandas.core.frame.DataFrame'>\n",
      "RangeIndex: 21525 entries, 0 to 21524\n",
      "Data columns (total 12 columns):\n",
      "children            21525 non-null int64\n",
      "days_employed       21525 non-null int64\n",
      "dob_years           21525 non-null int64\n",
      "education           21525 non-null object\n",
      "education_id        21525 non-null int64\n",
      "family_status       21525 non-null object\n",
      "family_status_id    21525 non-null int64\n",
      "gender              21525 non-null object\n",
      "income_type         21525 non-null object\n",
      "debt                21525 non-null int64\n",
      "total_income        21525 non-null int64\n",
      "purpose             21525 non-null object\n",
      "dtypes: int64(7), object(5)\n",
      "memory usage: 2.0+ MB\n",
      "None\n"
     ]
    }
   ],
   "source": [
    "clients_credit['days_employed'] = clients_credit['days_employed'].astype(int)\n",
    "clients_credit['total_income'] = clients_credit['total_income'].astype(int)\n",
    "print(clients_credit.info())"
   ]
  },
  {
   "cell_type": "markdown",
   "metadata": {},
   "source": [
    "Теперь мы отчетливо видим, что в данных присутствуют лишь значения типа object или int64, что и требовалось."
   ]
  },
  {
   "cell_type": "markdown",
   "metadata": {},
   "source": [
    "### Удалите дубликаты"
   ]
  },
  {
   "cell_type": "markdown",
   "metadata": {},
   "source": [
    "Пришло время разобраться с дубликатами в таблице. Сначала узнаем их количество. Для этого воспользуемся методом duplicated(), получим с его помощью Series со значениями True или False. Затем считая количество True в последовательности, узнаем количество полных дубликатов."
   ]
  },
  {
   "cell_type": "code",
   "execution_count": 24,
   "metadata": {},
   "outputs": [
    {
     "name": "stdout",
     "output_type": "stream",
     "text": [
      "71\n"
     ]
    }
   ],
   "source": [
    "print(clients_credit.duplicated().sum())"
   ]
  },
  {
   "cell_type": "markdown",
   "metadata": {},
   "source": [
    "Удалим дубликаты с помощью метода drop_duplicates(). Вместе с этим удалятся и индексы записей. Чтобы восстановить их естественный порядок, используем метод reset_index(drop=True), где drop=True имеет смысл удаления старой (\"дырявой\") последовательности индексов."
   ]
  },
  {
   "cell_type": "code",
   "execution_count": 25,
   "metadata": {},
   "outputs": [
    {
     "name": "stdout",
     "output_type": "stream",
     "text": [
      "0\n"
     ]
    }
   ],
   "source": [
    "clients_credit = clients_credit.drop_duplicates().reset_index(drop=True)\n",
    "print(clients_credit.duplicated().sum()) # количество дубликатов после удаления"
   ]
  },
  {
   "cell_type": "markdown",
   "metadata": {},
   "source": [
    "Дубликаты исчезли. По моему мнению, они могли появиться по двум причинам. Во-первых, ошибка системы или человека, который заполняет данные. Во-вторых, сам клиент мог прийти дважды (подумав, что про него забыли в банке) и дважды написать одни и те же данные в разных анкетах."
   ]
  },
  {
   "cell_type": "markdown",
   "metadata": {},
   "source": [
    "### Выделите леммы в значениях столбца с целями получения кредита"
   ]
  },
  {
   "cell_type": "markdown",
   "metadata": {},
   "source": [
    "Как было ранее показано, в столбце purpose мы имеем много разных уникальных текстовых значений. Еще раз выведем их на экран."
   ]
  },
  {
   "cell_type": "code",
   "execution_count": 26,
   "metadata": {
    "scrolled": true
   },
   "outputs": [
    {
     "name": "stdout",
     "output_type": "stream",
     "text": [
      "свадьба                                   791\n",
      "на проведение свадьбы                     768\n",
      "сыграть свадьбу                           765\n",
      "операции с недвижимостью                  675\n",
      "покупка коммерческой недвижимости         661\n",
      "операции с жильем                         652\n",
      "покупка жилья для сдачи                   651\n",
      "операции с коммерческой недвижимостью     650\n",
      "жилье                                     646\n",
      "покупка жилья                             646\n",
      "покупка жилья для семьи                   638\n",
      "строительство собственной недвижимости    635\n",
      "недвижимость                              633\n",
      "операции со своей недвижимостью           627\n",
      "строительство жилой недвижимости          624\n",
      "покупка недвижимости                      621\n",
      "покупка своего жилья                      620\n",
      "строительство недвижимости                619\n",
      "ремонт жилью                              607\n",
      "покупка жилой недвижимости                606\n",
      "на покупку своего автомобиля              505\n",
      "заняться высшим образованием              496\n",
      "автомобиль                                494\n",
      "сделка с подержанным автомобилем          486\n",
      "на покупку подержанного автомобиля        478\n",
      "автомобили                                478\n",
      "свой автомобиль                           478\n",
      "на покупку автомобиля                     471\n",
      "приобретение автомобиля                   461\n",
      "дополнительное образование                460\n",
      "сделка с автомобилем                      455\n",
      "высшее образование                        452\n",
      "образование                               447\n",
      "получение дополнительного образования     446\n",
      "получение образования                     442\n",
      "профильное образование                    436\n",
      "получение высшего образования             426\n",
      "заняться образованием                     408\n",
      "Name: purpose, dtype: int64\n"
     ]
    }
   ],
   "source": [
    "print(clients_credit['purpose'].value_counts())"
   ]
  },
  {
   "cell_type": "markdown",
   "metadata": {},
   "source": [
    "Их, однако, можно разделить на вполне логичные группы. Уже можно сказать, какие они будут: свадьба, жилье/недвижимость (категории можно было бы и разделить, но чаще всего жильем называется как раз собственная недвижимость), автомобиль, образование. Проведем лемматизацию строк в этом столбце. Для этого воспользуемся лемматизатором на русском языке Mystem из библиотеки pymystem3."
   ]
  },
  {
   "cell_type": "code",
   "execution_count": 27,
   "metadata": {},
   "outputs": [
    {
     "name": "stdout",
     "output_type": "stream",
     "text": [
      "жилье / недвижимость    10811\n",
      "автомобиль               4306\n",
      "образование              4013\n",
      "свадьба                  2324\n",
      "Name: purpose, dtype: int64\n"
     ]
    }
   ],
   "source": [
    "try:\n",
    "    from pymystem3 import Mystem # импортируем лемматизатор на русском языке\n",
    "except:\n",
    "    print('Кажется, не установлена библиотека pymystem3.')\n",
    "    sys.exit()\n",
    "\n",
    "\n",
    "m = Mystem()\n",
    "\n",
    "def pur_cat(purpose):\n",
    "    lemmas = m.lemmatize(purpose)\n",
    "    if 'свадьба' in lemmas:\n",
    "        return 'свадьба'\n",
    "    if 'автомобиль' in lemmas:\n",
    "        return 'автомобиль'\n",
    "    if 'образование' in lemmas:\n",
    "        return 'образование'\n",
    "    if ('жилье' in lemmas) or ('недвижимость' in lemmas):\n",
    "        return 'жилье / недвижимость'\n",
    "    print('Кажется, у нас есть новая категория, о которой мы не знали.')\n",
    "    sys.exit()\n",
    "\n",
    "clients_credit['purpose'] = clients_credit['purpose'].apply(pur_cat) # произошла лемматизация...\n",
    "print(clients_credit['purpose'].value_counts())"
   ]
  },
  {
   "cell_type": "markdown",
   "metadata": {},
   "source": [
    "По сути, мы применяли функцию pur_cat к каждой строке, которая искала конкретное слово в лемматизированной строке. Я выбрал именно pymystem3.Mystem() в качестве инструмента для анализа вместо nltk.stem.SnowballStemmer('russian'), потому что мне нужно было \"вытащить\" из каждой строки именно начальную форму слов, а не их основы."
   ]
  },
  {
   "cell_type": "markdown",
   "metadata": {},
   "source": [
    "### Категоризируйте данные"
   ]
  },
  {
   "cell_type": "markdown",
   "metadata": {},
   "source": [
    "Многие столбцы имеют набор значений, которые вполне логично объединить в несколько категорий. Помимо столбца purpose, значения которого мы уже категоризировали, к ним относятся такие столбцы, как стаж работы клиента, его возраст и уровень дохода. Начнем со столбца days_employed. Вспомним значения в нем."
   ]
  },
  {
   "cell_type": "code",
   "execution_count": 28,
   "metadata": {},
   "outputs": [
    {
     "name": "stdout",
     "output_type": "stream",
     "text": [
      "count    21454.000000\n",
      "mean      2165.674187\n",
      "std       2009.112833\n",
      "min         24.000000\n",
      "25%       1023.000000\n",
      "50%       1630.000000\n",
      "75%       2523.000000\n",
      "max      18388.000000\n",
      "Name: days_employed, dtype: float64\n"
     ]
    }
   ],
   "source": [
    "print(clients_credit['days_employed'].describe())"
   ]
  },
  {
   "cell_type": "markdown",
   "metadata": {},
   "source": [
    "Будем считать стаж малым, если он меньше 3 лет, средним — от 3 до 7 лет, большим — от 7 лет. Такое разграничение мотивировано тем, что 25-я и 75-я перцентиль как раз находится около этих значений. Вполне разумно считать стаж нижней четверти клиентов малым, а верхней — большим (тогда половина всех клиентов будет находиться в категории среднего стажа). Назовем новый столбец days_employed_categ."
   ]
  },
  {
   "cell_type": "code",
   "execution_count": 29,
   "metadata": {},
   "outputs": [],
   "source": [
    "def empl_group(days_employed):\n",
    "    if days_employed < 3*365:\n",
    "        return 'малый'\n",
    "    if days_employed > 7*365:\n",
    "        return 'большой'\n",
    "    return 'средний'\n",
    "\n",
    "clients_credit['days_employed_categ'] = clients_credit['days_employed'].apply(empl_group)"
   ]
  },
  {
   "cell_type": "markdown",
   "metadata": {},
   "source": [
    "Проделаем ту же работу со столбцом уровня дохода, предварительно посмотрев на разброс значений в нем."
   ]
  },
  {
   "cell_type": "code",
   "execution_count": 30,
   "metadata": {},
   "outputs": [
    {
     "name": "stdout",
     "output_type": "stream",
     "text": [
      "count      21454.000000\n",
      "mean      165319.572294\n",
      "std        98187.303486\n",
      "min        20667.000000\n",
      "25%       107623.000000\n",
      "50%       142594.000000\n",
      "75%       195820.250000\n",
      "max      2265604.000000\n",
      "Name: total_income, dtype: object\n"
     ]
    }
   ],
   "source": [
    "print(clients_credit['total_income'].describe().apply(lambda x: format(x, 'f')))"
   ]
  },
  {
   "cell_type": "markdown",
   "metadata": {},
   "source": [
    "Будем считать доход низким, если он менее 100 тысяч в месяц, высоким — более 200 тысяч в месяц (здесь снова границы выбраны из условия того, что примерно половина клиентов должны быть в среднем классе). Иначе назовем доход средним. Запишем категоризацию в столбец total_income_level."
   ]
  },
  {
   "cell_type": "code",
   "execution_count": 31,
   "metadata": {},
   "outputs": [],
   "source": [
    "def inc_level(total_income):\n",
    "    if total_income < 100000:\n",
    "        return 'низкий'\n",
    "    if total_income > 200000:\n",
    "        return 'высокий'\n",
    "    return 'средний'\n",
    "\n",
    "clients_credit['total_income_level'] = clients_credit['total_income'].apply(inc_level)"
   ]
  },
  {
   "cell_type": "markdown",
   "metadata": {},
   "source": [
    "Категоризируем, наконец, возраст клиента. "
   ]
  },
  {
   "cell_type": "code",
   "execution_count": 32,
   "metadata": {},
   "outputs": [
    {
     "name": "stdout",
     "output_type": "stream",
     "text": [
      "count    21454.000000\n",
      "mean        43.381700\n",
      "std         12.295139\n",
      "min         18.000000\n",
      "25%         33.000000\n",
      "50%         42.000000\n",
      "75%         53.000000\n",
      "max         75.000000\n",
      "Name: dob_years, dtype: float64\n"
     ]
    }
   ],
   "source": [
    "print(clients_credit['dob_years'].describe())"
   ]
  },
  {
   "cell_type": "markdown",
   "metadata": {},
   "source": [
    "Считаем, что клиент молодой, если ему менее 30 лет, пожилой — если ему более 60 лет. Остальных клиентов назовем средними. Столбец dob_years_categ будет отображать эту категоризацию."
   ]
  },
  {
   "cell_type": "code",
   "execution_count": 33,
   "metadata": {},
   "outputs": [],
   "source": [
    "def age_categ(dob_years):\n",
    "    if dob_years < 30:\n",
    "        return 'молодой'\n",
    "    if dob_years > 60:\n",
    "        return 'пожилой'\n",
    "    return 'средний'\n",
    "\n",
    "clients_credit['dob_years_categ'] = clients_credit['dob_years'].apply(age_categ)"
   ]
  },
  {
   "cell_type": "markdown",
   "metadata": {},
   "source": [
    "Итак, убедимся, что все шаги категоризации данных проделаны корректно."
   ]
  },
  {
   "cell_type": "code",
   "execution_count": 34,
   "metadata": {},
   "outputs": [
    {
     "name": "stdout",
     "output_type": "stream",
     "text": [
      "<class 'pandas.core.frame.DataFrame'>\n",
      "RangeIndex: 21454 entries, 0 to 21453\n",
      "Data columns (total 15 columns):\n",
      "children               21454 non-null int64\n",
      "days_employed          21454 non-null int64\n",
      "dob_years              21454 non-null int64\n",
      "education              21454 non-null object\n",
      "education_id           21454 non-null int64\n",
      "family_status          21454 non-null object\n",
      "family_status_id       21454 non-null int64\n",
      "gender                 21454 non-null object\n",
      "income_type            21454 non-null object\n",
      "debt                   21454 non-null int64\n",
      "total_income           21454 non-null int64\n",
      "purpose                21454 non-null object\n",
      "days_employed_categ    21454 non-null object\n",
      "total_income_level     21454 non-null object\n",
      "dob_years_categ        21454 non-null object\n",
      "dtypes: int64(7), object(8)\n",
      "memory usage: 2.5+ MB\n",
      "None\n"
     ]
    }
   ],
   "source": [
    "print(clients_credit.info())"
   ]
  },
  {
   "cell_type": "markdown",
   "metadata": {},
   "source": [
    "Новые столбцы созданы успешно."
   ]
  },
  {
   "cell_type": "code",
   "execution_count": 35,
   "metadata": {
    "scrolled": true
   },
   "outputs": [
    {
     "name": "stdout",
     "output_type": "stream",
     "text": [
      "   children  days_employed  dob_years education  education_id  \\\n",
      "0         1           8437         42    высшее             0   \n",
      "1         1           4024         36   среднее             1   \n",
      "2         0           5623         33   среднее             1   \n",
      "3         3           4124         32   среднее             1   \n",
      "4         0           1630         53   среднее             1   \n",
      "5         0            926         27    высшее             0   \n",
      "6         0           2879         43    высшее             0   \n",
      "7         0            152         50   среднее             1   \n",
      "8         2           6929         35    высшее             0   \n",
      "9         0           2188         41   среднее             1   \n",
      "\n",
      "      family_status  family_status_id gender income_type  debt  total_income  \\\n",
      "0   женат / замужем                 0      F   сотрудник     0        253875   \n",
      "1   женат / замужем                 0      F   сотрудник     0        112080   \n",
      "2   женат / замужем                 0      M   сотрудник     0        145885   \n",
      "3   женат / замужем                 0      M   сотрудник     0        267628   \n",
      "4  гражданский брак                 1      F   пенсионер     0        158616   \n",
      "5  гражданский брак                 1      M   компаньон     0        255763   \n",
      "6   женат / замужем                 0      F   компаньон     0        240525   \n",
      "7   женат / замужем                 0      M   сотрудник     0        135823   \n",
      "8  гражданский брак                 1      F   сотрудник     0         95856   \n",
      "9   женат / замужем                 0      M   сотрудник     0        144425   \n",
      "\n",
      "                purpose days_employed_categ total_income_level dob_years_categ  \n",
      "0  жилье / недвижимость             большой            высокий         средний  \n",
      "1            автомобиль             большой            средний         средний  \n",
      "2  жилье / недвижимость             большой            средний         средний  \n",
      "3           образование             большой            высокий         средний  \n",
      "4               свадьба             средний            средний         средний  \n",
      "5  жилье / недвижимость               малый            высокий         молодой  \n",
      "6  жилье / недвижимость             большой            высокий         средний  \n",
      "7           образование               малый            средний         средний  \n",
      "8               свадьба             большой             низкий         средний  \n",
      "9  жилье / недвижимость             средний            средний         средний  \n"
     ]
    }
   ],
   "source": [
    "print(clients_credit.head(10))"
   ]
  },
  {
   "cell_type": "markdown",
   "metadata": {},
   "source": [
    "Кажется, все значения в новых столбцах присвоены верно."
   ]
  },
  {
   "cell_type": "markdown",
   "metadata": {},
   "source": [
    "## Шаг 3. Ответьте на вопросы"
   ]
  },
  {
   "cell_type": "markdown",
   "metadata": {},
   "source": [
    "### Есть ли зависимость между наличием детей и возвратом кредита в срок?"
   ]
  },
  {
   "cell_type": "markdown",
   "metadata": {},
   "source": [
    "Воспользуемся методом сводных таблиц pivot_table() с аргументами index='children' (по значениям в каком столбце будет группировка), columns='debt' (значения этого столбца будут сами являться столбцами новой сводной таблицы), values='family_status_id' (здесь, на самом деле, можно использовать любой столбец, потому что мы будем считать лишь количество записей, а не, к примеру, сумму чисел), aggfunc='count' (собственно, функция подсчета количества записей)."
   ]
  },
  {
   "cell_type": "code",
   "execution_count": 36,
   "metadata": {},
   "outputs": [
    {
     "data": {
      "text/html": [
       "<div>\n",
       "<style scoped>\n",
       "    .dataframe tbody tr th:only-of-type {\n",
       "        vertical-align: middle;\n",
       "    }\n",
       "\n",
       "    .dataframe tbody tr th {\n",
       "        vertical-align: top;\n",
       "    }\n",
       "\n",
       "    .dataframe thead th {\n",
       "        text-align: right;\n",
       "    }\n",
       "</style>\n",
       "<table border=\"1\" class=\"dataframe\">\n",
       "  <thead>\n",
       "    <tr style=\"text-align: right;\">\n",
       "      <th>debt</th>\n",
       "      <th>0</th>\n",
       "      <th>1</th>\n",
       "      <th>percent_of_bad</th>\n",
       "    </tr>\n",
       "    <tr>\n",
       "      <th>children</th>\n",
       "      <th></th>\n",
       "      <th></th>\n",
       "      <th></th>\n",
       "    </tr>\n",
       "  </thead>\n",
       "  <tbody>\n",
       "    <tr>\n",
       "      <td>0</td>\n",
       "      <td>13028.0</td>\n",
       "      <td>1063.0</td>\n",
       "      <td>7.54</td>\n",
       "    </tr>\n",
       "    <tr>\n",
       "      <td>1</td>\n",
       "      <td>4410.0</td>\n",
       "      <td>445.0</td>\n",
       "      <td>9.17</td>\n",
       "    </tr>\n",
       "    <tr>\n",
       "      <td>2</td>\n",
       "      <td>1926.0</td>\n",
       "      <td>202.0</td>\n",
       "      <td>9.49</td>\n",
       "    </tr>\n",
       "    <tr>\n",
       "      <td>3</td>\n",
       "      <td>303.0</td>\n",
       "      <td>27.0</td>\n",
       "      <td>8.18</td>\n",
       "    </tr>\n",
       "    <tr>\n",
       "      <td>4</td>\n",
       "      <td>37.0</td>\n",
       "      <td>4.0</td>\n",
       "      <td>9.76</td>\n",
       "    </tr>\n",
       "    <tr>\n",
       "      <td>5</td>\n",
       "      <td>9.0</td>\n",
       "      <td>0.0</td>\n",
       "      <td>0.00</td>\n",
       "    </tr>\n",
       "  </tbody>\n",
       "</table>\n",
       "</div>"
      ],
      "text/plain": [
       "debt            0       1  percent_of_bad\n",
       "children                                 \n",
       "0         13028.0  1063.0            7.54\n",
       "1          4410.0   445.0            9.17\n",
       "2          1926.0   202.0            9.49\n",
       "3           303.0    27.0            8.18\n",
       "4            37.0     4.0            9.76\n",
       "5             9.0     0.0            0.00"
      ]
     },
     "metadata": {},
     "output_type": "display_data"
    }
   ],
   "source": [
    "pivot_1 = clients_credit.pivot_table(index='children', columns='debt', values='family_status_id', aggfunc='count')\n",
    "pivot_1[1] = pivot_1[1].fillna(0)\n",
    "pivot_1['percent_of_bad'] = round(100 * pivot_1[1] / (pivot_1[0] + pivot_1[1]), 2)\n",
    "display(pivot_1)"
   ]
  },
  {
   "cell_type": "markdown",
   "metadata": {},
   "source": [
    "После добавления нового столбца percent_of_bad видим, что среди тех клиентов, у которых нет детей, есть лишь 7.54%, которые не очень хорошо платят по счетам. При наличии детей ситуация меняется, ведь доля таких неплательщиков возрастает (в среднем) до 9.5 процентов. Это логично, ведь клиенту без детей можно не думать о том, как прокормить других, эти деньги исправно идут на погашение кредитов. Исключение составляет группа тех, у кого трое детей, здесь доля тех, у кого с оплатой кредита были проблемы, меньше. Однако, в этой категории всего 330 человек, поэтому эту долю (8.18%) можно считать достаточно нестабильной."
   ]
  },
  {
   "cell_type": "markdown",
   "metadata": {},
   "source": [
    "### Есть ли зависимость между семейным положением и возвратом кредита в срок?"
   ]
  },
  {
   "cell_type": "markdown",
   "metadata": {},
   "source": [
    "Снова будем использовать метод pivot_table(), лишь заменим аргумент index на 'family_status'."
   ]
  },
  {
   "cell_type": "code",
   "execution_count": 37,
   "metadata": {},
   "outputs": [
    {
     "data": {
      "text/html": [
       "<div>\n",
       "<style scoped>\n",
       "    .dataframe tbody tr th:only-of-type {\n",
       "        vertical-align: middle;\n",
       "    }\n",
       "\n",
       "    .dataframe tbody tr th {\n",
       "        vertical-align: top;\n",
       "    }\n",
       "\n",
       "    .dataframe thead th {\n",
       "        text-align: right;\n",
       "    }\n",
       "</style>\n",
       "<table border=\"1\" class=\"dataframe\">\n",
       "  <thead>\n",
       "    <tr style=\"text-align: right;\">\n",
       "      <th>debt</th>\n",
       "      <th>0</th>\n",
       "      <th>1</th>\n",
       "      <th>percent_of_bad</th>\n",
       "    </tr>\n",
       "    <tr>\n",
       "      <th>family_status</th>\n",
       "      <th></th>\n",
       "      <th></th>\n",
       "      <th></th>\n",
       "    </tr>\n",
       "  </thead>\n",
       "  <tbody>\n",
       "    <tr>\n",
       "      <td>в разводе</td>\n",
       "      <td>1110</td>\n",
       "      <td>85</td>\n",
       "      <td>7.11</td>\n",
       "    </tr>\n",
       "    <tr>\n",
       "      <td>вдовец / вдова</td>\n",
       "      <td>896</td>\n",
       "      <td>63</td>\n",
       "      <td>6.57</td>\n",
       "    </tr>\n",
       "    <tr>\n",
       "      <td>гражданский брак</td>\n",
       "      <td>3763</td>\n",
       "      <td>388</td>\n",
       "      <td>9.35</td>\n",
       "    </tr>\n",
       "    <tr>\n",
       "      <td>женат / замужем</td>\n",
       "      <td>11408</td>\n",
       "      <td>931</td>\n",
       "      <td>7.55</td>\n",
       "    </tr>\n",
       "    <tr>\n",
       "      <td>не женат / не замужем</td>\n",
       "      <td>2536</td>\n",
       "      <td>274</td>\n",
       "      <td>9.75</td>\n",
       "    </tr>\n",
       "  </tbody>\n",
       "</table>\n",
       "</div>"
      ],
      "text/plain": [
       "debt                       0    1  percent_of_bad\n",
       "family_status                                    \n",
       "в разводе               1110   85            7.11\n",
       "вдовец / вдова           896   63            6.57\n",
       "гражданский брак        3763  388            9.35\n",
       "женат / замужем        11408  931            7.55\n",
       "не женат / не замужем   2536  274            9.75"
      ]
     },
     "metadata": {},
     "output_type": "display_data"
    }
   ],
   "source": [
    "pivot_2 = clients_credit.pivot_table(index='family_status', columns='debt', values='family_status_id', aggfunc='count')\n",
    "pivot_2[1] = pivot_2[1].fillna(0)\n",
    "pivot_2['percent_of_bad'] = round(100 * pivot_2[1] / (pivot_2[0] + pivot_2[1]), 2)\n",
    "display(pivot_2)"
   ]
  },
  {
   "cell_type": "markdown",
   "metadata": {},
   "source": [
    "На этот раз различия в столбце percent_of_bad также есть. Лучше всех погашают кредиты вдовы и вдовцы, вполне неплохо справляются также и разведенные, и женатые / замужние клиенты. Намного хуже дела идут у людей в гражданском браке и неженатых / незамужних. На этом этапе анализа данных мне сложно объяснить чем-то такой результат."
   ]
  },
  {
   "cell_type": "markdown",
   "metadata": {},
   "source": [
    "### Есть ли зависимость между уровнем дохода и возвратом кредита в срок?"
   ]
  },
  {
   "cell_type": "markdown",
   "metadata": {},
   "source": [
    "При ответе на этот вопрос, наконец, стало понятно, для чего мы категоризировали данные в некоторых столбцах. Ведь теперь нам нужно проанализировать столбец с уровнем дохода, то есть непрерывной величиной. Используем pivot_table() с аргументом index='total_income_level'."
   ]
  },
  {
   "cell_type": "code",
   "execution_count": 38,
   "metadata": {},
   "outputs": [
    {
     "data": {
      "text/html": [
       "<div>\n",
       "<style scoped>\n",
       "    .dataframe tbody tr th:only-of-type {\n",
       "        vertical-align: middle;\n",
       "    }\n",
       "\n",
       "    .dataframe tbody tr th {\n",
       "        vertical-align: top;\n",
       "    }\n",
       "\n",
       "    .dataframe thead th {\n",
       "        text-align: right;\n",
       "    }\n",
       "</style>\n",
       "<table border=\"1\" class=\"dataframe\">\n",
       "  <thead>\n",
       "    <tr style=\"text-align: right;\">\n",
       "      <th>debt</th>\n",
       "      <th>0</th>\n",
       "      <th>1</th>\n",
       "      <th>percent_of_bad</th>\n",
       "    </tr>\n",
       "    <tr>\n",
       "      <th>total_income_level</th>\n",
       "      <th></th>\n",
       "      <th></th>\n",
       "      <th></th>\n",
       "    </tr>\n",
       "  </thead>\n",
       "  <tbody>\n",
       "    <tr>\n",
       "      <td>высокий</td>\n",
       "      <td>4709</td>\n",
       "      <td>358</td>\n",
       "      <td>7.07</td>\n",
       "    </tr>\n",
       "    <tr>\n",
       "      <td>низкий</td>\n",
       "      <td>4109</td>\n",
       "      <td>354</td>\n",
       "      <td>7.93</td>\n",
       "    </tr>\n",
       "    <tr>\n",
       "      <td>средний</td>\n",
       "      <td>10895</td>\n",
       "      <td>1029</td>\n",
       "      <td>8.63</td>\n",
       "    </tr>\n",
       "  </tbody>\n",
       "</table>\n",
       "</div>"
      ],
      "text/plain": [
       "debt                    0     1  percent_of_bad\n",
       "total_income_level                             \n",
       "высокий              4709   358            7.07\n",
       "низкий               4109   354            7.93\n",
       "средний             10895  1029            8.63"
      ]
     },
     "metadata": {},
     "output_type": "display_data"
    }
   ],
   "source": [
    "pivot_3 = clients_credit.pivot_table(index='total_income_level', columns='debt', values='family_status_id', aggfunc='count')\n",
    "pivot_3[1] = pivot_3[1].fillna(0)\n",
    "pivot_3['percent_of_bad'] = round(100 * pivot_3[1] / (pivot_3[0] + pivot_3[1]), 2)\n",
    "display(pivot_3)"
   ]
  },
  {
   "cell_type": "markdown",
   "metadata": {},
   "source": [
    "При взгляде на столбец percent_of_bad можно заметить, что, во-первых, клиенты с высоким доходом возвращают кредит чаще, чем остальные. Это вполне логично. Во-вторых, однако, низкооплачиваемые клиенты возвращают кредиты даже лучше среднеобеспеченных людей. Это можно объяснить несколькими способами. С одной стороны, деление на бедных и богатых было очень условно, поэтому результат сильно зависит от установленных порогов. С другой же, бедные, взяв кредит, четко и досконально знают свои траты на месяц, поэтому меньше вероятность того, что они не смогут заплатить по счетам. Среднеобеспеченные люди иногда могут позволить себе много лишних и ненужных трат, которые могут привести к невозможности выплаты кредита."
   ]
  },
  {
   "cell_type": "markdown",
   "metadata": {},
   "source": [
    "### Как разные цели кредита влияют на его возврат в срок?"
   ]
  },
  {
   "cell_type": "markdown",
   "metadata": {},
   "source": [
    "Для ответа на вопрос снова построим сводную таблицу. Методы и аргументы такие же, что и ранее, за исключением аргумента index='purpose'."
   ]
  },
  {
   "cell_type": "code",
   "execution_count": 39,
   "metadata": {},
   "outputs": [
    {
     "data": {
      "text/html": [
       "<div>\n",
       "<style scoped>\n",
       "    .dataframe tbody tr th:only-of-type {\n",
       "        vertical-align: middle;\n",
       "    }\n",
       "\n",
       "    .dataframe tbody tr th {\n",
       "        vertical-align: top;\n",
       "    }\n",
       "\n",
       "    .dataframe thead th {\n",
       "        text-align: right;\n",
       "    }\n",
       "</style>\n",
       "<table border=\"1\" class=\"dataframe\">\n",
       "  <thead>\n",
       "    <tr style=\"text-align: right;\">\n",
       "      <th>debt</th>\n",
       "      <th>0</th>\n",
       "      <th>1</th>\n",
       "      <th>percent_of_bad</th>\n",
       "    </tr>\n",
       "    <tr>\n",
       "      <th>purpose</th>\n",
       "      <th></th>\n",
       "      <th></th>\n",
       "      <th></th>\n",
       "    </tr>\n",
       "  </thead>\n",
       "  <tbody>\n",
       "    <tr>\n",
       "      <td>автомобиль</td>\n",
       "      <td>3903</td>\n",
       "      <td>403</td>\n",
       "      <td>9.36</td>\n",
       "    </tr>\n",
       "    <tr>\n",
       "      <td>жилье / недвижимость</td>\n",
       "      <td>10029</td>\n",
       "      <td>782</td>\n",
       "      <td>7.23</td>\n",
       "    </tr>\n",
       "    <tr>\n",
       "      <td>образование</td>\n",
       "      <td>3643</td>\n",
       "      <td>370</td>\n",
       "      <td>9.22</td>\n",
       "    </tr>\n",
       "    <tr>\n",
       "      <td>свадьба</td>\n",
       "      <td>2138</td>\n",
       "      <td>186</td>\n",
       "      <td>8.00</td>\n",
       "    </tr>\n",
       "  </tbody>\n",
       "</table>\n",
       "</div>"
      ],
      "text/plain": [
       "debt                      0    1  percent_of_bad\n",
       "purpose                                         \n",
       "автомобиль             3903  403            9.36\n",
       "жилье / недвижимость  10029  782            7.23\n",
       "образование            3643  370            9.22\n",
       "свадьба                2138  186            8.00"
      ]
     },
     "metadata": {},
     "output_type": "display_data"
    }
   ],
   "source": [
    "pivot_4 = clients_credit.pivot_table(index='purpose', columns='debt', values='family_status_id', aggfunc='count')\n",
    "pivot_4[1] = pivot_4[1].fillna(0)\n",
    "pivot_4['percent_of_bad'] = round(100 * pivot_4[1] / (pivot_4[0] + pivot_4[1]), 2)\n",
    "display(pivot_4)"
   ]
  },
  {
   "cell_type": "markdown",
   "metadata": {},
   "source": [
    "Здесь категоризация была довольно четкой, поэтому результаты более достоверны. Если клиенты берут кредит на жилье или недвижимость, то чаще обычного они возвращают его. К \"возвращаемым\" категориям можно отнести кредит на свадьбу. Кредиты же на покупку автомобиля и образование возвращаются заметно хуже (между собой в равной степени). Кредиты на жилье и недвижимость возвращаются, потому что у большинства это единственный кредит в жизни, причем очень необходимый. Большинство сил и средств после получения кредита направляются только на его погашение. Расходы на свадьбу часто покрываются очень легко с помощью подарков молодоженам. Остальные категории не являются главными и приоритетными в жизни, потому на погашение кредитов по ним не обращается должного внимания."
   ]
  },
  {
   "cell_type": "markdown",
   "metadata": {},
   "source": [
    "## Шаг 4. Напишите общий вывод"
   ]
  },
  {
   "cell_type": "markdown",
   "metadata": {},
   "source": [
    "В ходе выполнения проекта было выполнено несколько задач, а именно\n",
    "\n",
    "- произведена предобработка данных, включающая в себя удаление дубликатов, заполнение пропусков, замену аномальных данных на подходящие, замену вещественных типов данных на целочисленные, лемматизацию одного из столбцов данных для последующего анализа и категоризацию данных;\n",
    "\n",
    "- были получены развернутые и аргументированные выводы о влиянии некоторых факторов на факт погашения кредита в срок:\n",
    "\n",
    "    1.  Между <i>наличием детей</i> и возвратом кредита в срок <b>есть явно прослеживаемая зависимость</b>. Если дети у клиента отсутствуют, то процент неплательщиков оказывается близок к 7.54, а если дети есть, то такая доля клиентов составляет от 8.18 (для трех детей) до 9.76 (для четырех), исключая данные для малого количество клиентов в группе. Результат легко связать с реальностью: клиент без детей, как правило, не кормит других, деньги исправно идут на погашение кредитов.\n",
    "    1. Между <i>семейным положением</i> и возвратом кредита в срок тоже <b>есть зависимость</b>. Если клиент является вдовцом или вдовой, то 6.57 процентов имеют проблемы с возвратом кредита, среди тех, кто разведен, процент находится в районе 7.11, женатые и замужние клиенты не платят по кредиту вовремя в 7.55 процентах случаев. Более проблемными в этом плане категориями являются те, кто состоит в гражданском браке (9.35%) и неженатые / незамужние клиенты (9.75%). Почему возникли именно такие различия в категориях, сказать сложно. Однако они определенно есть.\n",
    "    1. Между <i>уровнем дохода</i> и возвратом кредита в срок также <b>зависимость присутствует</b>. Действительно, люди с высоким ежемесячным доходом лишь в 7.07 процентах случаев имеют проблемы с погашением кредита, а со средним существенно больше — 8.63 процента. Особняком стоит показатель группы клиентов с низким доходом — 7.93 процента, что больше, чем в группе богатых людей. Результат, однако, подтверждается реальностью. С одной стороны, богатые имеют меньше проблем по причине, собственно, высокого заработка. С другой же стороны, низкооплачиваемые клиенты дорожат каждым рублем своей зарплаты, поэтому они серьезней обычного подходят к выплатам по кредиту.\n",
    "    1. Разные <i>цели кредита</i> <b>действительно влияют</b> на его возврат в срок. Если клиент берет кредит на жилье или прочую недвижимость, то доля невозврата колеблется на уровне 7.23%. Далее идет кредит на свадьбу (8%). Наконец, доля клиентов с проблемами по кредитам составляет 9.36%, если кредит взят на покупку автомобиля, и 9.22%, если на образование. Этому различию между категориями есть четкое реальное объяснение. Чаще всего, если у людей всего один кредит в жизни, то он всеми силами клиента будет возвращен. Обычно такие одиночные кредиты берутся на жилье и недвижимость. Затраты на свадьбу легко \"отбивается\" с помощью подарков от гостей. Автомобили и образование, чаще всего, не являются главные покупками в жизни, поэтому очередь до их погашения наступает очень не скоро."
   ]
  }
 ],
 "metadata": {
  "kernelspec": {
   "display_name": "Python 3",
   "language": "python",
   "name": "python3"
  },
  "language_info": {
   "codemirror_mode": {
    "name": "ipython",
    "version": 3
   },
   "file_extension": ".py",
   "mimetype": "text/x-python",
   "name": "python",
   "nbconvert_exporter": "python",
   "pygments_lexer": "ipython3",
   "version": "3.8.5"
  }
 },
 "nbformat": 4,
 "nbformat_minor": 2
}
