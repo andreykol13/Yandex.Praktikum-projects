{
 "cells": [
  {
   "cell_type": "markdown",
   "metadata": {},
   "source": [
    "# Проект \"Определение стоимости автомобиля\""
   ]
  },
  {
   "cell_type": "markdown",
   "metadata": {},
   "source": [
    "## Описание проекта"
   ]
  },
  {
   "cell_type": "markdown",
   "metadata": {},
   "source": [
    "Сервис по продаже автомобилей с пробегом «Не бит, не крашен» разрабатывает приложение для привлечения новых клиентов. В нём можно быстро узнать рыночную стоимость своего автомобиля. В нашем распоряжении исторические данные: технические характеристики, комплектации и цены автомобилей. Нужно построить модель для определения стоимости.Заказчику важны качество предсказания, скорость предсказания и время обучения."
   ]
  },
  {
   "cell_type": "markdown",
   "metadata": {},
   "source": [
    "## План выполнения проекта"
   ]
  },
  {
   "cell_type": "markdown",
   "metadata": {},
   "source": [
    "1. [**Загрузите данные и выполните их ресемплирование по одному часу.**](#step1) Данные находятся в файле <i>/datasets/autos.csv</i>.\n",
    "1. [**Обучите разные модели.**](#step2) Для каждой попробуйте различные гиперпараметры.\n",
    "1. [**Проанализируйте скорость работы и качество моделей.**](#step3)"
   ]
  },
  {
   "cell_type": "markdown",
   "metadata": {},
   "source": [
    "## Описание данных"
   ]
  },
  {
   "cell_type": "markdown",
   "metadata": {},
   "source": [
    "- `DateCrawled` — дата скачивания анкеты из базы;\n",
    "- `VehicleType` — тип автомобильного кузова;\n",
    "- `RegistrationYear` — год регистрации автомобиля;\n",
    "- `Gearbox` — тип коробки передач;\n",
    "- `Power` — мощность (л. с.);\n",
    "- `Model` — модель автомобиля;\n",
    "- `Kilometer` — пробег (км);\n",
    "- `RegistrationMonth` — месяц регистрации автомобиля;\n",
    "- `FuelType` — тип топлива;\n",
    "- `Brand` — марка автомобиля;\n",
    "- `NotRepaired` — была машина в ремонте или нет;\n",
    "- `DateCreated` — дата создания анкеты;\n",
    "- `NumberOfPictures` — количество фотографий автомобиля;\n",
    "- `PostalCode` — почтовый индекс владельца анкеты (пользователя);\n",
    "- `LastSeen` — дата последней активности пользователя;\n",
    "- `Price` — цена (евро), <i>целевой признак</i>."
   ]
  },
  {
   "cell_type": "markdown",
   "metadata": {},
   "source": [
    "## <a name='step1'></a>Шаг 1. Загрузите и подготовьте данные"
   ]
  },
  {
   "cell_type": "markdown",
   "metadata": {},
   "source": [
    "Для начала сделаем импорт всех необходимых библиотек."
   ]
  },
  {
   "cell_type": "code",
   "execution_count": 1,
   "metadata": {},
   "outputs": [],
   "source": [
    "import pandas as pd\n",
    "import numpy as np\n",
    "from sklearn.model_selection import train_test_split, GridSearchCV, cross_val_score\n",
    "from sklearn.preprocessing import StandardScaler, LabelEncoder\n",
    "from sklearn.linear_model import ElasticNet, LinearRegression\n",
    "from sklearn.metrics import mean_squared_error as mse, make_scorer\n",
    "from sklearn.ensemble import RandomForestRegressor\n",
    "import lightgbm as lgb"
   ]
  },
  {
   "cell_type": "markdown",
   "metadata": {},
   "source": [
    "Теперь загрузим данные, записав их в одноименную переменную `autos`."
   ]
  },
  {
   "cell_type": "code",
   "execution_count": 2,
   "metadata": {},
   "outputs": [],
   "source": [
    "try:\n",
    "    autos = pd.read_csv('/Users/andreykol/PycharmProjects/Yandex.Praktikum-projects/project_Numeric_Methods/autos.csv')\n",
    "    #autos = pd.read_csv('/datasets/autos.csv')\n",
    "except:\n",
    "    print('Ошибка при загрузке файла!')"
   ]
  },
  {
   "cell_type": "markdown",
   "metadata": {},
   "source": [
    "Кратко просмотрим имеющиеся данные."
   ]
  },
  {
   "cell_type": "code",
   "execution_count": 3,
   "metadata": {},
   "outputs": [
    {
     "name": "stdout",
     "output_type": "stream",
     "text": [
      "<class 'pandas.core.frame.DataFrame'>\n",
      "RangeIndex: 354369 entries, 0 to 354368\n",
      "Data columns (total 16 columns):\n",
      " #   Column             Non-Null Count   Dtype \n",
      "---  ------             --------------   ----- \n",
      " 0   DateCrawled        354369 non-null  object\n",
      " 1   Price              354369 non-null  int64 \n",
      " 2   VehicleType        316879 non-null  object\n",
      " 3   RegistrationYear   354369 non-null  int64 \n",
      " 4   Gearbox            334536 non-null  object\n",
      " 5   Power              354369 non-null  int64 \n",
      " 6   Model              334664 non-null  object\n",
      " 7   Kilometer          354369 non-null  int64 \n",
      " 8   RegistrationMonth  354369 non-null  int64 \n",
      " 9   FuelType           321474 non-null  object\n",
      " 10  Brand              354369 non-null  object\n",
      " 11  NotRepaired        283215 non-null  object\n",
      " 12  DateCreated        354369 non-null  object\n",
      " 13  NumberOfPictures   354369 non-null  int64 \n",
      " 14  PostalCode         354369 non-null  int64 \n",
      " 15  LastSeen           354369 non-null  object\n",
      "dtypes: int64(7), object(9)\n",
      "memory usage: 43.3+ MB\n",
      "None\n",
      "Index(['DateCrawled', 'Price', 'VehicleType', 'RegistrationYear', 'Gearbox',\n",
      "       'Power', 'Model', 'Kilometer', 'RegistrationMonth', 'FuelType', 'Brand',\n",
      "       'NotRepaired', 'DateCreated', 'NumberOfPictures', 'PostalCode',\n",
      "       'LastSeen'],\n",
      "      dtype='object')\n"
     ]
    },
    {
     "data": {
      "text/html": [
       "<div>\n",
       "<style scoped>\n",
       "    .dataframe tbody tr th:only-of-type {\n",
       "        vertical-align: middle;\n",
       "    }\n",
       "\n",
       "    .dataframe tbody tr th {\n",
       "        vertical-align: top;\n",
       "    }\n",
       "\n",
       "    .dataframe thead th {\n",
       "        text-align: right;\n",
       "    }\n",
       "</style>\n",
       "<table border=\"1\" class=\"dataframe\">\n",
       "  <thead>\n",
       "    <tr style=\"text-align: right;\">\n",
       "      <th></th>\n",
       "      <th>DateCrawled</th>\n",
       "      <th>Price</th>\n",
       "      <th>VehicleType</th>\n",
       "      <th>RegistrationYear</th>\n",
       "      <th>Gearbox</th>\n",
       "      <th>Power</th>\n",
       "      <th>Model</th>\n",
       "      <th>Kilometer</th>\n",
       "      <th>RegistrationMonth</th>\n",
       "      <th>FuelType</th>\n",
       "      <th>Brand</th>\n",
       "      <th>NotRepaired</th>\n",
       "      <th>DateCreated</th>\n",
       "      <th>NumberOfPictures</th>\n",
       "      <th>PostalCode</th>\n",
       "      <th>LastSeen</th>\n",
       "    </tr>\n",
       "  </thead>\n",
       "  <tbody>\n",
       "    <tr>\n",
       "      <th>0</th>\n",
       "      <td>2016-03-24 11:52:17</td>\n",
       "      <td>480</td>\n",
       "      <td>NaN</td>\n",
       "      <td>1993</td>\n",
       "      <td>manual</td>\n",
       "      <td>0</td>\n",
       "      <td>golf</td>\n",
       "      <td>150000</td>\n",
       "      <td>0</td>\n",
       "      <td>petrol</td>\n",
       "      <td>volkswagen</td>\n",
       "      <td>NaN</td>\n",
       "      <td>2016-03-24 00:00:00</td>\n",
       "      <td>0</td>\n",
       "      <td>70435</td>\n",
       "      <td>2016-04-07 03:16:57</td>\n",
       "    </tr>\n",
       "    <tr>\n",
       "      <th>1</th>\n",
       "      <td>2016-03-24 10:58:45</td>\n",
       "      <td>18300</td>\n",
       "      <td>coupe</td>\n",
       "      <td>2011</td>\n",
       "      <td>manual</td>\n",
       "      <td>190</td>\n",
       "      <td>NaN</td>\n",
       "      <td>125000</td>\n",
       "      <td>5</td>\n",
       "      <td>gasoline</td>\n",
       "      <td>audi</td>\n",
       "      <td>yes</td>\n",
       "      <td>2016-03-24 00:00:00</td>\n",
       "      <td>0</td>\n",
       "      <td>66954</td>\n",
       "      <td>2016-04-07 01:46:50</td>\n",
       "    </tr>\n",
       "    <tr>\n",
       "      <th>2</th>\n",
       "      <td>2016-03-14 12:52:21</td>\n",
       "      <td>9800</td>\n",
       "      <td>suv</td>\n",
       "      <td>2004</td>\n",
       "      <td>auto</td>\n",
       "      <td>163</td>\n",
       "      <td>grand</td>\n",
       "      <td>125000</td>\n",
       "      <td>8</td>\n",
       "      <td>gasoline</td>\n",
       "      <td>jeep</td>\n",
       "      <td>NaN</td>\n",
       "      <td>2016-03-14 00:00:00</td>\n",
       "      <td>0</td>\n",
       "      <td>90480</td>\n",
       "      <td>2016-04-05 12:47:46</td>\n",
       "    </tr>\n",
       "    <tr>\n",
       "      <th>3</th>\n",
       "      <td>2016-03-17 16:54:04</td>\n",
       "      <td>1500</td>\n",
       "      <td>small</td>\n",
       "      <td>2001</td>\n",
       "      <td>manual</td>\n",
       "      <td>75</td>\n",
       "      <td>golf</td>\n",
       "      <td>150000</td>\n",
       "      <td>6</td>\n",
       "      <td>petrol</td>\n",
       "      <td>volkswagen</td>\n",
       "      <td>no</td>\n",
       "      <td>2016-03-17 00:00:00</td>\n",
       "      <td>0</td>\n",
       "      <td>91074</td>\n",
       "      <td>2016-03-17 17:40:17</td>\n",
       "    </tr>\n",
       "    <tr>\n",
       "      <th>4</th>\n",
       "      <td>2016-03-31 17:25:20</td>\n",
       "      <td>3600</td>\n",
       "      <td>small</td>\n",
       "      <td>2008</td>\n",
       "      <td>manual</td>\n",
       "      <td>69</td>\n",
       "      <td>fabia</td>\n",
       "      <td>90000</td>\n",
       "      <td>7</td>\n",
       "      <td>gasoline</td>\n",
       "      <td>skoda</td>\n",
       "      <td>no</td>\n",
       "      <td>2016-03-31 00:00:00</td>\n",
       "      <td>0</td>\n",
       "      <td>60437</td>\n",
       "      <td>2016-04-06 10:17:21</td>\n",
       "    </tr>\n",
       "  </tbody>\n",
       "</table>\n",
       "</div>"
      ],
      "text/plain": [
       "           DateCrawled  Price VehicleType  RegistrationYear Gearbox  Power  \\\n",
       "0  2016-03-24 11:52:17    480         NaN              1993  manual      0   \n",
       "1  2016-03-24 10:58:45  18300       coupe              2011  manual    190   \n",
       "2  2016-03-14 12:52:21   9800         suv              2004    auto    163   \n",
       "3  2016-03-17 16:54:04   1500       small              2001  manual     75   \n",
       "4  2016-03-31 17:25:20   3600       small              2008  manual     69   \n",
       "\n",
       "   Model  Kilometer  RegistrationMonth  FuelType       Brand NotRepaired  \\\n",
       "0   golf     150000                  0    petrol  volkswagen         NaN   \n",
       "1    NaN     125000                  5  gasoline        audi         yes   \n",
       "2  grand     125000                  8  gasoline        jeep         NaN   \n",
       "3   golf     150000                  6    petrol  volkswagen          no   \n",
       "4  fabia      90000                  7  gasoline       skoda          no   \n",
       "\n",
       "           DateCreated  NumberOfPictures  PostalCode             LastSeen  \n",
       "0  2016-03-24 00:00:00                 0       70435  2016-04-07 03:16:57  \n",
       "1  2016-03-24 00:00:00                 0       66954  2016-04-07 01:46:50  \n",
       "2  2016-03-14 00:00:00                 0       90480  2016-04-05 12:47:46  \n",
       "3  2016-03-17 00:00:00                 0       91074  2016-03-17 17:40:17  \n",
       "4  2016-03-31 00:00:00                 0       60437  2016-04-06 10:17:21  "
      ]
     },
     "metadata": {},
     "output_type": "display_data"
    }
   ],
   "source": [
    "print(autos.info())\n",
    "print(autos.columns)\n",
    "display(autos.head())"
   ]
  },
  {
   "cell_type": "markdown",
   "metadata": {},
   "source": [
    "Итак, мы видим, что все столбцы на месте. Есть пропуски в данных, с которыми мы будем работать далее. Также стоит заметить, что некоторые значения в столбцах заполнены неверно, как если бы они были пропущены (например, в записи с индексом `0` значение в столбце `Power` равно `0`, что означает мощность 0 л.с., что, очевидно, неверно). Такие значения также будут рассмотрены далее."
   ]
  },
  {
   "cell_type": "code",
   "execution_count": 4,
   "metadata": {},
   "outputs": [
    {
     "data": {
      "text/plain": [
       "245814"
      ]
     },
     "execution_count": 4,
     "metadata": {},
     "output_type": "execute_result"
    }
   ],
   "source": [
    "len(autos.dropna(how='any'))"
   ]
  },
  {
   "cell_type": "markdown",
   "metadata": {},
   "source": [
    "Итак, если не делать никакой предобработки данных, мы теряем почти треть данных, что не приемлемо. По очередит рассмотрим каждый столбец с пропусками и его значения, чтобы понять, чем их заполнять или как заменять."
   ]
  },
  {
   "cell_type": "code",
   "execution_count": 5,
   "metadata": {},
   "outputs": [
    {
     "data": {
      "text/plain": [
       "volkswagen        77013\n",
       "opel              39931\n",
       "bmw               36914\n",
       "mercedes_benz     32046\n",
       "audi              29456\n",
       "ford              25179\n",
       "renault           17927\n",
       "peugeot           10998\n",
       "fiat               9643\n",
       "seat               6907\n",
       "mazda              5615\n",
       "skoda              5500\n",
       "smart              5246\n",
       "citroen            5148\n",
       "nissan             4941\n",
       "toyota             4606\n",
       "hyundai            3587\n",
       "sonstige_autos     3374\n",
       "volvo              3210\n",
       "mini               3202\n",
       "mitsubishi         3022\n",
       "honda              2817\n",
       "kia                2465\n",
       "suzuki             2323\n",
       "alfa_romeo         2314\n",
       "chevrolet          1754\n",
       "chrysler           1439\n",
       "dacia               900\n",
       "daihatsu            806\n",
       "subaru              762\n",
       "porsche             758\n",
       "jeep                677\n",
       "trabant             589\n",
       "land_rover          545\n",
       "daewoo              542\n",
       "saab                526\n",
       "jaguar              505\n",
       "rover               486\n",
       "lancia              471\n",
       "lada                225\n",
       "Name: Brand, dtype: int64"
      ]
     },
     "execution_count": 5,
     "metadata": {},
     "output_type": "execute_result"
    }
   ],
   "source": [
    "autos['Brand'].value_counts(dropna=False)"
   ]
  },
  {
   "cell_type": "markdown",
   "metadata": {},
   "source": [
    "Заметим, что у столбца с брендом авто нет пропусков. Это поможет нам обоснованно заменить пропуски в связанном столбце, а именно `Model`."
   ]
  },
  {
   "cell_type": "code",
   "execution_count": 6,
   "metadata": {},
   "outputs": [
    {
     "data": {
      "text/plain": [
       "golf                  29232\n",
       "other                 24421\n",
       "3er                   19761\n",
       "NaN                   19705\n",
       "polo                  13066\n",
       "                      ...  \n",
       "serie_2                   8\n",
       "rangerover                4\n",
       "serie_3                   4\n",
       "serie_1                   2\n",
       "range_rover_evoque        2\n",
       "Name: Model, Length: 251, dtype: int64"
      ]
     },
     "execution_count": 6,
     "metadata": {},
     "output_type": "execute_result"
    }
   ],
   "source": [
    "autos['Model'].value_counts(dropna=False)"
   ]
  },
  {
   "cell_type": "markdown",
   "metadata": {},
   "source": [
    "Заменим пропуски в столбце модели самой популярной моделью бренда автомобиля."
   ]
  },
  {
   "cell_type": "code",
   "execution_count": 7,
   "metadata": {},
   "outputs": [
    {
     "name": "stdout",
     "output_type": "stream",
     "text": [
      "Brand\n",
      "alfa_romeo               156\n",
      "audi                      a4\n",
      "bmw                      3er\n",
      "chevrolet              other\n",
      "chrysler               other\n",
      "citroen                other\n",
      "dacia                  logan\n",
      "daewoo                 matiz\n",
      "daihatsu               cuore\n",
      "fiat                   punto\n",
      "ford                   focus\n",
      "honda                  civic\n",
      "hyundai              i_reihe\n",
      "jaguar                 other\n",
      "jeep                   grand\n",
      "kia                    other\n",
      "lada                    niva\n",
      "lancia               ypsilon\n",
      "land_rover        freelander\n",
      "mazda                3_reihe\n",
      "mercedes_benz       c_klasse\n",
      "mini                  cooper\n",
      "mitsubishi              colt\n",
      "nissan                 micra\n",
      "opel                   corsa\n",
      "peugeot              2_reihe\n",
      "porsche              cayenne\n",
      "renault               twingo\n",
      "rover                  other\n",
      "saab                   other\n",
      "seat                   ibiza\n",
      "skoda                octavia\n",
      "smart                 fortwo\n",
      "sonstige_autos         other\n",
      "subaru               impreza\n",
      "suzuki                 other\n",
      "toyota                 yaris\n",
      "trabant                  601\n",
      "volkswagen              golf\n",
      "volvo                    v40\n",
      "Name: Model, dtype: object\n"
     ]
    }
   ],
   "source": [
    "brand_to_model = autos.groupby('Brand')['Model'].agg(pd.Series.mode)\n",
    "brand_to_model['sonstige_autos'] = 'other'\n",
    "print(brand_to_model)"
   ]
  },
  {
   "cell_type": "code",
   "execution_count": 8,
   "metadata": {},
   "outputs": [],
   "source": [
    "def fun_br_mod(row):\n",
    "    if pd.isnull(row['Model']):\n",
    "        return brand_to_model[row['Brand']]\n",
    "    else:\n",
    "        return row['Model']\n",
    "\n",
    "autos['Model'] = autos.apply(fun_br_mod, axis=1)"
   ]
  },
  {
   "cell_type": "markdown",
   "metadata": {},
   "source": [
    "Да, очень много брендов, где самая популярная модель называется `other`. Это неприятно, но лучше, чем ничего. Проделаем похожие действия, чтобы определить по бренду и модели переменные `VehicleType`, `FuelType`."
   ]
  },
  {
   "cell_type": "code",
   "execution_count": 9,
   "metadata": {},
   "outputs": [
    {
     "data": {
      "text/plain": [
       "28605"
      ]
     },
     "execution_count": 9,
     "metadata": {},
     "output_type": "execute_result"
    }
   ],
   "source": [
    "len(autos[autos['Model'] == 'other'])"
   ]
  },
  {
   "cell_type": "code",
   "execution_count": 10,
   "metadata": {},
   "outputs": [
    {
     "data": {
      "text/plain": [
       "sedan          91457\n",
       "small          79831\n",
       "wagon          65166\n",
       "NaN            37490\n",
       "bus            28775\n",
       "convertible    20203\n",
       "coupe          16163\n",
       "suv            11996\n",
       "other           3288\n",
       "Name: VehicleType, dtype: int64"
      ]
     },
     "execution_count": 10,
     "metadata": {},
     "output_type": "execute_result"
    }
   ],
   "source": [
    "autos['VehicleType'].value_counts(dropna=False)"
   ]
  },
  {
   "cell_type": "code",
   "execution_count": 11,
   "metadata": {},
   "outputs": [
    {
     "name": "stderr",
     "output_type": "stream",
     "text": [
      "<ipython-input-11-d81b8f74356e>:1: FutureWarning: Indexing with multiple keys (implicitly converted to a tuple of keys) will be deprecated, use a list instead.\n",
      "  brmod_to_else = autos.groupby(['Brand', 'Model'])['VehicleType', 'FuelType', 'Gearbox'].agg(lambda x: pd.Series.mode(x)[0])\n"
     ]
    },
    {
     "name": "stdout",
     "output_type": "stream",
     "text": [
      "                    VehicleType  FuelType Gearbox\n",
      "Brand      Model                                 \n",
      "alfa_romeo 145            small    petrol  manual\n",
      "           147            sedan    petrol  manual\n",
      "           156            sedan    petrol  manual\n",
      "           159            wagon  gasoline  manual\n",
      "           other          sedan    petrol  manual\n",
      "...                         ...       ...     ...\n",
      "volvo      v40            wagon    petrol  manual\n",
      "           v50            wagon  gasoline  manual\n",
      "           v60            wagon  gasoline  manual\n",
      "           v70            wagon    petrol  manual\n",
      "           xc_reihe         suv  gasoline    auto\n",
      "\n",
      "[298 rows x 3 columns]\n"
     ]
    }
   ],
   "source": [
    "brmod_to_else = autos.groupby(['Brand', 'Model'])['VehicleType', 'FuelType', 'Gearbox'].agg(lambda x: pd.Series.mode(x)[0])\n",
    "print(brmod_to_else)"
   ]
  },
  {
   "cell_type": "code",
   "execution_count": 12,
   "metadata": {},
   "outputs": [],
   "source": [
    "# Хотел сократить, но вылезали ошибки, пока решил оставить. Но желание поправить есть!\n",
    "\n",
    "def fun_brmod_veh(row):\n",
    "    if pd.isnull(row['VehicleType']):\n",
    "        return brmod_to_else.loc[(row['Brand'], row['Model']), 'VehicleType']\n",
    "    else:\n",
    "        return row['VehicleType']\n",
    "\n",
    "autos['VehicleType'] = autos.apply(fun_brmod_veh, axis=1)\n",
    "    \n",
    "def fun_brmod_fuel(row):\n",
    "    if pd.isnull(row['FuelType']):\n",
    "        return brmod_to_else.loc[(row['Brand'], row['Model']), 'FuelType']\n",
    "    else:\n",
    "        return row['FuelType']\n",
    "    \n",
    "autos['FuelType'] = autos.apply(fun_brmod_fuel, axis=1) \n",
    "    \n",
    "def fun_brmod_gear(row):\n",
    "    if pd.isnull(row['Gearbox']):\n",
    "        return brmod_to_else.loc[(row['Brand'], row['Model']), 'Gearbox']\n",
    "    else:\n",
    "        return row['Gearbox']\n",
    "\n",
    "autos['Gearbox'] = autos.apply(fun_brmod_gear, axis=1)"
   ]
  },
  {
   "cell_type": "markdown",
   "metadata": {},
   "source": [
    "Итак, далее анализируем численные переменные: год регистрации, мощность, пробег. Даты создания анкеты и её скачивания, а также месяц регистрации не будем рассматривать подробно, они не повлияют на предсказание стоимости."
   ]
  },
  {
   "cell_type": "code",
   "execution_count": 13,
   "metadata": {},
   "outputs": [
    {
     "data": {
      "text/plain": [
       "count    354369.000000\n",
       "mean       2004.234448\n",
       "std          90.227958\n",
       "min        1000.000000\n",
       "25%        1999.000000\n",
       "50%        2003.000000\n",
       "75%        2008.000000\n",
       "max        9999.000000\n",
       "Name: RegistrationYear, dtype: float64"
      ]
     },
     "execution_count": 13,
     "metadata": {},
     "output_type": "execute_result"
    }
   ],
   "source": [
    "autos['RegistrationYear'].describe()"
   ]
  },
  {
   "cell_type": "markdown",
   "metadata": {},
   "source": [
    "Итак, мы видим очевидно неверные года в некоторых записях. Удалим такие \"плохие\" объекты. Год 1985 для отсечки выбран исходя из анализа объявлений сайта auto.ru (98% объявлений попадает в такой отрезок), 2016 год выбран исходя из даты регистрации объявления."
   ]
  },
  {
   "cell_type": "code",
   "execution_count": 14,
   "metadata": {},
   "outputs": [
    {
     "data": {
      "text/plain": [
       "334391"
      ]
     },
     "execution_count": 14,
     "metadata": {},
     "output_type": "execute_result"
    }
   ],
   "source": [
    "autos = autos.query('1985 <= RegistrationYear <= 2016')\n",
    "len(autos)"
   ]
  },
  {
   "cell_type": "markdown",
   "metadata": {},
   "source": [
    "Итак, теперь год регистрации имеет больше смысла, чем до предобработки данных. Теперь проанализируем столбец мощности автомобиля (л.с.)."
   ]
  },
  {
   "cell_type": "code",
   "execution_count": 15,
   "metadata": {},
   "outputs": [
    {
     "data": {
      "text/plain": [
       "count    334391.00000\n",
       "mean        111.56695\n",
       "std         185.97473\n",
       "min           0.00000\n",
       "25%          70.00000\n",
       "50%         105.00000\n",
       "75%         143.00000\n",
       "max       20000.00000\n",
       "Name: Power, dtype: float64"
      ]
     },
     "execution_count": 15,
     "metadata": {},
     "output_type": "execute_result"
    }
   ],
   "source": [
    "autos['Power'].describe()"
   ]
  },
  {
   "cell_type": "markdown",
   "metadata": {},
   "source": [
    "Снова имеем проблемы с некоторыми записями, например автомобиль с мощностью 20000 лошадиных сил. Удалим записи, не попадающие в отрезок от 50 до 500 (было выяснено путём анализа данных сайта auto.ru, 99% объявлений \"ложатся\" в отрезок)."
   ]
  },
  {
   "cell_type": "code",
   "execution_count": 16,
   "metadata": {},
   "outputs": [
    {
     "data": {
      "text/plain": [
       "294109"
      ]
     },
     "execution_count": 16,
     "metadata": {},
     "output_type": "execute_result"
    }
   ],
   "source": [
    "autos = autos[(autos['Power'] >= 50) & (autos['Power'] <= 500)]\n",
    "len(autos)"
   ]
  },
  {
   "cell_type": "markdown",
   "metadata": {},
   "source": [
    "Перейдём к анализу пробега машин."
   ]
  },
  {
   "cell_type": "code",
   "execution_count": 17,
   "metadata": {},
   "outputs": [
    {
     "data": {
      "text/plain": [
       "150000    197091\n",
       "125000     31249\n",
       "100000     12409\n",
       "90000      10048\n",
       "80000       8774\n",
       "70000       7571\n",
       "60000       6601\n",
       "50000       5472\n",
       "40000       4364\n",
       "30000       3776\n",
       "20000       3114\n",
       "5000        2787\n",
       "10000        853\n",
       "Name: Kilometer, dtype: int64"
      ]
     },
     "execution_count": 17,
     "metadata": {},
     "output_type": "execute_result"
    }
   ],
   "source": [
    "autos['Kilometer'].value_counts(dropna=False)"
   ]
  },
  {
   "cell_type": "markdown",
   "metadata": {},
   "source": [
    "С пробегом все отлично, выбросов нет. Рассмотрим колонку `NotRepaired`."
   ]
  },
  {
   "cell_type": "code",
   "execution_count": 18,
   "metadata": {},
   "outputs": [
    {
     "data": {
      "text/plain": [
       "no     221691\n",
       "NaN     43184\n",
       "yes     29234\n",
       "Name: NotRepaired, dtype: int64"
      ]
     },
     "execution_count": 18,
     "metadata": {},
     "output_type": "execute_result"
    }
   ],
   "source": [
    "autos['NotRepaired'].value_counts(dropna=False)"
   ]
  },
  {
   "cell_type": "markdown",
   "metadata": {},
   "source": [
    "Единственное, что нам может помочь, так это пробег и год регистрации. Попробуем выбрать наиболее подходящие пороги, чтобы \"отсечь\" одну группу от другой."
   ]
  },
  {
   "cell_type": "code",
   "execution_count": 19,
   "metadata": {},
   "outputs": [
    {
     "data": {
      "text/plain": [
       "no     2266\n",
       "NaN    1002\n",
       "yes     372\n",
       "Name: NotRepaired, dtype: int64"
      ]
     },
     "execution_count": 19,
     "metadata": {},
     "output_type": "execute_result"
    }
   ],
   "source": [
    "autos[autos['Kilometer'] <= 10000]['NotRepaired'].value_counts(dropna=False)"
   ]
  },
  {
   "cell_type": "code",
   "execution_count": 21,
   "metadata": {},
   "outputs": [
    {
     "data": {
      "text/plain": [
       "no     24693\n",
       "NaN     4110\n",
       "yes     1756\n",
       "Name: NotRepaired, dtype: int64"
      ]
     },
     "execution_count": 21,
     "metadata": {},
     "output_type": "execute_result"
    }
   ],
   "source": [
    "autos[autos['RegistrationYear'] > 2010]['NotRepaired'].value_counts(dropna=False)"
   ]
  },
  {
   "cell_type": "markdown",
   "metadata": {},
   "source": [
    "Мы видим, что логичные пороги не дают нам выделить осмысленные группы, поэтому заполним пропуски самым популярным значением."
   ]
  },
  {
   "cell_type": "code",
   "execution_count": 22,
   "metadata": {},
   "outputs": [],
   "source": [
    "autos['NotRepaired'] = autos['NotRepaired'].fillna('no')"
   ]
  },
  {
   "cell_type": "markdown",
   "metadata": {},
   "source": [
    "Исправим типы данных в столбцах `Price` и `RegistrationYear`. Другие столбцы, в которых надо изменить тип, мы использовать далее не будем."
   ]
  },
  {
   "cell_type": "code",
   "execution_count": 23,
   "metadata": {},
   "outputs": [],
   "source": [
    "autos['Price'] = autos['Price'].astype('float')\n",
    "autos['RegistrationYear'] = autos['RegistrationYear'].astype('int')"
   ]
  },
  {
   "cell_type": "markdown",
   "metadata": {},
   "source": [
    "Таким образом, мы изучили и заполнили все пропуски, исправили многие неправдоподобные значения. Взглянем ещё раз на общую информацию о таблице."
   ]
  },
  {
   "cell_type": "code",
   "execution_count": 24,
   "metadata": {},
   "outputs": [
    {
     "name": "stdout",
     "output_type": "stream",
     "text": [
      "<class 'pandas.core.frame.DataFrame'>\n",
      "Int64Index: 294109 entries, 1 to 354368\n",
      "Data columns (total 16 columns):\n",
      " #   Column             Non-Null Count   Dtype  \n",
      "---  ------             --------------   -----  \n",
      " 0   DateCrawled        294109 non-null  object \n",
      " 1   Price              294109 non-null  float64\n",
      " 2   VehicleType        294109 non-null  object \n",
      " 3   RegistrationYear   294109 non-null  int64  \n",
      " 4   Gearbox            294109 non-null  object \n",
      " 5   Power              294109 non-null  int64  \n",
      " 6   Model              294109 non-null  object \n",
      " 7   Kilometer          294109 non-null  int64  \n",
      " 8   RegistrationMonth  294109 non-null  int64  \n",
      " 9   FuelType           294109 non-null  object \n",
      " 10  Brand              294109 non-null  object \n",
      " 11  NotRepaired        294109 non-null  object \n",
      " 12  DateCreated        294109 non-null  object \n",
      " 13  NumberOfPictures   294109 non-null  int64  \n",
      " 14  PostalCode         294109 non-null  int64  \n",
      " 15  LastSeen           294109 non-null  object \n",
      "dtypes: float64(1), int64(6), object(9)\n",
      "memory usage: 38.1+ MB\n",
      "None\n"
     ]
    }
   ],
   "source": [
    "print(autos.info())"
   ]
  },
  {
   "cell_type": "markdown",
   "metadata": {},
   "source": [
    "Наконец, увидим, что в целевом столбце (цена в евро) у нас есть записи с нулевым значением, что в нашем случае значит, что значения нам неизвестны. Удалим такие записи, они не помогут обучению модели."
   ]
  },
  {
   "cell_type": "code",
   "execution_count": 25,
   "metadata": {},
   "outputs": [],
   "source": [
    "autos = autos[autos['Price'] > 0]"
   ]
  },
  {
   "cell_type": "code",
   "execution_count": 26,
   "metadata": {},
   "outputs": [
    {
     "data": {
      "text/plain": [
       "288043"
      ]
     },
     "execution_count": 26,
     "metadata": {},
     "output_type": "execute_result"
    }
   ],
   "source": [
    "len(autos)"
   ]
  },
  {
   "cell_type": "markdown",
   "metadata": {},
   "source": [
    "## <a name='step2'></a>Шаг 2. Обучите разные модели"
   ]
  },
  {
   "cell_type": "markdown",
   "metadata": {},
   "source": [
    "В этом разделе нашего анализа, мы обучим три типа моделей: случайный лес, градиентный бустинг и линейную регрессию (регуляризованную ElasticNet и обычную) методами библиотеки LightGBM. Но сначала выберем признаки, которые помогут нам сделать предсказания, разделим данные на обучающую и тестовую выборки, отмасштабируем числовые признаки и закодируем категориальные признаки так, чтобы линейная регрессия и случайный лес работали корректно."
   ]
  },
  {
   "cell_type": "code",
   "execution_count": 27,
   "metadata": {},
   "outputs": [],
   "source": [
    "all_cols = ['Brand', 'Model', 'VehicleType', 'RegistrationYear', 'Gearbox', 'Power',\n",
    "            'Kilometer', 'FuelType', 'NotRepaired', 'Price']\n",
    "# кажется, что другие столбцы точно НЕ помогут предсказать столбец Price\n",
    "cat_cols = ['Brand', 'Model', 'VehicleType', 'Gearbox', 'FuelType', 'NotRepaired']\n",
    "num_cols = ['RegistrationYear', 'Power', 'Kilometer']"
   ]
  },
  {
   "cell_type": "markdown",
   "metadata": {},
   "source": [
    "Разделили признаки на категориальные и численные, будем работать с ними отдельно."
   ]
  },
  {
   "cell_type": "code",
   "execution_count": 28,
   "metadata": {},
   "outputs": [],
   "source": [
    "full_data = autos[all_cols] # теперь работаем с full_data\n",
    "y = full_data['Price']\n",
    "X = full_data.drop(columns=['Price'])"
   ]
  },
  {
   "cell_type": "markdown",
   "metadata": {},
   "source": [
    "Отделили целевой столбец от остальных данных, убрали все заведомо ненужные столбцы."
   ]
  },
  {
   "cell_type": "markdown",
   "metadata": {},
   "source": [
    "Теперь закодируем категориальные признаки, причём создадим другой DataFrame, так как его будет использовать только линейная регрессия и случайный лес."
   ]
  },
  {
   "cell_type": "code",
   "execution_count": 29,
   "metadata": {},
   "outputs": [],
   "source": [
    "cat_data = pd.get_dummies(X[cat_cols], drop_first=True)\n",
    "num_data = X[num_cols]\n",
    "X_linreg = pd.concat([num_data, cat_data], axis=1)"
   ]
  },
  {
   "cell_type": "markdown",
   "metadata": {},
   "source": [
    "Итак, теперь для обучения линейной регрессии и случайного леса мы используем набор данных (`X_linreg`, `y`), а для остальных методов используем (`X`, `y`)."
   ]
  },
  {
   "cell_type": "code",
   "execution_count": 30,
   "metadata": {},
   "outputs": [],
   "source": [
    "X_train, X_test, y_train, y_test = train_test_split(X, y, test_size=0.3, shuffle=True, random_state=42)\n",
    "X_train_linreg, X_test_linreg, y_train, y_test = train_test_split(X_linreg, y, test_size=0.3, shuffle=True, random_state=42)"
   ]
  },
  {
   "cell_type": "markdown",
   "metadata": {},
   "source": [
    "Теперь воспользуемся масштабированием признаков: обучим и применим scaler на обучающей выборке, а также применим на тестовой."
   ]
  },
  {
   "cell_type": "code",
   "execution_count": null,
   "metadata": {},
   "outputs": [],
   "source": [
    "scaler = StandardScaler()\n",
    "X_train[num_cols] = scaler.fit_transform(X_train[num_cols])\n",
    "X_train_linreg[num_cols] = scaler.fit_transform(X_train_linreg[num_cols])\n",
    "X_test[num_cols] = scaler.transform(X_test[num_cols])\n",
    "X_test_linreg[num_cols] = scaler.transform(X_test_linreg[num_cols])"
   ]
  },
  {
   "cell_type": "markdown",
   "metadata": {},
   "source": [
    "Итак, мы готовы к обучению моделей. Начнём как раз с регуляризованной линейной регрессии ElasticNet."
   ]
  },
  {
   "cell_type": "code",
   "execution_count": 31,
   "metadata": {},
   "outputs": [
    {
     "name": "stdout",
     "output_type": "stream",
     "text": [
      "Train RMSE: 2640.07\n",
      "Best parameters: {'alpha': 0.25, 'l1_ratio': 0.75}\n",
      "Test RMSE: 2630.16\n",
      "CPU times: user 3min 40s, sys: 50.3 s, total: 4min 30s\n",
      "Wall time: 3min 8s\n"
     ]
    }
   ],
   "source": [
    "%%time\n",
    "\n",
    "params = {'alpha': [0.25, 0.5, 1., 2.], 'l1_ratio': [0.25, 0.5, 0.75]}\n",
    "my_scorer = make_scorer(mse, greater_is_better=False)\n",
    "linreg = GridSearchCV(ElasticNet(random_state=42), params, scoring=my_scorer, cv=5)\n",
    "linreg.fit(X_train_linreg, y_train)\n",
    "\n",
    "print(f\"Train RMSE: {round(np.sqrt((-1)*linreg.best_score_), 2)}\")\n",
    "print(f\"Best parameters: {linreg.best_params_}\")\n",
    "best_linreg = linreg.best_estimator_\n",
    "y_pred = best_linreg.predict(X_test_linreg)\n",
    "print(f\"Test RMSE: {round(np.sqrt(mse(y_test, y_pred)), 2)}\")"
   ]
  },
  {
   "cell_type": "markdown",
   "metadata": {},
   "source": [
    "Все показатели качества и времени мы сравним в шаге 3, а пока заметим, что регрессия выбрала наименьшее значение `alpha`. Быть может, `alpha = 0` будет ещё лучше? Это соответствует обычной линейной регрессии. Проверим её."
   ]
  },
  {
   "cell_type": "code",
   "execution_count": 32,
   "metadata": {},
   "outputs": [
    {
     "name": "stdout",
     "output_type": "stream",
     "text": [
      "Train RMSE: 2452.46\n",
      "Test RMSE: 2444.38\n",
      "CPU times: user 57.8 s, sys: 6.5 s, total: 1min 4s\n",
      "Wall time: 40.7 s\n"
     ]
    }
   ],
   "source": [
    "%%time\n",
    "\n",
    "my_scorer = make_scorer(mse, greater_is_better=False)\n",
    "linreg = LinearRegression()\n",
    "\n",
    "print(f\"Train RMSE: {round(np.mean(np.sqrt((-1)*cross_val_score(linreg, X_train_linreg, y_train, cv=5, scoring=my_scorer))), 2)}\")\n",
    "linreg.fit(X_train_linreg, y_train)\n",
    "y_pred = linreg.predict(X_test_linreg)\n",
    "print(f\"Test RMSE: {round(np.sqrt(mse(y_test, y_pred)), 2)}\")"
   ]
  },
  {
   "cell_type": "code",
   "execution_count": 33,
   "metadata": {},
   "outputs": [],
   "source": [
    "best_linreg = linreg"
   ]
  },
  {
   "cell_type": "markdown",
   "metadata": {},
   "source": [
    "Записали в отдельную переменную лучшую модель среди линейных. Перейдём к обучению случайного леса."
   ]
  },
  {
   "cell_type": "code",
   "execution_count": 34,
   "metadata": {},
   "outputs": [
    {
     "name": "stdout",
     "output_type": "stream",
     "text": [
      "Train RMSE: 1594.6\n",
      "Best parameters: {'max_depth': 20, 'n_estimators': 10}\n",
      "Test RMSE: 1570.68\n",
      "CPU times: user 3min 41s, sys: 4.61 s, total: 3min 45s\n",
      "Wall time: 3min 54s\n"
     ]
    }
   ],
   "source": [
    "%%time\n",
    "\n",
    "#params = {'n_estimators': [10, 50, 100, 200], 'max_depth': [2, 5, 10, 15]}\n",
    "params = {'n_estimators': [10], 'max_depth': [20]}\n",
    "my_scorer = make_scorer(mse, greater_is_better=False)\n",
    "forest = GridSearchCV(RandomForestRegressor(random_state=42), params, scoring=my_scorer, cv=5)\n",
    "forest.fit(X_train_linreg, y_train) # неудачное название X_train_linreg, но запускать заново будет дорого\n",
    "\n",
    "print(f\"Train RMSE: {round(np.sqrt((-1)*forest.best_score_), 2)}\")\n",
    "print(f\"Best parameters: {forest.best_params_}\")\n",
    "best_forest = forest.best_estimator_\n",
    "y_pred = best_forest.predict(X_test_linreg)\n",
    "print(f\"Test RMSE: {round(np.sqrt(mse(y_test, y_pred)), 2)}\")"
   ]
  },
  {
   "cell_type": "markdown",
   "metadata": {},
   "source": [
    "Ясно, что количество деревьев у нас остаётся небольшим в каждой из моделей. Стандартным же выбором считается 100. Но из-за ограниченных ресурсов, мы не будем тестировать такую модель, хотя понятно, что показатель RMSE упадёт еще ниже в этом случае. Далее посмотрим, как справится градиентный бустинг."
   ]
  },
  {
   "cell_type": "code",
   "execution_count": 35,
   "metadata": {},
   "outputs": [],
   "source": [
    "enc = LabelEncoder()\n",
    "X_encoded = X.copy()\n",
    "for col in X.columns:\n",
    "    if X[col].dtypes == 'object':\n",
    "        enc.fit(X[col])\n",
    "        X_encoded[col] = enc.transform(X[col])"
   ]
  },
  {
   "cell_type": "code",
   "execution_count": 38,
   "metadata": {},
   "outputs": [
    {
     "name": "stderr",
     "output_type": "stream",
     "text": [
      "<ipython-input-38-80ca25d0497d>:3: SettingWithCopyWarning: \n",
      "A value is trying to be set on a copy of a slice from a DataFrame.\n",
      "Try using .loc[row_indexer,col_indexer] = value instead\n",
      "\n",
      "See the caveats in the documentation: https://pandas.pydata.org/pandas-docs/stable/user_guide/indexing.html#returning-a-view-versus-a-copy\n",
      "  X_train_lgb[num_cols] = scaler2.fit_transform(X_train_lgb[num_cols])\n",
      "/Library/Frameworks/Python.framework/Versions/3.8/lib/python3.8/site-packages/pandas/core/indexing.py:1734: SettingWithCopyWarning: \n",
      "A value is trying to be set on a copy of a slice from a DataFrame.\n",
      "Try using .loc[row_indexer,col_indexer] = value instead\n",
      "\n",
      "See the caveats in the documentation: https://pandas.pydata.org/pandas-docs/stable/user_guide/indexing.html#returning-a-view-versus-a-copy\n",
      "  isetter(loc, value[:, i].tolist())\n",
      "<ipython-input-38-80ca25d0497d>:4: SettingWithCopyWarning: \n",
      "A value is trying to be set on a copy of a slice from a DataFrame.\n",
      "Try using .loc[row_indexer,col_indexer] = value instead\n",
      "\n",
      "See the caveats in the documentation: https://pandas.pydata.org/pandas-docs/stable/user_guide/indexing.html#returning-a-view-versus-a-copy\n",
      "  X_test_lgb[num_cols] = scaler2.transform(X_test_lgb[num_cols])\n",
      "/Library/Frameworks/Python.framework/Versions/3.8/lib/python3.8/site-packages/pandas/core/indexing.py:1734: SettingWithCopyWarning: \n",
      "A value is trying to be set on a copy of a slice from a DataFrame.\n",
      "Try using .loc[row_indexer,col_indexer] = value instead\n",
      "\n",
      "See the caveats in the documentation: https://pandas.pydata.org/pandas-docs/stable/user_guide/indexing.html#returning-a-view-versus-a-copy\n",
      "  isetter(loc, value[:, i].tolist())\n"
     ]
    }
   ],
   "source": [
    "scaler2 = StandardScaler()\n",
    "X_train_lgb, X_test_lgb, y_train, y_test = train_test_split(X_encoded, y, test_size=0.3, shuffle=True, random_state=42)\n",
    "X_train_lgb[num_cols] = scaler2.fit_transform(X_train_lgb[num_cols])\n",
    "X_test_lgb[num_cols] = scaler2.transform(X_test_lgb[num_cols])"
   ]
  },
  {
   "cell_type": "code",
   "execution_count": 40,
   "metadata": {},
   "outputs": [],
   "source": [
    "train_data = lgb.Dataset(X_train_lgb, y_train, categorical_feature=cat_cols, free_raw_data=False)\n",
    "#test_data_feat = lgb.Dataset(X_test_lgb, categorical_feature=cat_cols, free_raw_data=False)"
   ]
  },
  {
   "cell_type": "code",
   "execution_count": 41,
   "metadata": {},
   "outputs": [
    {
     "name": "stderr",
     "output_type": "stream",
     "text": [
      "/Library/Frameworks/Python.framework/Versions/3.8/lib/python3.8/site-packages/lightgbm/engine.py:530: UserWarning: Found `n_estimators` in params. Will use it instead of argument\n",
      "  warnings.warn(\"Found `{}` in params. Will use it instead of argument\".format(alias))\n",
      "/Library/Frameworks/Python.framework/Versions/3.8/lib/python3.8/site-packages/lightgbm/basic.py:1551: UserWarning: Using categorical_feature in Dataset.\n",
      "  warnings.warn('Using categorical_feature in Dataset.')\n"
     ]
    },
    {
     "name": "stdout",
     "output_type": "stream",
     "text": [
      "[LightGBM] [Warning] Accuracy may be bad since you didn't explicitly set num_leaves OR 2^max_depth > num_leaves. (num_leaves=31).\n"
     ]
    },
    {
     "name": "stderr",
     "output_type": "stream",
     "text": [
      "/Library/Frameworks/Python.framework/Versions/3.8/lib/python3.8/site-packages/sklearn/model_selection/_split.py:670: UserWarning: The least populated class in y has only 1 members, which is less than n_splits=5.\n",
      "  warnings.warn((\"The least populated class in y has only %d\"\n"
     ]
    },
    {
     "name": "stdout",
     "output_type": "stream",
     "text": [
      "[LightGBM] [Warning] Accuracy may be bad since you didn't explicitly set num_leaves OR 2^max_depth > num_leaves. (num_leaves=31).\n",
      "[LightGBM] [Warning] Accuracy may be bad since you didn't explicitly set num_leaves OR 2^max_depth > num_leaves. (num_leaves=31).\n",
      "[LightGBM] [Warning] Auto-choosing row-wise multi-threading, the overhead of testing was 0.010104 seconds.\n",
      "You can set `force_row_wise=true` to remove the overhead.\n",
      "And if memory is not enough, you can set `force_col_wise=true`.\n",
      "[LightGBM] [Info] Total Bins 577\n",
      "[LightGBM] [Info] Number of data points in the train set: 161304, number of used features: 9\n",
      "[LightGBM] [Warning] Accuracy may be bad since you didn't explicitly set num_leaves OR 2^max_depth > num_leaves. (num_leaves=31).\n",
      "[LightGBM] [Warning] Accuracy may be bad since you didn't explicitly set num_leaves OR 2^max_depth > num_leaves. (num_leaves=31).\n",
      "[LightGBM] [Warning] Accuracy may be bad since you didn't explicitly set num_leaves OR 2^max_depth > num_leaves. (num_leaves=31).\n",
      "[LightGBM] [Warning] Auto-choosing row-wise multi-threading, the overhead of testing was 0.011774 seconds.\n",
      "You can set `force_row_wise=true` to remove the overhead.\n",
      "And if memory is not enough, you can set `force_col_wise=true`.\n",
      "[LightGBM] [Info] Total Bins 577\n",
      "[LightGBM] [Info] Number of data points in the train set: 161304, number of used features: 9\n",
      "[LightGBM] [Warning] Accuracy may be bad since you didn't explicitly set num_leaves OR 2^max_depth > num_leaves. (num_leaves=31).\n",
      "[LightGBM] [Warning] Accuracy may be bad since you didn't explicitly set num_leaves OR 2^max_depth > num_leaves. (num_leaves=31).\n",
      "[LightGBM] [Warning] Accuracy may be bad since you didn't explicitly set num_leaves OR 2^max_depth > num_leaves. (num_leaves=31).\n",
      "[LightGBM] [Warning] Auto-choosing row-wise multi-threading, the overhead of testing was 0.063256 seconds.\n",
      "You can set `force_row_wise=true` to remove the overhead.\n",
      "And if memory is not enough, you can set `force_col_wise=true`.\n",
      "[LightGBM] [Info] Total Bins 577\n",
      "[LightGBM] [Info] Number of data points in the train set: 161304, number of used features: 9\n",
      "[LightGBM] [Warning] Accuracy may be bad since you didn't explicitly set num_leaves OR 2^max_depth > num_leaves. (num_leaves=31).\n",
      "[LightGBM] [Warning] Accuracy may be bad since you didn't explicitly set num_leaves OR 2^max_depth > num_leaves. (num_leaves=31).\n",
      "[LightGBM] [Warning] Accuracy may be bad since you didn't explicitly set num_leaves OR 2^max_depth > num_leaves. (num_leaves=31).\n",
      "[LightGBM] [Warning] Auto-choosing row-wise multi-threading, the overhead of testing was 0.010420 seconds.\n",
      "You can set `force_row_wise=true` to remove the overhead.\n",
      "And if memory is not enough, you can set `force_col_wise=true`.\n",
      "[LightGBM] [Info] Total Bins 577\n",
      "[LightGBM] [Info] Number of data points in the train set: 161304, number of used features: 9\n",
      "[LightGBM] [Warning] Accuracy may be bad since you didn't explicitly set num_leaves OR 2^max_depth > num_leaves. (num_leaves=31).\n",
      "[LightGBM] [Warning] Accuracy may be bad since you didn't explicitly set num_leaves OR 2^max_depth > num_leaves. (num_leaves=31).\n",
      "[LightGBM] [Warning] Accuracy may be bad since you didn't explicitly set num_leaves OR 2^max_depth > num_leaves. (num_leaves=31).\n",
      "[LightGBM] [Warning] Auto-choosing row-wise multi-threading, the overhead of testing was 0.006793 seconds.\n",
      "You can set `force_row_wise=true` to remove the overhead.\n",
      "And if memory is not enough, you can set `force_col_wise=true`.\n",
      "[LightGBM] [Info] Total Bins 577\n",
      "[LightGBM] [Info] Number of data points in the train set: 161304, number of used features: 9\n",
      "[LightGBM] [Warning] Accuracy may be bad since you didn't explicitly set num_leaves OR 2^max_depth > num_leaves. (num_leaves=31).\n",
      "[LightGBM] [Info] Start training from score 4884.468445\n",
      "[LightGBM] [Info] Start training from score 4884.414292\n",
      "[LightGBM] [Info] Start training from score 4883.224142\n",
      "[LightGBM] [Info] Start training from score 4884.179865\n",
      "[LightGBM] [Info] Start training from score 4884.121454\n",
      "[LightGBM] [Warning] No further splits with positive gain, best gain: -inf\n",
      "[LightGBM] [Warning] No further splits with positive gain, best gain: -inf\n",
      "[LightGBM] [Warning] No further splits with positive gain, best gain: -inf\n",
      "[LightGBM] [Warning] No further splits with positive gain, best gain: -inf\n",
      "[LightGBM] [Warning] No further splits with positive gain, best gain: -inf\n",
      "[LightGBM] [Warning] No further splits with positive gain, best gain: -inf\n",
      "[LightGBM] [Warning] No further splits with positive gain, best gain: -inf\n",
      "[LightGBM] [Warning] No further splits with positive gain, best gain: -inf\n",
      "[LightGBM] [Warning] No further splits with positive gain, best gain: -inf\n",
      "[LightGBM] [Warning] No further splits with positive gain, best gain: -inf\n",
      "[LightGBM] [Warning] No further splits with positive gain, best gain: -inf\n",
      "[LightGBM] [Warning] No further splits with positive gain, best gain: -inf\n",
      "[LightGBM] [Warning] No further splits with positive gain, best gain: -inf\n",
      "[LightGBM] [Warning] No further splits with positive gain, best gain: -inf\n",
      "[LightGBM] [Warning] No further splits with positive gain, best gain: -inf\n",
      "[LightGBM] [Warning] No further splits with positive gain, best gain: -inf\n",
      "[LightGBM] [Warning] No further splits with positive gain, best gain: -inf\n",
      "[LightGBM] [Warning] No further splits with positive gain, best gain: -inf\n",
      "[LightGBM] [Warning] No further splits with positive gain, best gain: -inf\n",
      "[LightGBM] [Warning] No further splits with positive gain, best gain: -inf\n",
      "[LightGBM] [Warning] No further splits with positive gain, best gain: -inf\n",
      "[LightGBM] [Warning] No further splits with positive gain, best gain: -inf\n",
      "[LightGBM] [Warning] No further splits with positive gain, best gain: -inf\n",
      "[LightGBM] [Warning] No further splits with positive gain, best gain: -inf\n",
      "[LightGBM] [Warning] No further splits with positive gain, best gain: -inf\n",
      "[LightGBM] [Warning] No further splits with positive gain, best gain: -inf\n",
      "[LightGBM] [Warning] No further splits with positive gain, best gain: -inf\n",
      "[LightGBM] [Warning] No further splits with positive gain, best gain: -inf\n",
      "Train RMSE: 1491.19\n",
      "[LightGBM] [Warning] Accuracy may be bad since you didn't explicitly set num_leaves OR 2^max_depth > num_leaves. (num_leaves=31).\n",
      "[LightGBM] [Warning] Accuracy may be bad since you didn't explicitly set num_leaves OR 2^max_depth > num_leaves. (num_leaves=31).\n",
      "[LightGBM] [Warning] Accuracy may be bad since you didn't explicitly set num_leaves OR 2^max_depth > num_leaves. (num_leaves=31).\n",
      "[LightGBM] [Warning] Auto-choosing row-wise multi-threading, the overhead of testing was 0.014191 seconds.\n",
      "You can set `force_row_wise=true` to remove the overhead.\n",
      "And if memory is not enough, you can set `force_col_wise=true`.\n",
      "[LightGBM] [Info] Total Bins 577\n",
      "[LightGBM] [Info] Number of data points in the train set: 201630, number of used features: 9\n",
      "[LightGBM] [Info] Start training from score 4884.081640\n"
     ]
    },
    {
     "name": "stderr",
     "output_type": "stream",
     "text": [
      "/Library/Frameworks/Python.framework/Versions/3.8/lib/python3.8/site-packages/lightgbm/engine.py:151: UserWarning: Found `n_estimators` in params. Will use it instead of argument\n",
      "  warnings.warn(\"Found `{}` in params. Will use it instead of argument\".format(alias))\n",
      "/Library/Frameworks/Python.framework/Versions/3.8/lib/python3.8/site-packages/lightgbm/basic.py:1551: UserWarning: Using categorical_feature in Dataset.\n",
      "  warnings.warn('Using categorical_feature in Dataset.')\n"
     ]
    },
    {
     "name": "stdout",
     "output_type": "stream",
     "text": [
      "[LightGBM] [Warning] No further splits with positive gain, best gain: -inf\n",
      "[LightGBM] [Warning] No further splits with positive gain, best gain: -inf\n",
      "Test RMSE: 1492.23\n",
      "CPU times: user 2min 41s, sys: 9.43 s, total: 2min 51s\n",
      "Wall time: 1min 33s\n"
     ]
    }
   ],
   "source": [
    "%%time\n",
    "\n",
    "params = {'learning_rate': 0.1, 'n_estimators': 1000, 'max_depth': 8,\n",
    "          'objective': 'regression', 'metric': 'rmse'}\n",
    "scores = lgb.cv(params, train_data, nfold=5, shuffle=True)\n",
    "print(f\"Train RMSE: {round(scores['rmse-mean'][-1], 2)}\")\n",
    "\n",
    "bst = lgb.train(params, train_data)\n",
    "y_pred = bst.predict(X_test_lgb)\n",
    "print(f\"Test RMSE: {round(np.sqrt(mse(y_test, y_pred)), 2)}\")"
   ]
  },
  {
   "cell_type": "markdown",
   "metadata": {},
   "source": [
    "Перебирая гиперпараметры тщательнее, мы смогли бы достичь еще более хороших результатов за адекватное время."
   ]
  },
  {
   "cell_type": "markdown",
   "metadata": {},
   "source": [
    "## <a name='step3'></a>Шаг 3. Проанализируйте скорость работы и качество моделей"
   ]
  },
  {
   "cell_type": "markdown",
   "metadata": {},
   "source": [
    "Итак, наконец, на этом шаге мы подведём итоги по показателям различных моделей: времени и качеству. Мы рассматривали четыре класса моделей: линейная регрессия, регуляризованная линейная регрессия (на самом деле, подтип обычной линейной регрессии), случайный лес и градиентный бустинг над случайными деревьями. Ниже мы сравним их результаты."
   ]
  },
  {
   "cell_type": "markdown",
   "metadata": {},
   "source": [
    "При изучении модели регуляризованной линейной регрессии, мы получили значение метрики RMSE, равную 2630, за время 3 минуты 8 секунд."
   ]
  },
  {
   "cell_type": "markdown",
   "metadata": {},
   "source": [
    "Однако, при настройке гиперпараметров, мы заметили, что наилучшие результаты показывает модель, наиболее близкая к обычной регрессии. Проверив и саму обыкновенную линейную регрессию, мы увидели заметное улучшение результатов: RMSE 2444 (небольшое улучшение), время работы 40 секунд (хорошее улучшение)."
   ]
  },
  {
   "cell_type": "markdown",
   "metadata": {},
   "source": [
    "Понастраивая гиперпараметры в модели случайного леса, мы добились отличных результатов, по сравнению с предыдущими моделеями: RMSE 1570, время работы 3 минуты 54 секунды. Очень неплохое качество, но время выполнения высокое, особенно учитывая факт, что у нас было лишь 10 деревьев."
   ]
  },
  {
   "cell_type": "markdown",
   "metadata": {},
   "source": [
    "Наконец, построив модель градиентного бустинга и рассмотрев различные значения гиперпараметров, мы получили улучшение и в качестве (RMSE 1492), и во времени, притом улучшение во времени было довольно сильным (1 минута 33 секунды выполнения). Учитывая это, мы можем и дальше улучшать модель, перебирая и другие значения использованных гиперпараметров, а также меняя и иные гиперпараметры модели."
   ]
  },
  {
   "cell_type": "markdown",
   "metadata": {},
   "source": [
    "Ещё раз выведём все результаты в общую таблицу."
   ]
  },
  {
   "cell_type": "code",
   "execution_count": 46,
   "metadata": {},
   "outputs": [
    {
     "data": {
      "text/html": [
       "<div>\n",
       "<style scoped>\n",
       "    .dataframe tbody tr th:only-of-type {\n",
       "        vertical-align: middle;\n",
       "    }\n",
       "\n",
       "    .dataframe tbody tr th {\n",
       "        vertical-align: top;\n",
       "    }\n",
       "\n",
       "    .dataframe thead th {\n",
       "        text-align: right;\n",
       "    }\n",
       "</style>\n",
       "<table border=\"1\" class=\"dataframe\">\n",
       "  <thead>\n",
       "    <tr style=\"text-align: right;\">\n",
       "      <th></th>\n",
       "      <th>RMSE</th>\n",
       "      <th>Mins (all)</th>\n",
       "    </tr>\n",
       "  </thead>\n",
       "  <tbody>\n",
       "    <tr>\n",
       "      <th>ElasticNet Regr.</th>\n",
       "      <td>2630</td>\n",
       "      <td>3.13</td>\n",
       "    </tr>\n",
       "    <tr>\n",
       "      <th>Lin. Regression</th>\n",
       "      <td>2444</td>\n",
       "      <td>0.67</td>\n",
       "    </tr>\n",
       "    <tr>\n",
       "      <th>Random Forest</th>\n",
       "      <td>1570</td>\n",
       "      <td>3.90</td>\n",
       "    </tr>\n",
       "    <tr>\n",
       "      <th>Grad. Boosting</th>\n",
       "      <td>1492</td>\n",
       "      <td>1.55</td>\n",
       "    </tr>\n",
       "  </tbody>\n",
       "</table>\n",
       "</div>"
      ],
      "text/plain": [
       "                  RMSE  Mins (all)\n",
       "ElasticNet Regr.  2630        3.13\n",
       "Lin. Regression   2444        0.67\n",
       "Random Forest     1570        3.90\n",
       "Grad. Boosting    1492        1.55"
      ]
     },
     "metadata": {},
     "output_type": "display_data"
    }
   ],
   "source": [
    "results = pd.DataFrame(data=[[2630, 3.13],\n",
    "                            [2444, 0.67],\n",
    "                            [1570, 3.90],\n",
    "                            [1492, 1.55]], columns=['RMSE', 'Mins (all)'],\n",
    "                      index=['ElasticNet Regr.', 'Lin. Regression', 'Random Forest', 'Grad. Boosting'])\n",
    "display(results)"
   ]
  },
  {
   "cell_type": "markdown",
   "metadata": {},
   "source": [
    "Таким образом лучше всего задачу решает модель градиентного бустинга над решающими деревьями, хотя и случайный лес вполне хорошо справляется с задачей, пусть и много медленнее. Для наилучшей построенной модели посмотрим, какие признаки оказались самыми важными при предсказании цены."
   ]
  },
  {
   "cell_type": "code",
   "execution_count": 54,
   "metadata": {},
   "outputs": [
    {
     "data": {
      "text/plain": [
       "<AxesSubplot:title={'center':'Важность факторов'}, xlabel='Важность', ylabel='Факторы'>"
      ]
     },
     "execution_count": 54,
     "metadata": {},
     "output_type": "execute_result"
    },
    {
     "data": {
      "image/png": "[encoded data removed]",
      "text/plain": [
       "<Figure size 432x288 with 1 Axes>"
      ]
     },
     "metadata": {
      "needs_background": "light"
     },
     "output_type": "display_data"
    }
   ],
   "source": [
    "lgb.plot_importance(bst, max_num_features=5, title='Важность факторов', \n",
    "                   ylabel='Факторы', xlabel='Важность')"
   ]
  },
  {
   "cell_type": "markdown",
   "metadata": {},
   "source": [
    "Мы можем сделать вывод, что лучше всего цена определяется мощностью двигателя, годом регистрации, пробегом (обратная зависимость, очевидно), моделью и брендом автомобиля."
   ]
  }
 ],
 "metadata": {
  "kernelspec": {
   "display_name": "Python 3",
   "language": "python",
   "name": "python3"
  },
  "language_info": {
   "codemirror_mode": {
    "name": "ipython",
    "version": 3
   },
   "file_extension": ".py",
   "mimetype": "text/x-python",
   "name": "python",
   "nbconvert_exporter": "python",
   "pygments_lexer": "ipython3",
   "version": "3.8.5"
  }
 },
 "nbformat": 4,
 "nbformat_minor": 2
}
