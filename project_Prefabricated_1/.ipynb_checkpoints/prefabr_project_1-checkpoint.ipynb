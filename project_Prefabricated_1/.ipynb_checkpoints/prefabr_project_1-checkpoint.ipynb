{
 "cells": [
  {
   "cell_type": "markdown",
   "metadata": {},
   "source": [
    "# Сборный проект №1"
   ]
  },
  {
   "cell_type": "markdown",
   "metadata": {},
   "source": [
    "## Описание проекта"
   ]
  },
  {
   "cell_type": "markdown",
   "metadata": {},
   "source": [
    "Интернет-магазин «Стримчик» продаёт по всему миру компьютерные игры. Из открытых источников доступны исторические данные о продажах игр, оценки пользователей и экспертов, жанры и платформы (например, Xbox или PlayStation). Нужно выявить определяющие успешность игры закономерности. Это позволит сделать ставку на потенциально популярный продукт и спланировать рекламные кампании.\n",
    "\n",
    "Перед нами данные до 2016 года. Представим, что сейчас декабрь 2016 г., и мы планируем кампанию на 2017-й. Нужно отработать принцип работы с данными. Неважно, прогнозируем ли мы продажи на 2017 год по данным 2016-го или же 2027-й — по данным 2026 года.\n",
    "\n",
    "В наборе данных попадается аббревиатура ESRB (Entertainment Software Rating Board) — это ассоциация, определяющая возрастной рейтинг компьютерных игр. ESRB оценивает игровой контент и присваивает ему подходящую возрастную категорию, например, «Для взрослых», «Для детей младшего возраста» или «Для подростков»."
   ]
  },
  {
   "cell_type": "markdown",
   "metadata": {},
   "source": [
    "## План выполнения проекта"
   ]
  },
  {
   "cell_type": "markdown",
   "metadata": {},
   "source": [
    "1. [**Откройте файл с данными и изучите общую информацию.**](#step1) Путь к файлу: <i>/datasets/games.csv</i>.\n",
    "1. [**Подготовьте данные:**](#step2)\n",
    "    - [Замените названия столбцов.](#step2_1) Приведите к нижнему регистру;\n",
    "    - [Преобразуйте данные в нужные типы.](#step2_2) Опишите, в каких столбцах заменили тип данных и почему;\n",
    "    - [Обработайте пропуски при необходимости.](#step2_3) Объясните, почему заполнили пропуски определённым образом или почему не стали это делать. Опишите причины, которые могли привести к пропускам. Обратите внимание на аббревиатуру 'tbd' в столбцах с рейтингом. Отдельно разберите это значение и опишите, как его обработать;\n",
    "    - [Посчитайте суммарные продажи во всех регионах.](#step2_4) Запишите их в отдельный столбец.\n",
    "1. [**Проведите исследовательский анализ данных:**](#step3)\n",
    "    - [Посмотрите, сколько игр выпускалось в разные годы.](#step3_1) Важны ли данные за все периоды?\n",
    "    - [Посмотрите, как менялись продажи по платформам.](#step3_2) Выберите платформы с наибольшими суммарными продажами и постройте распределение по годам. За какой характерный срок появляются новые и исчезают старые платформы?\n",
    "    - [Возьмите данные за соответствующий актуальный период.](#step3_3) Актуальный период определите самостоятельно в результате исследования предыдущих вопросов. Основной фактор — эти данные помогут построить прогноз на 2017 год. Не учитывайте в работе данные за предыдущие годы.\n",
    "    - [Какие платформы лидируют по продажам, растут или падают?](#step3_4) Выберите несколько потенциально прибыльных платформ.\n",
    "    - [Постройте график «ящик с усами» по глобальным продажам игр в разбивке по платформам.](#step3_5) Опишите результат.\n",
    "    - [Посмотрите, как влияют на продажи внутри одной популярной платформы отзывы пользователей и критиков.](#step3_6) Постройте диаграмму рассеяния и посчитайте корреляцию между отзывами и продажами. Сформулируйте выводы.\n",
    "    - [Соотнесите выводы с продажами игр на других платформах.](#step3_7)\n",
    "    - [Посмотрите на общее распределение игр по жанрам.](#step3_8) Что можно сказать о самых прибыльных жанрах? Выделяются ли жанры с высокими и низкими продажами?\n",
    "1. [**Составьте портрет пользователя каждого региона.**](#step4) Для пользователя каждого региона (NA, EU, JP):\n",
    "    - [Определите топ-5 самых популярных платформ.](#step4_1) Опишите различия в долях продаж;\n",
    "    - [Определите топ-5 самых популярных жанров.](#step4_2) Поясните разницу;\n",
    "    - [Влияет ли рейтинг ESRB на продажи в отдельном регионе?](#step4_3)\n",
    "1. [**Проверьте гипотезы.**](#step5) Пороговое значение *alpha* задайте самостоятельно. Поясните, как вы сформулировали нулевую и альтернативную гипотезы, а также какой критерий применили для проверки гипотез и почему.\n",
    "    - [Средние пользовательские рейтинги платформ Xbox One и PC одинаковые;](#step5_1)\n",
    "    - [Средние пользовательские рейтинги жанров Action и Sports разные.](#step5_2)\n",
    "1. [**Напишите общий вывод.**](#step6)"
   ]
  },
  {
   "cell_type": "markdown",
   "metadata": {},
   "source": [
    "## Описание данных"
   ]
  },
  {
   "cell_type": "markdown",
   "metadata": {},
   "source": [
    "- `Name` — название игры;\n",
    "- `Platform` — платформа;\n",
    "- `Year_of_Release` — год выпуска;\n",
    "- `Genre` — жанр игры;\n",
    "- `NA_sales` — продажи в Северной Америке (млн проданных копий);\n",
    "- `EU_sales` — продажи в Европе (млн проданных копий);\n",
    "- `JP_sales` — продажи в Японии (млн проданных копий);\n",
    "- `Other_sales` — продажи в других странах (млн проданных копий);\n",
    "- `Critic_Score` — оценка критиков (максимум 100);\n",
    "- `User_Score` — оценка пользователей (максимум 10);\n",
    "- `Rating` — рейтинг от организации ESRB (англ. Entertainment Software Rating Board). Эта ассоциация определяет рейтинг компьютерных игр и присваивает им подходящую возрастную категорию.\n",
    "\n",
    "Данные за 2016 год могут быть неполными."
   ]
  },
  {
   "cell_type": "markdown",
   "metadata": {},
   "source": [
    "## <a name=\"step1\"></a>Шаг 1. Откройте файл с данными и изучите общую информацию."
   ]
  },
  {
   "cell_type": "markdown",
   "metadata": {},
   "source": [
    "Импортируем необходимые для проекта библиотеки."
   ]
  },
  {
   "cell_type": "code",
   "execution_count": 1,
   "metadata": {},
   "outputs": [],
   "source": [
    "import pandas as pd\n",
    "import matplotlib.pyplot as plt\n",
    "import numpy as np\n",
    "import scipy.stats as st"
   ]
  },
  {
   "cell_type": "markdown",
   "metadata": {},
   "source": [
    "Откроем файл с данными, сохраним его в переменной с тем же именем."
   ]
  },
  {
   "cell_type": "code",
   "execution_count": 2,
   "metadata": {},
   "outputs": [],
   "source": [
    "try:\n",
    "    games = pd.read_csv('/datasets/games.csv')\n",
    "except:\n",
    "    print('Ошибка при чтении файла!')"
   ]
  },
  {
   "cell_type": "markdown",
   "metadata": {},
   "source": [
    "Теперь изучим подробнее информацию в таблице."
   ]
  },
  {
   "cell_type": "code",
   "execution_count": 3,
   "metadata": {},
   "outputs": [
    {
     "name": "stdout",
     "output_type": "stream",
     "text": [
      "<class 'pandas.core.frame.DataFrame'>\n",
      "RangeIndex: 16715 entries, 0 to 16714\n",
      "Data columns (total 11 columns):\n",
      "Name               16713 non-null object\n",
      "Platform           16715 non-null object\n",
      "Year_of_Release    16446 non-null float64\n",
      "Genre              16713 non-null object\n",
      "NA_sales           16715 non-null float64\n",
      "EU_sales           16715 non-null float64\n",
      "JP_sales           16715 non-null float64\n",
      "Other_sales        16715 non-null float64\n",
      "Critic_Score       8137 non-null float64\n",
      "User_Score         10014 non-null object\n",
      "Rating             9949 non-null object\n",
      "dtypes: float64(6), object(5)\n",
      "memory usage: 1.4+ MB\n",
      "None\n",
      "Index(['Name', 'Platform', 'Year_of_Release', 'Genre', 'NA_sales', 'EU_sales',\n",
      "       'JP_sales', 'Other_sales', 'Critic_Score', 'User_Score', 'Rating'],\n",
      "      dtype='object')\n"
     ]
    },
    {
     "data": {
      "text/html": [
       "<div>\n",
       "<style scoped>\n",
       "    .dataframe tbody tr th:only-of-type {\n",
       "        vertical-align: middle;\n",
       "    }\n",
       "\n",
       "    .dataframe tbody tr th {\n",
       "        vertical-align: top;\n",
       "    }\n",
       "\n",
       "    .dataframe thead th {\n",
       "        text-align: right;\n",
       "    }\n",
       "</style>\n",
       "<table border=\"1\" class=\"dataframe\">\n",
       "  <thead>\n",
       "    <tr style=\"text-align: right;\">\n",
       "      <th></th>\n",
       "      <th>Name</th>\n",
       "      <th>Platform</th>\n",
       "      <th>Year_of_Release</th>\n",
       "      <th>Genre</th>\n",
       "      <th>NA_sales</th>\n",
       "      <th>EU_sales</th>\n",
       "      <th>JP_sales</th>\n",
       "      <th>Other_sales</th>\n",
       "      <th>Critic_Score</th>\n",
       "      <th>User_Score</th>\n",
       "      <th>Rating</th>\n",
       "    </tr>\n",
       "  </thead>\n",
       "  <tbody>\n",
       "    <tr>\n",
       "      <td>0</td>\n",
       "      <td>Wii Sports</td>\n",
       "      <td>Wii</td>\n",
       "      <td>2006.0</td>\n",
       "      <td>Sports</td>\n",
       "      <td>41.36</td>\n",
       "      <td>28.96</td>\n",
       "      <td>3.77</td>\n",
       "      <td>8.45</td>\n",
       "      <td>76.0</td>\n",
       "      <td>8</td>\n",
       "      <td>E</td>\n",
       "    </tr>\n",
       "    <tr>\n",
       "      <td>1</td>\n",
       "      <td>Super Mario Bros.</td>\n",
       "      <td>NES</td>\n",
       "      <td>1985.0</td>\n",
       "      <td>Platform</td>\n",
       "      <td>29.08</td>\n",
       "      <td>3.58</td>\n",
       "      <td>6.81</td>\n",
       "      <td>0.77</td>\n",
       "      <td>NaN</td>\n",
       "      <td>NaN</td>\n",
       "      <td>NaN</td>\n",
       "    </tr>\n",
       "    <tr>\n",
       "      <td>2</td>\n",
       "      <td>Mario Kart Wii</td>\n",
       "      <td>Wii</td>\n",
       "      <td>2008.0</td>\n",
       "      <td>Racing</td>\n",
       "      <td>15.68</td>\n",
       "      <td>12.76</td>\n",
       "      <td>3.79</td>\n",
       "      <td>3.29</td>\n",
       "      <td>82.0</td>\n",
       "      <td>8.3</td>\n",
       "      <td>E</td>\n",
       "    </tr>\n",
       "    <tr>\n",
       "      <td>3</td>\n",
       "      <td>Wii Sports Resort</td>\n",
       "      <td>Wii</td>\n",
       "      <td>2009.0</td>\n",
       "      <td>Sports</td>\n",
       "      <td>15.61</td>\n",
       "      <td>10.93</td>\n",
       "      <td>3.28</td>\n",
       "      <td>2.95</td>\n",
       "      <td>80.0</td>\n",
       "      <td>8</td>\n",
       "      <td>E</td>\n",
       "    </tr>\n",
       "    <tr>\n",
       "      <td>4</td>\n",
       "      <td>Pokemon Red/Pokemon Blue</td>\n",
       "      <td>GB</td>\n",
       "      <td>1996.0</td>\n",
       "      <td>Role-Playing</td>\n",
       "      <td>11.27</td>\n",
       "      <td>8.89</td>\n",
       "      <td>10.22</td>\n",
       "      <td>1.00</td>\n",
       "      <td>NaN</td>\n",
       "      <td>NaN</td>\n",
       "      <td>NaN</td>\n",
       "    </tr>\n",
       "    <tr>\n",
       "      <td>5</td>\n",
       "      <td>Tetris</td>\n",
       "      <td>GB</td>\n",
       "      <td>1989.0</td>\n",
       "      <td>Puzzle</td>\n",
       "      <td>23.20</td>\n",
       "      <td>2.26</td>\n",
       "      <td>4.22</td>\n",
       "      <td>0.58</td>\n",
       "      <td>NaN</td>\n",
       "      <td>NaN</td>\n",
       "      <td>NaN</td>\n",
       "    </tr>\n",
       "    <tr>\n",
       "      <td>6</td>\n",
       "      <td>New Super Mario Bros.</td>\n",
       "      <td>DS</td>\n",
       "      <td>2006.0</td>\n",
       "      <td>Platform</td>\n",
       "      <td>11.28</td>\n",
       "      <td>9.14</td>\n",
       "      <td>6.50</td>\n",
       "      <td>2.88</td>\n",
       "      <td>89.0</td>\n",
       "      <td>8.5</td>\n",
       "      <td>E</td>\n",
       "    </tr>\n",
       "    <tr>\n",
       "      <td>7</td>\n",
       "      <td>Wii Play</td>\n",
       "      <td>Wii</td>\n",
       "      <td>2006.0</td>\n",
       "      <td>Misc</td>\n",
       "      <td>13.96</td>\n",
       "      <td>9.18</td>\n",
       "      <td>2.93</td>\n",
       "      <td>2.84</td>\n",
       "      <td>58.0</td>\n",
       "      <td>6.6</td>\n",
       "      <td>E</td>\n",
       "    </tr>\n",
       "    <tr>\n",
       "      <td>8</td>\n",
       "      <td>New Super Mario Bros. Wii</td>\n",
       "      <td>Wii</td>\n",
       "      <td>2009.0</td>\n",
       "      <td>Platform</td>\n",
       "      <td>14.44</td>\n",
       "      <td>6.94</td>\n",
       "      <td>4.70</td>\n",
       "      <td>2.24</td>\n",
       "      <td>87.0</td>\n",
       "      <td>8.4</td>\n",
       "      <td>E</td>\n",
       "    </tr>\n",
       "    <tr>\n",
       "      <td>9</td>\n",
       "      <td>Duck Hunt</td>\n",
       "      <td>NES</td>\n",
       "      <td>1984.0</td>\n",
       "      <td>Shooter</td>\n",
       "      <td>26.93</td>\n",
       "      <td>0.63</td>\n",
       "      <td>0.28</td>\n",
       "      <td>0.47</td>\n",
       "      <td>NaN</td>\n",
       "      <td>NaN</td>\n",
       "      <td>NaN</td>\n",
       "    </tr>\n",
       "  </tbody>\n",
       "</table>\n",
       "</div>"
      ],
      "text/plain": [
       "                        Name Platform  Year_of_Release         Genre  \\\n",
       "0                 Wii Sports      Wii           2006.0        Sports   \n",
       "1          Super Mario Bros.      NES           1985.0      Platform   \n",
       "2             Mario Kart Wii      Wii           2008.0        Racing   \n",
       "3          Wii Sports Resort      Wii           2009.0        Sports   \n",
       "4   Pokemon Red/Pokemon Blue       GB           1996.0  Role-Playing   \n",
       "5                     Tetris       GB           1989.0        Puzzle   \n",
       "6      New Super Mario Bros.       DS           2006.0      Platform   \n",
       "7                   Wii Play      Wii           2006.0          Misc   \n",
       "8  New Super Mario Bros. Wii      Wii           2009.0      Platform   \n",
       "9                  Duck Hunt      NES           1984.0       Shooter   \n",
       "\n",
       "   NA_sales  EU_sales  JP_sales  Other_sales  Critic_Score User_Score Rating  \n",
       "0     41.36     28.96      3.77         8.45          76.0          8      E  \n",
       "1     29.08      3.58      6.81         0.77           NaN        NaN    NaN  \n",
       "2     15.68     12.76      3.79         3.29          82.0        8.3      E  \n",
       "3     15.61     10.93      3.28         2.95          80.0          8      E  \n",
       "4     11.27      8.89     10.22         1.00           NaN        NaN    NaN  \n",
       "5     23.20      2.26      4.22         0.58           NaN        NaN    NaN  \n",
       "6     11.28      9.14      6.50         2.88          89.0        8.5      E  \n",
       "7     13.96      9.18      2.93         2.84          58.0        6.6      E  \n",
       "8     14.44      6.94      4.70         2.24          87.0        8.4      E  \n",
       "9     26.93      0.63      0.28         0.47           NaN        NaN    NaN  "
      ]
     },
     "metadata": {},
     "output_type": "display_data"
    }
   ],
   "source": [
    "print(games.info())\n",
    "print(games.columns)\n",
    "display(games.head(10))"
   ]
  },
  {
   "cell_type": "markdown",
   "metadata": {},
   "source": [
    "Итак, мы знаем, что пропуски значений есть во многих столбцах: `Name` (это довольно странно), `Year_of_Release`, `Genre`, `Critic_Score`, `User_Score` и `Rating`. Все столбцы с продажами, однако, заполнены полностью. Также как и платформы, на которые \"идут\" представленные игры. Лишних столбцов не обнаружено, равно как и дублирующихся."
   ]
  },
  {
   "cell_type": "markdown",
   "metadata": {},
   "source": [
    "## <a name=\"step2\"></a>Шаг 2. Подготовьте данные"
   ]
  },
  {
   "cell_type": "markdown",
   "metadata": {},
   "source": [
    "### <a name=\"step2_1\"></a>Замена имён столбцов"
   ]
  },
  {
   "cell_type": "markdown",
   "metadata": {},
   "source": [
    "В этой части проекта нам нужно привести все названия столбцов к нижнему регистру."
   ]
  },
  {
   "cell_type": "code",
   "execution_count": 4,
   "metadata": {},
   "outputs": [],
   "source": [
    "games.columns = games.columns.str.lower()"
   ]
  },
  {
   "cell_type": "markdown",
   "metadata": {},
   "source": [
    "### <a name=\"step2_2\"></a>Преобразование данных в нужные типы"
   ]
  },
  {
   "cell_type": "markdown",
   "metadata": {},
   "source": [
    "Очевидно, все столбцы со строками в данных должны остаться типом object. Такими столбцами могут считаться `name`, `platform` и `genre`. Столбец `year_of_release` должен стать целочисленным, потому что он несёт в себе информацию о годе выпуска. Все данные об объёмах продаж должны остаться числами с плавающей точкой float64. "
   ]
  },
  {
   "cell_type": "code",
   "execution_count": 5,
   "metadata": {},
   "outputs": [],
   "source": [
    "games['year_of_release'] = games['year_of_release'].fillna(-9999).astype('int')"
   ]
  },
  {
   "cell_type": "markdown",
   "metadata": {},
   "source": [
    "Обратим внимание, что мы заменили пропуски в столбце на -9999 (число, явно отличающееся от года), чтобы затем тип данных в столбце возможно было изменить на int64. Пропуски возникли из-за того, что люди просто не посчитали год выпуска важной информацией, чтобы её добавить в данные. Далее, заметим, что данные в столбце `critic_score` похожи на целочисленные, однако, таковыми пока не являются. Узнаем, есть ли среди уникальных значений в нём нецелые числа."
   ]
  },
  {
   "cell_type": "code",
   "execution_count": 6,
   "metadata": {},
   "outputs": [
    {
     "data": {
      "text/plain": [
       "array([76., nan, 82., 80., 89., 58., 87., 91., 61., 97., 95., 77., 88.,\n",
       "       83., 94., 93., 85., 86., 98., 96., 90., 84., 73., 74., 78., 92.,\n",
       "       71., 72., 68., 62., 49., 67., 81., 66., 56., 79., 70., 59., 64.,\n",
       "       75., 60., 63., 69., 50., 25., 42., 44., 55., 48., 57., 29., 47.,\n",
       "       65., 54., 20., 53., 37., 38., 33., 52., 30., 32., 43., 45., 51.,\n",
       "       40., 46., 39., 34., 35., 41., 36., 28., 31., 27., 26., 19., 23.,\n",
       "       24., 21., 17., 22., 13.])"
      ]
     },
     "execution_count": 6,
     "metadata": {},
     "output_type": "execute_result"
    }
   ],
   "source": [
    "games['critic_score'].unique()"
   ]
  },
  {
   "cell_type": "markdown",
   "metadata": {},
   "source": [
    "Оказывается, что в столбце лишь целые числа (или пропуски). Поэтому бы должны сделать то же самое преобразование, как и со столбцом года выпуска. Пропуски, возможно, появились из-за отсутствия отзывов критиков на эту игру, а также из-за отсутствия необходимости и записи таких данных в таблицу. Наконец, `user_score` – это числовая оценка, поэтому заменим тип на float64. Однако, в нём возникает значение `tbd`. Оно означает, что оценка будет объявлена позднее. А пока мы должны заменить такое значение на пропущенное. Это достигается с помощью параметра `errors='coerce'`. Столбец `rating` же останется object, потому что имеет текстовые данные."
   ]
  },
  {
   "cell_type": "code",
   "execution_count": 7,
   "metadata": {},
   "outputs": [],
   "source": [
    "games['critic_score'] = games['critic_score'].fillna(-9999).astype('int')\n",
    "games['user_score'] = pd.to_numeric(games['user_score'], errors='coerce')"
   ]
  },
  {
   "cell_type": "markdown",
   "metadata": {},
   "source": [
    "Теперь все типы данных корректны."
   ]
  },
  {
   "cell_type": "markdown",
   "metadata": {},
   "source": [
    "### <a name=\"step2_3\"></a>Обработка пропусков"
   ]
  },
  {
   "cell_type": "markdown",
   "metadata": {},
   "source": [
    "Начнём со столбца `name`. Мы ожидаем увидеть лишь 2 записи, не содержащие имени."
   ]
  },
  {
   "cell_type": "code",
   "execution_count": 8,
   "metadata": {
    "scrolled": true
   },
   "outputs": [
    {
     "data": {
      "text/html": [
       "<div>\n",
       "<style scoped>\n",
       "    .dataframe tbody tr th:only-of-type {\n",
       "        vertical-align: middle;\n",
       "    }\n",
       "\n",
       "    .dataframe tbody tr th {\n",
       "        vertical-align: top;\n",
       "    }\n",
       "\n",
       "    .dataframe thead th {\n",
       "        text-align: right;\n",
       "    }\n",
       "</style>\n",
       "<table border=\"1\" class=\"dataframe\">\n",
       "  <thead>\n",
       "    <tr style=\"text-align: right;\">\n",
       "      <th></th>\n",
       "      <th>name</th>\n",
       "      <th>platform</th>\n",
       "      <th>year_of_release</th>\n",
       "      <th>genre</th>\n",
       "      <th>na_sales</th>\n",
       "      <th>eu_sales</th>\n",
       "      <th>jp_sales</th>\n",
       "      <th>other_sales</th>\n",
       "      <th>critic_score</th>\n",
       "      <th>user_score</th>\n",
       "      <th>rating</th>\n",
       "    </tr>\n",
       "  </thead>\n",
       "  <tbody>\n",
       "    <tr>\n",
       "      <td>659</td>\n",
       "      <td>NaN</td>\n",
       "      <td>GEN</td>\n",
       "      <td>1993</td>\n",
       "      <td>NaN</td>\n",
       "      <td>1.78</td>\n",
       "      <td>0.53</td>\n",
       "      <td>0.00</td>\n",
       "      <td>0.08</td>\n",
       "      <td>-9999</td>\n",
       "      <td>NaN</td>\n",
       "      <td>NaN</td>\n",
       "    </tr>\n",
       "    <tr>\n",
       "      <td>14244</td>\n",
       "      <td>NaN</td>\n",
       "      <td>GEN</td>\n",
       "      <td>1993</td>\n",
       "      <td>NaN</td>\n",
       "      <td>0.00</td>\n",
       "      <td>0.00</td>\n",
       "      <td>0.03</td>\n",
       "      <td>0.00</td>\n",
       "      <td>-9999</td>\n",
       "      <td>NaN</td>\n",
       "      <td>NaN</td>\n",
       "    </tr>\n",
       "  </tbody>\n",
       "</table>\n",
       "</div>"
      ],
      "text/plain": [
       "      name platform  year_of_release genre  na_sales  eu_sales  jp_sales  \\\n",
       "659    NaN      GEN             1993   NaN      1.78      0.53      0.00   \n",
       "14244  NaN      GEN             1993   NaN      0.00      0.00      0.03   \n",
       "\n",
       "       other_sales  critic_score  user_score rating  \n",
       "659           0.08         -9999         NaN    NaN  \n",
       "14244         0.00         -9999         NaN    NaN  "
      ]
     },
     "execution_count": 8,
     "metadata": {},
     "output_type": "execute_result"
    }
   ],
   "source": [
    "games[games['name'].isnull()]"
   ]
  },
  {
   "cell_type": "markdown",
   "metadata": {},
   "source": [
    "Ни имени, ни жанра, ни каких-либо оценок. Скорее всего, это ошибки в записи данных. При дальнейшем анализе эти строки нам вряд ли помогут сделать какие-либо выводы. Удалим такие наблюдения."
   ]
  },
  {
   "cell_type": "code",
   "execution_count": 9,
   "metadata": {},
   "outputs": [],
   "source": [
    "games = games.query('name.notnull()')"
   ]
  },
  {
   "cell_type": "markdown",
   "metadata": {},
   "source": [
    "После этого оказывается, что пропуски остались лишь в столбцах `user_score` и `rating`. Но мы не можем заполнить их средним или медианой, например, ведь каждая игра уникальна, её оценки не зависят от оценок других игр. Таким образом, пропусков для заполнения больше нет. Остались лишь некорректные значения типа -9999. Год выпуска и оценку критиков мы тоже логично никак не можем заполнить. Вернее, для некоторых игр мы можем сделать это вручную (из названия игры становится ясен и год), но в этом проекте опустим этот шаг."
   ]
  },
  {
   "cell_type": "code",
   "execution_count": 10,
   "metadata": {},
   "outputs": [
    {
     "data": {
      "text/plain": [
       "False    16713\n",
       "dtype: int64"
      ]
     },
     "execution_count": 10,
     "metadata": {},
     "output_type": "execute_result"
    }
   ],
   "source": [
    "games.duplicated().value_counts()"
   ]
  },
  {
   "cell_type": "markdown",
   "metadata": {},
   "source": [
    "Полных дубликатов также не обнаружено."
   ]
  },
  {
   "cell_type": "markdown",
   "metadata": {},
   "source": [
    "### <a name=\"step2_4\"></a>Подсчёт суммарных продаж во всех регионах"
   ]
  },
  {
   "cell_type": "markdown",
   "metadata": {},
   "source": [
    "Нам нужно подсчитать сумму значений по четырём столбцам и, создав новый столбец (назовём его `total_sales`), записать туда получившееся значение."
   ]
  },
  {
   "cell_type": "code",
   "execution_count": 11,
   "metadata": {},
   "outputs": [],
   "source": [
    "cols_to_sum = ['na_sales', 'eu_sales', 'jp_sales', 'other_sales']\n",
    "games['total_sales'] = games[cols_to_sum].sum(axis=1)"
   ]
  },
  {
   "cell_type": "markdown",
   "metadata": {},
   "source": [
    "Посмотрим, как выглядят данные после их обработки."
   ]
  },
  {
   "cell_type": "code",
   "execution_count": 12,
   "metadata": {},
   "outputs": [
    {
     "name": "stdout",
     "output_type": "stream",
     "text": [
      "<class 'pandas.core.frame.DataFrame'>\n",
      "Int64Index: 16713 entries, 0 to 16714\n",
      "Data columns (total 12 columns):\n",
      "name               16713 non-null object\n",
      "platform           16713 non-null object\n",
      "year_of_release    16713 non-null int64\n",
      "genre              16713 non-null object\n",
      "na_sales           16713 non-null float64\n",
      "eu_sales           16713 non-null float64\n",
      "jp_sales           16713 non-null float64\n",
      "other_sales        16713 non-null float64\n",
      "critic_score       16713 non-null int64\n",
      "user_score         7590 non-null float64\n",
      "rating             9949 non-null object\n",
      "total_sales        16713 non-null float64\n",
      "dtypes: float64(6), int64(2), object(4)\n",
      "memory usage: 1.7+ MB\n",
      "None\n",
      "Index(['name', 'platform', 'year_of_release', 'genre', 'na_sales', 'eu_sales',\n",
      "       'jp_sales', 'other_sales', 'critic_score', 'user_score', 'rating',\n",
      "       'total_sales'],\n",
      "      dtype='object')\n"
     ]
    },
    {
     "data": {
      "text/html": [
       "<div>\n",
       "<style scoped>\n",
       "    .dataframe tbody tr th:only-of-type {\n",
       "        vertical-align: middle;\n",
       "    }\n",
       "\n",
       "    .dataframe tbody tr th {\n",
       "        vertical-align: top;\n",
       "    }\n",
       "\n",
       "    .dataframe thead th {\n",
       "        text-align: right;\n",
       "    }\n",
       "</style>\n",
       "<table border=\"1\" class=\"dataframe\">\n",
       "  <thead>\n",
       "    <tr style=\"text-align: right;\">\n",
       "      <th></th>\n",
       "      <th>name</th>\n",
       "      <th>platform</th>\n",
       "      <th>year_of_release</th>\n",
       "      <th>genre</th>\n",
       "      <th>na_sales</th>\n",
       "      <th>eu_sales</th>\n",
       "      <th>jp_sales</th>\n",
       "      <th>other_sales</th>\n",
       "      <th>critic_score</th>\n",
       "      <th>user_score</th>\n",
       "      <th>rating</th>\n",
       "      <th>total_sales</th>\n",
       "    </tr>\n",
       "  </thead>\n",
       "  <tbody>\n",
       "    <tr>\n",
       "      <td>0</td>\n",
       "      <td>Wii Sports</td>\n",
       "      <td>Wii</td>\n",
       "      <td>2006</td>\n",
       "      <td>Sports</td>\n",
       "      <td>41.36</td>\n",
       "      <td>28.96</td>\n",
       "      <td>3.77</td>\n",
       "      <td>8.45</td>\n",
       "      <td>76</td>\n",
       "      <td>8.0</td>\n",
       "      <td>E</td>\n",
       "      <td>82.54</td>\n",
       "    </tr>\n",
       "    <tr>\n",
       "      <td>1</td>\n",
       "      <td>Super Mario Bros.</td>\n",
       "      <td>NES</td>\n",
       "      <td>1985</td>\n",
       "      <td>Platform</td>\n",
       "      <td>29.08</td>\n",
       "      <td>3.58</td>\n",
       "      <td>6.81</td>\n",
       "      <td>0.77</td>\n",
       "      <td>-9999</td>\n",
       "      <td>NaN</td>\n",
       "      <td>NaN</td>\n",
       "      <td>40.24</td>\n",
       "    </tr>\n",
       "    <tr>\n",
       "      <td>2</td>\n",
       "      <td>Mario Kart Wii</td>\n",
       "      <td>Wii</td>\n",
       "      <td>2008</td>\n",
       "      <td>Racing</td>\n",
       "      <td>15.68</td>\n",
       "      <td>12.76</td>\n",
       "      <td>3.79</td>\n",
       "      <td>3.29</td>\n",
       "      <td>82</td>\n",
       "      <td>8.3</td>\n",
       "      <td>E</td>\n",
       "      <td>35.52</td>\n",
       "    </tr>\n",
       "    <tr>\n",
       "      <td>3</td>\n",
       "      <td>Wii Sports Resort</td>\n",
       "      <td>Wii</td>\n",
       "      <td>2009</td>\n",
       "      <td>Sports</td>\n",
       "      <td>15.61</td>\n",
       "      <td>10.93</td>\n",
       "      <td>3.28</td>\n",
       "      <td>2.95</td>\n",
       "      <td>80</td>\n",
       "      <td>8.0</td>\n",
       "      <td>E</td>\n",
       "      <td>32.77</td>\n",
       "    </tr>\n",
       "    <tr>\n",
       "      <td>4</td>\n",
       "      <td>Pokemon Red/Pokemon Blue</td>\n",
       "      <td>GB</td>\n",
       "      <td>1996</td>\n",
       "      <td>Role-Playing</td>\n",
       "      <td>11.27</td>\n",
       "      <td>8.89</td>\n",
       "      <td>10.22</td>\n",
       "      <td>1.00</td>\n",
       "      <td>-9999</td>\n",
       "      <td>NaN</td>\n",
       "      <td>NaN</td>\n",
       "      <td>31.38</td>\n",
       "    </tr>\n",
       "    <tr>\n",
       "      <td>5</td>\n",
       "      <td>Tetris</td>\n",
       "      <td>GB</td>\n",
       "      <td>1989</td>\n",
       "      <td>Puzzle</td>\n",
       "      <td>23.20</td>\n",
       "      <td>2.26</td>\n",
       "      <td>4.22</td>\n",
       "      <td>0.58</td>\n",
       "      <td>-9999</td>\n",
       "      <td>NaN</td>\n",
       "      <td>NaN</td>\n",
       "      <td>30.26</td>\n",
       "    </tr>\n",
       "    <tr>\n",
       "      <td>6</td>\n",
       "      <td>New Super Mario Bros.</td>\n",
       "      <td>DS</td>\n",
       "      <td>2006</td>\n",
       "      <td>Platform</td>\n",
       "      <td>11.28</td>\n",
       "      <td>9.14</td>\n",
       "      <td>6.50</td>\n",
       "      <td>2.88</td>\n",
       "      <td>89</td>\n",
       "      <td>8.5</td>\n",
       "      <td>E</td>\n",
       "      <td>29.80</td>\n",
       "    </tr>\n",
       "    <tr>\n",
       "      <td>7</td>\n",
       "      <td>Wii Play</td>\n",
       "      <td>Wii</td>\n",
       "      <td>2006</td>\n",
       "      <td>Misc</td>\n",
       "      <td>13.96</td>\n",
       "      <td>9.18</td>\n",
       "      <td>2.93</td>\n",
       "      <td>2.84</td>\n",
       "      <td>58</td>\n",
       "      <td>6.6</td>\n",
       "      <td>E</td>\n",
       "      <td>28.91</td>\n",
       "    </tr>\n",
       "    <tr>\n",
       "      <td>8</td>\n",
       "      <td>New Super Mario Bros. Wii</td>\n",
       "      <td>Wii</td>\n",
       "      <td>2009</td>\n",
       "      <td>Platform</td>\n",
       "      <td>14.44</td>\n",
       "      <td>6.94</td>\n",
       "      <td>4.70</td>\n",
       "      <td>2.24</td>\n",
       "      <td>87</td>\n",
       "      <td>8.4</td>\n",
       "      <td>E</td>\n",
       "      <td>28.32</td>\n",
       "    </tr>\n",
       "    <tr>\n",
       "      <td>9</td>\n",
       "      <td>Duck Hunt</td>\n",
       "      <td>NES</td>\n",
       "      <td>1984</td>\n",
       "      <td>Shooter</td>\n",
       "      <td>26.93</td>\n",
       "      <td>0.63</td>\n",
       "      <td>0.28</td>\n",
       "      <td>0.47</td>\n",
       "      <td>-9999</td>\n",
       "      <td>NaN</td>\n",
       "      <td>NaN</td>\n",
       "      <td>28.31</td>\n",
       "    </tr>\n",
       "  </tbody>\n",
       "</table>\n",
       "</div>"
      ],
      "text/plain": [
       "                        name platform  year_of_release         genre  \\\n",
       "0                 Wii Sports      Wii             2006        Sports   \n",
       "1          Super Mario Bros.      NES             1985      Platform   \n",
       "2             Mario Kart Wii      Wii             2008        Racing   \n",
       "3          Wii Sports Resort      Wii             2009        Sports   \n",
       "4   Pokemon Red/Pokemon Blue       GB             1996  Role-Playing   \n",
       "5                     Tetris       GB             1989        Puzzle   \n",
       "6      New Super Mario Bros.       DS             2006      Platform   \n",
       "7                   Wii Play      Wii             2006          Misc   \n",
       "8  New Super Mario Bros. Wii      Wii             2009      Platform   \n",
       "9                  Duck Hunt      NES             1984       Shooter   \n",
       "\n",
       "   na_sales  eu_sales  jp_sales  other_sales  critic_score  user_score rating  \\\n",
       "0     41.36     28.96      3.77         8.45            76         8.0      E   \n",
       "1     29.08      3.58      6.81         0.77         -9999         NaN    NaN   \n",
       "2     15.68     12.76      3.79         3.29            82         8.3      E   \n",
       "3     15.61     10.93      3.28         2.95            80         8.0      E   \n",
       "4     11.27      8.89     10.22         1.00         -9999         NaN    NaN   \n",
       "5     23.20      2.26      4.22         0.58         -9999         NaN    NaN   \n",
       "6     11.28      9.14      6.50         2.88            89         8.5      E   \n",
       "7     13.96      9.18      2.93         2.84            58         6.6      E   \n",
       "8     14.44      6.94      4.70         2.24            87         8.4      E   \n",
       "9     26.93      0.63      0.28         0.47         -9999         NaN    NaN   \n",
       "\n",
       "   total_sales  \n",
       "0        82.54  \n",
       "1        40.24  \n",
       "2        35.52  \n",
       "3        32.77  \n",
       "4        31.38  \n",
       "5        30.26  \n",
       "6        29.80  \n",
       "7        28.91  \n",
       "8        28.32  \n",
       "9        28.31  "
      ]
     },
     "metadata": {},
     "output_type": "display_data"
    }
   ],
   "source": [
    "print(games.info())\n",
    "print(games.columns)\n",
    "display(games.head(10))"
   ]
  },
  {
   "cell_type": "markdown",
   "metadata": {},
   "source": [
    "## <a name=\"step3\"></a>Шаг 3. Проведите исследовательский анализ данных"
   ]
  },
  {
   "cell_type": "markdown",
   "metadata": {},
   "source": [
    "### <a name=\"step3_1\"></a>Количество выпускаемых игр в разные годы"
   ]
  },
  {
   "cell_type": "markdown",
   "metadata": {},
   "source": [
    "Подсчитаем для каждого года количество выпущенных игр. Сводную таблицу для удобства её показа транспонируем, нарисуем график зависимости количества игр от года выпуска."
   ]
  },
  {
   "cell_type": "code",
   "execution_count": 13,
   "metadata": {},
   "outputs": [
    {
     "data": {
      "text/html": [
       "<div>\n",
       "<style scoped>\n",
       "    .dataframe tbody tr th:only-of-type {\n",
       "        vertical-align: middle;\n",
       "    }\n",
       "\n",
       "    .dataframe tbody tr th {\n",
       "        vertical-align: top;\n",
       "    }\n",
       "\n",
       "    .dataframe thead th {\n",
       "        text-align: right;\n",
       "    }\n",
       "</style>\n",
       "<table border=\"1\" class=\"dataframe\">\n",
       "  <thead>\n",
       "    <tr style=\"text-align: right;\">\n",
       "      <th>year_of_release</th>\n",
       "      <th>1980</th>\n",
       "      <th>1981</th>\n",
       "      <th>1982</th>\n",
       "      <th>1983</th>\n",
       "      <th>1984</th>\n",
       "      <th>1985</th>\n",
       "      <th>1986</th>\n",
       "      <th>1987</th>\n",
       "      <th>1988</th>\n",
       "      <th>1989</th>\n",
       "      <th>...</th>\n",
       "      <th>2007</th>\n",
       "      <th>2008</th>\n",
       "      <th>2009</th>\n",
       "      <th>2010</th>\n",
       "      <th>2011</th>\n",
       "      <th>2012</th>\n",
       "      <th>2013</th>\n",
       "      <th>2014</th>\n",
       "      <th>2015</th>\n",
       "      <th>2016</th>\n",
       "    </tr>\n",
       "  </thead>\n",
       "  <tbody>\n",
       "    <tr>\n",
       "      <td>number_of_games</td>\n",
       "      <td>9</td>\n",
       "      <td>46</td>\n",
       "      <td>36</td>\n",
       "      <td>17</td>\n",
       "      <td>14</td>\n",
       "      <td>14</td>\n",
       "      <td>21</td>\n",
       "      <td>16</td>\n",
       "      <td>15</td>\n",
       "      <td>17</td>\n",
       "      <td>...</td>\n",
       "      <td>1197</td>\n",
       "      <td>1427</td>\n",
       "      <td>1426</td>\n",
       "      <td>1255</td>\n",
       "      <td>1136</td>\n",
       "      <td>653</td>\n",
       "      <td>544</td>\n",
       "      <td>581</td>\n",
       "      <td>606</td>\n",
       "      <td>502</td>\n",
       "    </tr>\n",
       "  </tbody>\n",
       "</table>\n",
       "<p>1 rows × 37 columns</p>\n",
       "</div>"
      ],
      "text/plain": [
       "year_of_release  1980  1981  1982  1983  1984  1985  1986  1987  1988  1989  \\\n",
       "number_of_games     9    46    36    17    14    14    21    16    15    17   \n",
       "\n",
       "year_of_release  ...  2007  2008  2009  2010  2011  2012  2013  2014  2015  \\\n",
       "number_of_games  ...  1197  1427  1426  1255  1136   653   544   581   606   \n",
       "\n",
       "year_of_release  2016  \n",
       "number_of_games   502  \n",
       "\n",
       "[1 rows x 37 columns]"
      ]
     },
     "metadata": {},
     "output_type": "display_data"
    },
    {
     "data": {
      "image/png": "[encoded data removed]",
      "text/plain": [
       "<Figure size 432x288 with 1 Axes>"
      ]
     },
     "metadata": {
      "needs_background": "light"
     },
     "output_type": "display_data"
    }
   ],
   "source": [
    "games_per_year = games.query('year_of_release > 0').pivot_table(index='year_of_release', values='name', aggfunc='count')\n",
    "games_per_year.columns = ['number_of_games']\n",
    "display(games_per_year.transpose())\n",
    "plt.plot(games_per_year, color='black', marker='o')\n",
    "plt.title('Количество игр, выпускаемых в каждый год')\n",
    "plt.xlabel('Год выпуска')\n",
    "plt.ylabel('Количество игр')\n",
    "plt.show()"
   ]
  },
  {
   "cell_type": "markdown",
   "metadata": {},
   "source": [
    "Итак, количество игр за весь рассматриваемый период времени сильно возросло. Однако, в последние 5 лет количество сильно отличается от предыдущих значений. Будем считать важными данные за 2012-2016 годы, остальные для нас будут не так актуальны."
   ]
  },
  {
   "cell_type": "markdown",
   "metadata": {},
   "source": [
    "### <a name=\"step3_2\"></a>Изменения продаж по платформам"
   ]
  },
  {
   "cell_type": "markdown",
   "metadata": {},
   "source": [
    "Найдём годовые продажи игр для каждой платформы, нарисуем их на одном графике, а затем отберём самые успешные из них."
   ]
  },
  {
   "cell_type": "code",
   "execution_count": 14,
   "metadata": {},
   "outputs": [
    {
     "data": {
      "image/png": "[encoded data removed]",
      "text/plain": [
       "<Figure size 432x288 with 1 Axes>"
      ]
     },
     "metadata": {
      "needs_background": "light"
     },
     "output_type": "display_data"
    }
   ],
   "source": [
    "rev_platf_year = (games.query('year_of_release > 0')\n",
    "                  .pivot_table(index='platform', columns='year_of_release', values='total_sales', aggfunc='sum')\n",
    "                  .fillna(0))\n",
    "rev_platf_year['total_rev'] = rev_platf_year.sum(axis=1)\n",
    "rev_platf_year = (rev_platf_year\n",
    "                  .sort_values(by='total_rev', ascending=False)\n",
    "                  .drop(columns=['total_rev']))\n",
    "rev_platf_year.head(7).transpose().plot()\n",
    "plt.title('Общий объём продаж в каждый год')\n",
    "plt.suptitle('Среди топ-7 платформ', fontsize=10)\n",
    "plt.xlabel('Год выпуска игры')\n",
    "plt.ylabel('Продажи (млн копий)')\n",
    "plt.show()"
   ]
  },
  {
   "cell_type": "markdown",
   "metadata": {},
   "source": [
    "Итак, мы построили распределение продаж по годам семи самых популярных платформ. Определим период сменяемости (устаревания) платформы. Сделаем это на примере линейки PlayStation (PS). Как мы видим, первая версия набирает популярность в 1993-м году. Затем, несмотря на то, что PS2 вышла в 1999, лишь в 2001 году она превосходит предыдущую модель. PS3 же обгоняет вторую версию платформы только в 2007-м году, появившись двумя годами ранее. Наконец, PS4 берёт лидерство в линейке в 2013 году, хоть и появилась она в 2011. Таким образом, в линейке модели появлялись в 1993, 1999, 2005 и 2011 году (а становятся лидерами двумя годами позже), значит, что характерный срок появления новых и исчезания старых платформ примерно равен 6 годам."
   ]
  },
  {
   "cell_type": "markdown",
   "metadata": {},
   "source": [
    "### <a name=\"step3_3\"></a>Отбор данных за соответствующий актуальный период"
   ]
  },
  {
   "cell_type": "markdown",
   "metadata": {},
   "source": [
    "В результате предыдущих исследований мы считаем актуальным периодом последние 5 лет (сменяемость платформ происходит раз в 6 лет, но более однородные данные по количеству игр имеются за последние 5 лет). Оставим лишь эти данные, они помогут построить прогноз на 2017 год."
   ]
  },
  {
   "cell_type": "code",
   "execution_count": 15,
   "metadata": {},
   "outputs": [
    {
     "name": "stdout",
     "output_type": "stream",
     "text": [
      "2886\n"
     ]
    }
   ],
   "source": [
    "act_games = games.query('year_of_release >= 2012')\n",
    "print(len(act_games))"
   ]
  },
  {
   "cell_type": "markdown",
   "metadata": {},
   "source": [
    "Итак, теперь мы имеем будем делать прогноз лишь по 2886 записям в данных из первоначальных 16715. Но теперь у нас только актуальные данные."
   ]
  },
  {
   "cell_type": "markdown",
   "metadata": {},
   "source": [
    "### <a name=\"\"></a>Лидирующие, растущие и падающие по продажам платформы"
   ]
  },
  {
   "cell_type": "code",
   "execution_count": 16,
   "metadata": {},
   "outputs": [
    {
     "data": {
      "text/plain": [
       "11"
      ]
     },
     "execution_count": 16,
     "metadata": {},
     "output_type": "execute_result"
    }
   ],
   "source": [
    "act_games['platform'].nunique()"
   ]
  },
  {
   "cell_type": "markdown",
   "metadata": {},
   "source": [
    "Итак, всего имеется 11 платформ. Найдём среди них лидера по продажам за последние годы, а также те платформы, чьи продажи падают или растут."
   ]
  },
  {
   "cell_type": "code",
   "execution_count": 17,
   "metadata": {},
   "outputs": [
    {
     "data": {
      "image/png": "[encoded data removed]",
      "text/plain": [
       "<Figure size 720x432 with 1 Axes>"
      ]
     },
     "metadata": {
      "needs_background": "light"
     },
     "output_type": "display_data"
    }
   ],
   "source": [
    "act_games_piv = (act_games\n",
    "                  .pivot_table(index='platform', columns='year_of_release', values='total_sales', aggfunc='sum')\n",
    "                  .fillna(0))\n",
    "act_games_piv['total_rev'] = act_games_piv.sum(axis=1)\n",
    "act_games_piv = (act_games_piv\n",
    "                  .sort_values(by='total_rev', ascending=False)\n",
    "                  .drop(columns=['total_rev']))\n",
    "act_games_piv.transpose().plot(figsize=(10, 6), ylim=(0,125))\n",
    "plt.title('Количество проданных игр по платформам в каждый год')\n",
    "plt.xlabel('Год')\n",
    "plt.xticks(range(2012, 2017))\n",
    "plt.ylabel('Продажи (млн копий)')\n",
    "plt.show()"
   ]
  },
  {
   "cell_type": "code",
   "execution_count": 18,
   "metadata": {},
   "outputs": [
    {
     "data": {
      "text/html": [
       "<div>\n",
       "<style scoped>\n",
       "    .dataframe tbody tr th:only-of-type {\n",
       "        vertical-align: middle;\n",
       "    }\n",
       "\n",
       "    .dataframe tbody tr th {\n",
       "        vertical-align: top;\n",
       "    }\n",
       "\n",
       "    .dataframe thead th {\n",
       "        text-align: right;\n",
       "    }\n",
       "</style>\n",
       "<table border=\"1\" class=\"dataframe\">\n",
       "  <thead>\n",
       "    <tr style=\"text-align: right;\">\n",
       "      <th>year_of_release</th>\n",
       "      <th>2012</th>\n",
       "      <th>2013</th>\n",
       "      <th>2014</th>\n",
       "      <th>2015</th>\n",
       "      <th>2016</th>\n",
       "      <th>total_sales</th>\n",
       "    </tr>\n",
       "    <tr>\n",
       "      <th>platform</th>\n",
       "      <th></th>\n",
       "      <th></th>\n",
       "      <th></th>\n",
       "      <th></th>\n",
       "      <th></th>\n",
       "      <th></th>\n",
       "    </tr>\n",
       "  </thead>\n",
       "  <tbody>\n",
       "    <tr>\n",
       "      <td>PS4</td>\n",
       "      <td>0.00</td>\n",
       "      <td>25.99</td>\n",
       "      <td>100.00</td>\n",
       "      <td>118.90</td>\n",
       "      <td>69.25</td>\n",
       "      <td>314.14</td>\n",
       "    </tr>\n",
       "    <tr>\n",
       "      <td>PS3</td>\n",
       "      <td>107.36</td>\n",
       "      <td>113.25</td>\n",
       "      <td>47.76</td>\n",
       "      <td>16.82</td>\n",
       "      <td>3.60</td>\n",
       "      <td>288.79</td>\n",
       "    </tr>\n",
       "    <tr>\n",
       "      <td>X360</td>\n",
       "      <td>99.74</td>\n",
       "      <td>88.58</td>\n",
       "      <td>34.74</td>\n",
       "      <td>11.96</td>\n",
       "      <td>1.52</td>\n",
       "      <td>236.54</td>\n",
       "    </tr>\n",
       "    <tr>\n",
       "      <td>3DS</td>\n",
       "      <td>51.36</td>\n",
       "      <td>56.57</td>\n",
       "      <td>43.76</td>\n",
       "      <td>27.78</td>\n",
       "      <td>15.14</td>\n",
       "      <td>194.61</td>\n",
       "    </tr>\n",
       "    <tr>\n",
       "      <td>XOne</td>\n",
       "      <td>0.00</td>\n",
       "      <td>18.96</td>\n",
       "      <td>54.07</td>\n",
       "      <td>60.14</td>\n",
       "      <td>26.15</td>\n",
       "      <td>159.32</td>\n",
       "    </tr>\n",
       "    <tr>\n",
       "      <td>WiiU</td>\n",
       "      <td>17.56</td>\n",
       "      <td>21.65</td>\n",
       "      <td>22.03</td>\n",
       "      <td>16.35</td>\n",
       "      <td>4.60</td>\n",
       "      <td>82.19</td>\n",
       "    </tr>\n",
       "    <tr>\n",
       "      <td>PC</td>\n",
       "      <td>23.22</td>\n",
       "      <td>12.38</td>\n",
       "      <td>13.28</td>\n",
       "      <td>8.52</td>\n",
       "      <td>5.25</td>\n",
       "      <td>62.65</td>\n",
       "    </tr>\n",
       "    <tr>\n",
       "      <td>PSV</td>\n",
       "      <td>16.19</td>\n",
       "      <td>10.59</td>\n",
       "      <td>11.90</td>\n",
       "      <td>6.25</td>\n",
       "      <td>4.25</td>\n",
       "      <td>49.18</td>\n",
       "    </tr>\n",
       "    <tr>\n",
       "      <td>Wii</td>\n",
       "      <td>21.71</td>\n",
       "      <td>8.59</td>\n",
       "      <td>3.75</td>\n",
       "      <td>1.14</td>\n",
       "      <td>0.18</td>\n",
       "      <td>35.37</td>\n",
       "    </tr>\n",
       "    <tr>\n",
       "      <td>DS</td>\n",
       "      <td>11.01</td>\n",
       "      <td>1.54</td>\n",
       "      <td>0.00</td>\n",
       "      <td>0.00</td>\n",
       "      <td>0.00</td>\n",
       "      <td>12.55</td>\n",
       "    </tr>\n",
       "    <tr>\n",
       "      <td>PSP</td>\n",
       "      <td>7.69</td>\n",
       "      <td>3.14</td>\n",
       "      <td>0.24</td>\n",
       "      <td>0.12</td>\n",
       "      <td>0.00</td>\n",
       "      <td>11.19</td>\n",
       "    </tr>\n",
       "  </tbody>\n",
       "</table>\n",
       "</div>"
      ],
      "text/plain": [
       "year_of_release    2012    2013    2014    2015   2016  total_sales\n",
       "platform                                                           \n",
       "PS4                0.00   25.99  100.00  118.90  69.25       314.14\n",
       "PS3              107.36  113.25   47.76   16.82   3.60       288.79\n",
       "X360              99.74   88.58   34.74   11.96   1.52       236.54\n",
       "3DS               51.36   56.57   43.76   27.78  15.14       194.61\n",
       "XOne               0.00   18.96   54.07   60.14  26.15       159.32\n",
       "WiiU              17.56   21.65   22.03   16.35   4.60        82.19\n",
       "PC                23.22   12.38   13.28    8.52   5.25        62.65\n",
       "PSV               16.19   10.59   11.90    6.25   4.25        49.18\n",
       "Wii               21.71    8.59    3.75    1.14   0.18        35.37\n",
       "DS                11.01    1.54    0.00    0.00   0.00        12.55\n",
       "PSP                7.69    3.14    0.24    0.12   0.00        11.19"
      ]
     },
     "metadata": {},
     "output_type": "display_data"
    }
   ],
   "source": [
    "act_games_piv['total_sales'] = act_games_piv.sum(axis=1)\n",
    "display(act_games_piv)"
   ]
  },
  {
   "cell_type": "markdown",
   "metadata": {},
   "source": [
    "Итак, лидером по продажам за последние годы является PS4 (PlayStation 4), следом за ней идут PS3 (PlayStation 3) и X360 (Xbox 360). Однако, продажи игр на PS3 и X360 неуклонно падают с 2013-го года, тогда как продажи на PS4 начали снижаться лишь в прошлом (2016) году. Это даёт основания считать PS4 потенциально прибыльной платформой в следующем году. То же происходит и с платформой XOne. Рост продаж игр на этой платформе наблюдался вплоть до 2015-го года. Таким образом, несмотря на вдвое меньшие суммарные продажи, XOne также можно считать перспективной и потенциально прибыльной платформой на будущий год. Наконец, несмотря на падение показателей, платформа 3DS имеет вполне неплохие продажи на фоне остальных. Её тоже включим в список перспективных платформ. Показатели остальных же платформ либо остаются на одном (невысоком) уровне, либо, что чаще, падают очень быстро."
   ]
  },
  {
   "cell_type": "markdown",
   "metadata": {},
   "source": [
    "### <a name=\"step3_5\"></a>График «ящик с усами» по глобальным продажам игр в разбивке по платформам"
   ]
  },
  {
   "cell_type": "code",
   "execution_count": 19,
   "metadata": {},
   "outputs": [
    {
     "name": "stderr",
     "output_type": "stream",
     "text": [
      "/opt/conda/lib/python3.7/site-packages/numpy/core/_asarray.py:83: VisibleDeprecationWarning: Creating an ndarray from ragged nested sequences (which is a list-or-tuple of lists-or-tuples-or ndarrays with different lengths or shapes) is deprecated. If you meant to do this, you must specify 'dtype=object' when creating the ndarray\n",
      "  return array(a, dtype, copy=False, order=order)\n"
     ]
    },
    {
     "data": {
      "image/png": "[encoded data removed]",
      "text/plain": [
       "<Figure size 648x648 with 1 Axes>"
      ]
     },
     "metadata": {
      "needs_background": "light"
     },
     "output_type": "display_data"
    }
   ],
   "source": [
    "act_games.boxplot(column='total_sales', by='platform', figsize=(9, 9))\n",
    "plt.title('Продажи игр по платформам')\n",
    "plt.xlabel('Платформа')\n",
    "plt.ylabel('Продажи (млн копий)')\n",
    "plt.show()"
   ]
  },
  {
   "cell_type": "markdown",
   "metadata": {},
   "source": [
    "Итак, анализируя этот график, мы можем сказать, что большинство игр на каждой из платформ продаётся не очень хорошо. На всех платформах третий квартиль не превышает 1 млн проданных копий. То есть, на каждой из платформ более 75% игр не продаются в количестве миллиона копий. Основную \"кассу\" делают уникальные игры, поэтому мы видим огромное число выбросов в верхней части. Например, огромную прибыль принёс самый далёкий выброс — более 20 млн проданных копий — GTA V на PS3 (а всего — свыше 50 млн)."
   ]
  },
  {
   "cell_type": "markdown",
   "metadata": {},
   "source": [
    "### <a name=\"step3_6\"></a>Влияние отзывов пользователей и критиков на продажи внутри одной популярной платформы"
   ]
  },
  {
   "cell_type": "markdown",
   "metadata": {},
   "source": [
    "Теперь посмотрим, как влияют отзывы на продажи PS4 (лидера за последние годы). Для этого построим диаграмму рассеяния и подсчитаем корреляцию между отзывами и продажами."
   ]
  },
  {
   "cell_type": "code",
   "execution_count": 20,
   "metadata": {},
   "outputs": [
    {
     "data": {
      "image/png": "[encoded data removed]",
      "text/plain": [
       "<Figure size 432x288 with 1 Axes>"
      ]
     },
     "metadata": {
      "needs_background": "light"
     },
     "output_type": "display_data"
    },
    {
     "name": "stdout",
     "output_type": "stream",
     "text": [
      "Корреляция между оценками пользователей и объёмами продаж игр на PS4 равна -0.03\n"
     ]
    },
    {
     "data": {
      "image/png": "[encoded data removed]",
      "text/plain": [
       "<Figure size 432x288 with 1 Axes>"
      ]
     },
     "metadata": {
      "needs_background": "light"
     },
     "output_type": "display_data"
    },
    {
     "name": "stdout",
     "output_type": "stream",
     "text": [
      "Корреляция между оценками критиков и объёмами продаж игр на PS4 равна 0.14\n"
     ]
    }
   ],
   "source": [
    "plt.scatter(act_games.query('platform == \"PS4\"')['user_score'], \n",
    "            act_games.query('platform == \"PS4\"')['total_sales'])\n",
    "plt.xlim(0, 10)\n",
    "plt.ylim(0, 15)\n",
    "plt.xticks(range(0, 11))\n",
    "plt.title('Зависимость общих продаж игр на PS4 от оценок пользователей')\n",
    "plt.xlabel('Средняя оценка пользователей (из 10)')\n",
    "plt.ylabel('Общие продажи (млн копий)')\n",
    "plt.show()\n",
    "print('Корреляция между оценками пользователей и объёмами продаж игр на PS4 равна', \n",
    "      round(act_games.query('platform == \"PS4\"')['user_score']\n",
    "            .corr(act_games.query('platform == \"PS4\"')['total_sales']), 2))\n",
    "\n",
    "plt.scatter(act_games.query('platform == \"PS4\" & critic_score > 0')['critic_score'], \n",
    "            act_games.query('platform == \"PS4\" & critic_score > 0')['total_sales'])\n",
    "plt.xlim(0, 100)\n",
    "plt.ylim(0, 15)\n",
    "plt.xticks(range(0, 101, 10))\n",
    "plt.title('Зависимость общих продаж игр на PS4 от оценок критиков')\n",
    "plt.xlabel('Средняя оценка критиков (из 100)')\n",
    "plt.ylabel('Общие продажи (млн копий)')\n",
    "plt.show()\n",
    "print('Корреляция между оценками критиков и объёмами продаж игр на PS4 равна', \n",
    "      round(act_games.query('platform == \"PS4\"')['critic_score']\n",
    "            .corr(act_games.query('platform == \"PS4\"')['total_sales']), 2))"
   ]
  },
  {
   "cell_type": "markdown",
   "metadata": {},
   "source": [
    "Итак, мы получили коэффициент корреляции между оценками пользователей и количеством продаж, равный -0.03, а ткже корреляцию оценок критиков и продаж, равный 0.14. На основании этих результатов мы можем судить о малой или почти отсутствующей корреляции между оценками пользователей и продажами. А также о том, что между оценками критиков и продажами корреляция есть (положительная), однако, не слишком высокая."
   ]
  },
  {
   "cell_type": "markdown",
   "metadata": {},
   "source": [
    "### <a name=\"step3_7\"></a>Сравнение выводов с продажами игр на других платформах"
   ]
  },
  {
   "cell_type": "markdown",
   "metadata": {},
   "source": [
    "Сравним эти характеристики и по другим платформам, помимо PS4, подсчитывая корреляции."
   ]
  },
  {
   "cell_type": "code",
   "execution_count": 21,
   "metadata": {},
   "outputs": [
    {
     "data": {
      "text/html": [
       "<div>\n",
       "<style scoped>\n",
       "    .dataframe tbody tr th:only-of-type {\n",
       "        vertical-align: middle;\n",
       "    }\n",
       "\n",
       "    .dataframe tbody tr th {\n",
       "        vertical-align: top;\n",
       "    }\n",
       "\n",
       "    .dataframe thead th {\n",
       "        text-align: right;\n",
       "    }\n",
       "</style>\n",
       "<table border=\"1\" class=\"dataframe\">\n",
       "  <thead>\n",
       "    <tr style=\"text-align: right;\">\n",
       "      <th></th>\n",
       "      <th>platform</th>\n",
       "      <th>user_vs_sales</th>\n",
       "      <th>critic_vs_sales</th>\n",
       "      <th>num_users</th>\n",
       "      <th>num_critics</th>\n",
       "    </tr>\n",
       "  </thead>\n",
       "  <tbody>\n",
       "    <tr>\n",
       "      <td>0</td>\n",
       "      <td>PS4</td>\n",
       "      <td>-0.031957</td>\n",
       "      <td>0.141595</td>\n",
       "      <td>257</td>\n",
       "      <td>252</td>\n",
       "    </tr>\n",
       "    <tr>\n",
       "      <td>1</td>\n",
       "      <td>PS3</td>\n",
       "      <td>-0.005144</td>\n",
       "      <td>0.233011</td>\n",
       "      <td>283</td>\n",
       "      <td>214</td>\n",
       "    </tr>\n",
       "    <tr>\n",
       "      <td>2</td>\n",
       "      <td>X360</td>\n",
       "      <td>0.006164</td>\n",
       "      <td>0.173295</td>\n",
       "      <td>235</td>\n",
       "      <td>171</td>\n",
       "    </tr>\n",
       "    <tr>\n",
       "      <td>3</td>\n",
       "      <td>3DS</td>\n",
       "      <td>0.197583</td>\n",
       "      <td>0.118704</td>\n",
       "      <td>114</td>\n",
       "      <td>104</td>\n",
       "    </tr>\n",
       "    <tr>\n",
       "      <td>4</td>\n",
       "      <td>XOne</td>\n",
       "      <td>-0.068925</td>\n",
       "      <td>0.180968</td>\n",
       "      <td>182</td>\n",
       "      <td>169</td>\n",
       "    </tr>\n",
       "    <tr>\n",
       "      <td>5</td>\n",
       "      <td>WiiU</td>\n",
       "      <td>0.400219</td>\n",
       "      <td>0.211754</td>\n",
       "      <td>100</td>\n",
       "      <td>90</td>\n",
       "    </tr>\n",
       "    <tr>\n",
       "      <td>6</td>\n",
       "      <td>PC</td>\n",
       "      <td>-0.121867</td>\n",
       "      <td>0.144881</td>\n",
       "      <td>206</td>\n",
       "      <td>198</td>\n",
       "    </tr>\n",
       "    <tr>\n",
       "      <td>7</td>\n",
       "      <td>PSV</td>\n",
       "      <td>-0.004339</td>\n",
       "      <td>0.389922</td>\n",
       "      <td>130</td>\n",
       "      <td>107</td>\n",
       "    </tr>\n",
       "    <tr>\n",
       "      <td>8</td>\n",
       "      <td>Wii</td>\n",
       "      <td>0.296197</td>\n",
       "      <td>0.550747</td>\n",
       "      <td>17</td>\n",
       "      <td>5</td>\n",
       "    </tr>\n",
       "    <tr>\n",
       "      <td>9</td>\n",
       "      <td>DS</td>\n",
       "      <td>0.882709</td>\n",
       "      <td>0.079326</td>\n",
       "      <td>3</td>\n",
       "      <td>1</td>\n",
       "    </tr>\n",
       "    <tr>\n",
       "      <td>10</td>\n",
       "      <td>PSP</td>\n",
       "      <td>-0.802302</td>\n",
       "      <td>0.091510</td>\n",
       "      <td>4</td>\n",
       "      <td>1</td>\n",
       "    </tr>\n",
       "  </tbody>\n",
       "</table>\n",
       "</div>"
      ],
      "text/plain": [
       "   platform  user_vs_sales  critic_vs_sales num_users num_critics\n",
       "0       PS4      -0.031957         0.141595       257         252\n",
       "1       PS3      -0.005144         0.233011       283         214\n",
       "2      X360       0.006164         0.173295       235         171\n",
       "3       3DS       0.197583         0.118704       114         104\n",
       "4      XOne      -0.068925         0.180968       182         169\n",
       "5      WiiU       0.400219         0.211754       100          90\n",
       "6        PC      -0.121867         0.144881       206         198\n",
       "7       PSV      -0.004339         0.389922       130         107\n",
       "8       Wii       0.296197         0.550747        17           5\n",
       "9        DS       0.882709         0.079326         3           1\n",
       "10      PSP      -0.802302         0.091510         4           1"
      ]
     },
     "metadata": {},
     "output_type": "display_data"
    }
   ],
   "source": [
    "corrs = pd.DataFrame(columns=['platform', 'user_vs_sales', 'critic_vs_sales', 'num_users', 'num_critics'])\n",
    "platforms = act_games_piv.index.tolist()\n",
    "for platf in platforms:\n",
    "    corrs = corrs.append({'platform' : platf,\n",
    "                          'user_vs_sales' : act_games.query('platform == @platf')['user_score']\n",
    "                                            .corr(act_games.query('platform == @platf')['total_sales']),\n",
    "                          'critic_vs_sales' : act_games.query('platform == @platf')['critic_score']\n",
    "                                              .corr(act_games.query('platform == @platf')['total_sales']),\n",
    "                          'num_users' : len(act_games.query('platform == @platf & user_score.notnull()')),\n",
    "                          'num_critics' : len(act_games.query('platform == @platf & critic_score > 0'))},\n",
    "                         ignore_index=True)\n",
    "display(corrs)"
   ]
  },
  {
   "cell_type": "markdown",
   "metadata": {},
   "source": [
    "Мы также вывели на экран количество оценок пользователей и критиков по каждой платформе. Это сделано для того, чтобы можно было судить об адекватности полученных значений. У нас для первых семи платформ не меньше 90 отзывов критиков и 100 отзывов пользователей, с таким объёмом данных уже можно больше доверять подсчитанной корреляции. Оказывается, что чаще всего оценки пользователей не коррелируют о продажами (кроме 3DS и WiiU, в которых чем выше оценка, тем больше продаж). Однако, если анализировать корреляцию продаж уже с оценками критиков, то мы видим прямую зависимость всегда, отличия лишь в уровне корреляции. Это вполне логично, критики лучше понимают рынок, поэтому их рецензии положительны, чаще всего, именно для более хороших и продаваемых игр."
   ]
  },
  {
   "cell_type": "markdown",
   "metadata": {},
   "source": [
    "### <a name=\"step3_8\"></a>Общее распределение игр по жанрам"
   ]
  },
  {
   "cell_type": "markdown",
   "metadata": {},
   "source": [
    "Теперь проанализируем то, как игры варьируются в зависимости от их жанра. Мы по-прежнему анализируем лишь игры, вышедшие за последние 5 лет, чтобы получить актуальные результаты."
   ]
  },
  {
   "cell_type": "code",
   "execution_count": 22,
   "metadata": {},
   "outputs": [
    {
     "data": {
      "text/html": [
       "<div>\n",
       "<style scoped>\n",
       "    .dataframe tbody tr th:only-of-type {\n",
       "        vertical-align: middle;\n",
       "    }\n",
       "\n",
       "    .dataframe tbody tr th {\n",
       "        vertical-align: top;\n",
       "    }\n",
       "\n",
       "    .dataframe thead th {\n",
       "        text-align: right;\n",
       "    }\n",
       "</style>\n",
       "<table border=\"1\" class=\"dataframe\">\n",
       "  <thead>\n",
       "    <tr style=\"text-align: right;\">\n",
       "      <th></th>\n",
       "      <th>num_of_games</th>\n",
       "      <th>sales_per_game</th>\n",
       "      <th>total_sales</th>\n",
       "    </tr>\n",
       "    <tr>\n",
       "      <th>genre</th>\n",
       "      <th></th>\n",
       "      <th></th>\n",
       "      <th></th>\n",
       "    </tr>\n",
       "  </thead>\n",
       "  <tbody>\n",
       "    <tr>\n",
       "      <td>Action</td>\n",
       "      <td>1031</td>\n",
       "      <td>0.427856</td>\n",
       "      <td>441.12</td>\n",
       "    </tr>\n",
       "    <tr>\n",
       "      <td>Shooter</td>\n",
       "      <td>235</td>\n",
       "      <td>1.296723</td>\n",
       "      <td>304.73</td>\n",
       "    </tr>\n",
       "    <tr>\n",
       "      <td>Role-Playing</td>\n",
       "      <td>370</td>\n",
       "      <td>0.521081</td>\n",
       "      <td>192.80</td>\n",
       "    </tr>\n",
       "    <tr>\n",
       "      <td>Sports</td>\n",
       "      <td>268</td>\n",
       "      <td>0.675634</td>\n",
       "      <td>181.07</td>\n",
       "    </tr>\n",
       "    <tr>\n",
       "      <td>Misc</td>\n",
       "      <td>192</td>\n",
       "      <td>0.442917</td>\n",
       "      <td>85.04</td>\n",
       "    </tr>\n",
       "    <tr>\n",
       "      <td>Platform</td>\n",
       "      <td>85</td>\n",
       "      <td>0.717647</td>\n",
       "      <td>61.00</td>\n",
       "    </tr>\n",
       "    <tr>\n",
       "      <td>Racing</td>\n",
       "      <td>115</td>\n",
       "      <td>0.465217</td>\n",
       "      <td>53.50</td>\n",
       "    </tr>\n",
       "    <tr>\n",
       "      <td>Fighting</td>\n",
       "      <td>109</td>\n",
       "      <td>0.408165</td>\n",
       "      <td>44.49</td>\n",
       "    </tr>\n",
       "    <tr>\n",
       "      <td>Simulation</td>\n",
       "      <td>80</td>\n",
       "      <td>0.439000</td>\n",
       "      <td>35.12</td>\n",
       "    </tr>\n",
       "    <tr>\n",
       "      <td>Adventure</td>\n",
       "      <td>302</td>\n",
       "      <td>0.097450</td>\n",
       "      <td>29.43</td>\n",
       "    </tr>\n",
       "    <tr>\n",
       "      <td>Strategy</td>\n",
       "      <td>71</td>\n",
       "      <td>0.187887</td>\n",
       "      <td>13.34</td>\n",
       "    </tr>\n",
       "    <tr>\n",
       "      <td>Puzzle</td>\n",
       "      <td>28</td>\n",
       "      <td>0.174643</td>\n",
       "      <td>4.89</td>\n",
       "    </tr>\n",
       "  </tbody>\n",
       "</table>\n",
       "</div>"
      ],
      "text/plain": [
       "              num_of_games  sales_per_game  total_sales\n",
       "genre                                                  \n",
       "Action                1031        0.427856       441.12\n",
       "Shooter                235        1.296723       304.73\n",
       "Role-Playing           370        0.521081       192.80\n",
       "Sports                 268        0.675634       181.07\n",
       "Misc                   192        0.442917        85.04\n",
       "Platform                85        0.717647        61.00\n",
       "Racing                 115        0.465217        53.50\n",
       "Fighting               109        0.408165        44.49\n",
       "Simulation              80        0.439000        35.12\n",
       "Adventure              302        0.097450        29.43\n",
       "Strategy                71        0.187887        13.34\n",
       "Puzzle                  28        0.174643         4.89"
      ]
     },
     "execution_count": 22,
     "metadata": {},
     "output_type": "execute_result"
    }
   ],
   "source": [
    "genres_piv = act_games.pivot_table(index='genre', aggfunc={'total_sales' : ['sum', 'mean'],\n",
    "                                              'name' : 'count'})\n",
    "genres_piv.columns = ['num_of_games', 'sales_per_game', 'total_sales']\n",
    "genres_piv.sort_values(by='total_sales', ascending=False)"
   ]
  },
  {
   "cell_type": "markdown",
   "metadata": {},
   "source": [
    "Мы достаточно чётко можем выделить самые прибыльные жанры (как и жанры с самыми низкими продажами). Самыми прибыльными жанрами являются экшн, шутер, ролевые игры и спорт, они доминируют на рынке игр. Но и количество таких игр больше, чем в других жанрах. Стоит, однако, отдельно сказать о том, что в пересчёте на одну игру, жанр шутер является самым прибыльным, оставляя остальные жанры по этому показателю далеко позади. Это, как правило, динамичные игры, которые, очевидно, нравятся большинству пользователей. Жанр Platform, не являясь прибыльным в совокупности, показывает отличные результаты при пересчёте на одну игру. Наименее популярными и продаваемыми жанрами являются головоломки, стратегии и приключения. Более того, по показателю средних продаж одной игры, жанр приключения наименее продаваем (в два раза меньше, чем у второго места с конца списка)."
   ]
  },
  {
   "cell_type": "markdown",
   "metadata": {},
   "source": [
    "## <a name=\"step4\"></a>Шаг 4. Составьте портрет пользователя каждого региона"
   ]
  },
  {
   "cell_type": "markdown",
   "metadata": {},
   "source": [
    "### <a name=\"step4_1\"></a>Топ-5 самых популярных платформ"
   ]
  },
  {
   "cell_type": "markdown",
   "metadata": {},
   "source": [
    "Итак, найдём 5 самых популярных платформ в регионах Северная Америка (NA), Европа (EU) и Япония (JP). Вместе с этим подсчитаем и доли платформ в общих продажах в регионе."
   ]
  },
  {
   "cell_type": "code",
   "execution_count": 23,
   "metadata": {},
   "outputs": [
    {
     "data": {
      "text/html": [
       "<div>\n",
       "<style scoped>\n",
       "    .dataframe tbody tr th:only-of-type {\n",
       "        vertical-align: middle;\n",
       "    }\n",
       "\n",
       "    .dataframe tbody tr th {\n",
       "        vertical-align: top;\n",
       "    }\n",
       "\n",
       "    .dataframe thead th {\n",
       "        text-align: right;\n",
       "    }\n",
       "</style>\n",
       "<table border=\"1\" class=\"dataframe\">\n",
       "  <thead>\n",
       "    <tr style=\"text-align: right;\">\n",
       "      <th></th>\n",
       "      <th>na_sales</th>\n",
       "      <th>na_sales_frac</th>\n",
       "    </tr>\n",
       "    <tr>\n",
       "      <th>platform</th>\n",
       "      <th></th>\n",
       "      <th></th>\n",
       "    </tr>\n",
       "  </thead>\n",
       "  <tbody>\n",
       "    <tr>\n",
       "      <td>X360</td>\n",
       "      <td>140.05</td>\n",
       "      <td>0.236983</td>\n",
       "    </tr>\n",
       "    <tr>\n",
       "      <td>PS4</td>\n",
       "      <td>108.74</td>\n",
       "      <td>0.184003</td>\n",
       "    </tr>\n",
       "    <tr>\n",
       "      <td>PS3</td>\n",
       "      <td>103.38</td>\n",
       "      <td>0.174933</td>\n",
       "    </tr>\n",
       "    <tr>\n",
       "      <td>XOne</td>\n",
       "      <td>93.12</td>\n",
       "      <td>0.157571</td>\n",
       "    </tr>\n",
       "    <tr>\n",
       "      <td>3DS</td>\n",
       "      <td>55.31</td>\n",
       "      <td>0.093592</td>\n",
       "    </tr>\n",
       "  </tbody>\n",
       "</table>\n",
       "</div>"
      ],
      "text/plain": [
       "          na_sales  na_sales_frac\n",
       "platform                         \n",
       "X360        140.05       0.236983\n",
       "PS4         108.74       0.184003\n",
       "PS3         103.38       0.174933\n",
       "XOne         93.12       0.157571\n",
       "3DS          55.31       0.093592"
      ]
     },
     "metadata": {},
     "output_type": "display_data"
    },
    {
     "data": {
      "text/html": [
       "<div>\n",
       "<style scoped>\n",
       "    .dataframe tbody tr th:only-of-type {\n",
       "        vertical-align: middle;\n",
       "    }\n",
       "\n",
       "    .dataframe tbody tr th {\n",
       "        vertical-align: top;\n",
       "    }\n",
       "\n",
       "    .dataframe thead th {\n",
       "        text-align: right;\n",
       "    }\n",
       "</style>\n",
       "<table border=\"1\" class=\"dataframe\">\n",
       "  <thead>\n",
       "    <tr style=\"text-align: right;\">\n",
       "      <th></th>\n",
       "      <th>eu_sales</th>\n",
       "      <th>eu_sales_frac</th>\n",
       "    </tr>\n",
       "    <tr>\n",
       "      <th>platform</th>\n",
       "      <th></th>\n",
       "      <th></th>\n",
       "    </tr>\n",
       "  </thead>\n",
       "  <tbody>\n",
       "    <tr>\n",
       "      <td>PS4</td>\n",
       "      <td>141.09</td>\n",
       "      <td>0.278383</td>\n",
       "    </tr>\n",
       "    <tr>\n",
       "      <td>PS3</td>\n",
       "      <td>106.86</td>\n",
       "      <td>0.210844</td>\n",
       "    </tr>\n",
       "    <tr>\n",
       "      <td>X360</td>\n",
       "      <td>74.52</td>\n",
       "      <td>0.147034</td>\n",
       "    </tr>\n",
       "    <tr>\n",
       "      <td>XOne</td>\n",
       "      <td>51.59</td>\n",
       "      <td>0.101792</td>\n",
       "    </tr>\n",
       "    <tr>\n",
       "      <td>3DS</td>\n",
       "      <td>42.64</td>\n",
       "      <td>0.084132</td>\n",
       "    </tr>\n",
       "  </tbody>\n",
       "</table>\n",
       "</div>"
      ],
      "text/plain": [
       "          eu_sales  eu_sales_frac\n",
       "platform                         \n",
       "PS4         141.09       0.278383\n",
       "PS3         106.86       0.210844\n",
       "X360         74.52       0.147034\n",
       "XOne         51.59       0.101792\n",
       "3DS          42.64       0.084132"
      ]
     },
     "metadata": {},
     "output_type": "display_data"
    },
    {
     "data": {
      "text/html": [
       "<div>\n",
       "<style scoped>\n",
       "    .dataframe tbody tr th:only-of-type {\n",
       "        vertical-align: middle;\n",
       "    }\n",
       "\n",
       "    .dataframe tbody tr th {\n",
       "        vertical-align: top;\n",
       "    }\n",
       "\n",
       "    .dataframe thead th {\n",
       "        text-align: right;\n",
       "    }\n",
       "</style>\n",
       "<table border=\"1\" class=\"dataframe\">\n",
       "  <thead>\n",
       "    <tr style=\"text-align: right;\">\n",
       "      <th></th>\n",
       "      <th>jp_sales</th>\n",
       "      <th>jp_sales_frac</th>\n",
       "    </tr>\n",
       "    <tr>\n",
       "      <th>platform</th>\n",
       "      <th></th>\n",
       "      <th></th>\n",
       "    </tr>\n",
       "  </thead>\n",
       "  <tbody>\n",
       "    <tr>\n",
       "      <td>3DS</td>\n",
       "      <td>87.79</td>\n",
       "      <td>0.455862</td>\n",
       "    </tr>\n",
       "    <tr>\n",
       "      <td>PS3</td>\n",
       "      <td>35.29</td>\n",
       "      <td>0.183249</td>\n",
       "    </tr>\n",
       "    <tr>\n",
       "      <td>PSV</td>\n",
       "      <td>21.04</td>\n",
       "      <td>0.109253</td>\n",
       "    </tr>\n",
       "    <tr>\n",
       "      <td>PS4</td>\n",
       "      <td>15.96</td>\n",
       "      <td>0.082875</td>\n",
       "    </tr>\n",
       "    <tr>\n",
       "      <td>WiiU</td>\n",
       "      <td>13.01</td>\n",
       "      <td>0.067556</td>\n",
       "    </tr>\n",
       "  </tbody>\n",
       "</table>\n",
       "</div>"
      ],
      "text/plain": [
       "          jp_sales  jp_sales_frac\n",
       "platform                         \n",
       "3DS          87.79       0.455862\n",
       "PS3          35.29       0.183249\n",
       "PSV          21.04       0.109253\n",
       "PS4          15.96       0.082875\n",
       "WiiU         13.01       0.067556"
      ]
     },
     "metadata": {},
     "output_type": "display_data"
    }
   ],
   "source": [
    "na_total_sales = act_games['na_sales'].sum()\n",
    "eu_total_sales = act_games['eu_sales'].sum()\n",
    "jp_total_sales = act_games['jp_sales'].sum()\n",
    "\n",
    "na_top_pl = (act_games\n",
    "             .pivot_table(index='platform', values='na_sales', aggfunc='sum')\n",
    "             .sort_values(by='na_sales', ascending=False)\n",
    "             .head(5))\n",
    "na_top_pl['na_sales_frac'] = na_top_pl['na_sales'] / na_total_sales\n",
    "display(na_top_pl)\n",
    "\n",
    "eu_top_pl = (act_games\n",
    "             .pivot_table(index='platform', values='eu_sales', aggfunc='sum')\n",
    "             .sort_values(by='eu_sales', ascending=False)\n",
    "             .head(5))\n",
    "eu_top_pl['eu_sales_frac'] = eu_top_pl['eu_sales'] / eu_total_sales\n",
    "display(eu_top_pl)\n",
    "\n",
    "jp_top_pl = (act_games\n",
    "             .pivot_table(index='platform', values='jp_sales', aggfunc='sum')\n",
    "             .sort_values(by='jp_sales', ascending=False)\n",
    "             .head(5))\n",
    "jp_top_pl['jp_sales_frac'] = jp_top_pl['jp_sales'] / jp_total_sales\n",
    "display(jp_top_pl)"
   ]
  },
  {
   "cell_type": "markdown",
   "metadata": {},
   "source": [
    "Здесь мы видим различных лидером по дле продаж в зависимости от региона. Вполне объяснимо первенство X360 на рынке Северной Америки (доля 23.7% против 14.7% в Европе и отсутствия в топ-5 в Японии), ведь Xbox — это \"детище\" американской компании Microsoft, у которой есть огромное влияние на континенте в игровой индустрии. Лидером в Европе является PS4 (27.8%), но хорошие позиции у платформы и в NA (18.4%, второе место). Доля PS4 в JP мала, но выше, чем у X360 (8.3%). Что касается лидера продаж в Японии, то ситуация здесь кардинально другая. Почти половины рынка в сфере на счету платформы Nintendo 3DS (45.6%). Так же в топ-5 разные версии PlayStation, а также ещё одна из Nintendo (WiiU). Все эти платформы являются японскими. Вполне можно было ожидать огромной доли \"родных\" платформ в Японии, но зарубежные платформы даже близко не подбираются к вершине списка. 3DS же в Северной Америке и Европе имеет примерно равные доли (9.4% и 8.4% соответственно)."
   ]
  },
  {
   "cell_type": "markdown",
   "metadata": {},
   "source": [
    "### <a name=\"step4_2\"></a>Топ-5 самых популярных жанров"
   ]
  },
  {
   "cell_type": "markdown",
   "metadata": {},
   "source": [
    "Теперь же перейдём к поиску 5 самых популярных жанров в тех же регионах. Снова подсчитаем и доли жанров в общих продажах в каждом из регионов."
   ]
  },
  {
   "cell_type": "code",
   "execution_count": 24,
   "metadata": {},
   "outputs": [
    {
     "data": {
      "text/html": [
       "<div>\n",
       "<style scoped>\n",
       "    .dataframe tbody tr th:only-of-type {\n",
       "        vertical-align: middle;\n",
       "    }\n",
       "\n",
       "    .dataframe tbody tr th {\n",
       "        vertical-align: top;\n",
       "    }\n",
       "\n",
       "    .dataframe thead th {\n",
       "        text-align: right;\n",
       "    }\n",
       "</style>\n",
       "<table border=\"1\" class=\"dataframe\">\n",
       "  <thead>\n",
       "    <tr style=\"text-align: right;\">\n",
       "      <th></th>\n",
       "      <th>na_sales</th>\n",
       "      <th>na_sales_frac</th>\n",
       "    </tr>\n",
       "    <tr>\n",
       "      <th>genre</th>\n",
       "      <th></th>\n",
       "      <th></th>\n",
       "    </tr>\n",
       "  </thead>\n",
       "  <tbody>\n",
       "    <tr>\n",
       "      <td>Action</td>\n",
       "      <td>177.84</td>\n",
       "      <td>0.300929</td>\n",
       "    </tr>\n",
       "    <tr>\n",
       "      <td>Shooter</td>\n",
       "      <td>144.77</td>\n",
       "      <td>0.244970</td>\n",
       "    </tr>\n",
       "    <tr>\n",
       "      <td>Sports</td>\n",
       "      <td>81.53</td>\n",
       "      <td>0.137960</td>\n",
       "    </tr>\n",
       "    <tr>\n",
       "      <td>Role-Playing</td>\n",
       "      <td>64.00</td>\n",
       "      <td>0.108297</td>\n",
       "    </tr>\n",
       "    <tr>\n",
       "      <td>Misc</td>\n",
       "      <td>38.19</td>\n",
       "      <td>0.064623</td>\n",
       "    </tr>\n",
       "  </tbody>\n",
       "</table>\n",
       "</div>"
      ],
      "text/plain": [
       "              na_sales  na_sales_frac\n",
       "genre                                \n",
       "Action          177.84       0.300929\n",
       "Shooter         144.77       0.244970\n",
       "Sports           81.53       0.137960\n",
       "Role-Playing     64.00       0.108297\n",
       "Misc             38.19       0.064623"
      ]
     },
     "metadata": {},
     "output_type": "display_data"
    },
    {
     "data": {
      "text/html": [
       "<div>\n",
       "<style scoped>\n",
       "    .dataframe tbody tr th:only-of-type {\n",
       "        vertical-align: middle;\n",
       "    }\n",
       "\n",
       "    .dataframe tbody tr th {\n",
       "        vertical-align: top;\n",
       "    }\n",
       "\n",
       "    .dataframe thead th {\n",
       "        text-align: right;\n",
       "    }\n",
       "</style>\n",
       "<table border=\"1\" class=\"dataframe\">\n",
       "  <thead>\n",
       "    <tr style=\"text-align: right;\">\n",
       "      <th></th>\n",
       "      <th>eu_sales</th>\n",
       "      <th>eu_sales_frac</th>\n",
       "    </tr>\n",
       "    <tr>\n",
       "      <th>genre</th>\n",
       "      <th></th>\n",
       "      <th></th>\n",
       "    </tr>\n",
       "  </thead>\n",
       "  <tbody>\n",
       "    <tr>\n",
       "      <td>Action</td>\n",
       "      <td>159.34</td>\n",
       "      <td>0.314392</td>\n",
       "    </tr>\n",
       "    <tr>\n",
       "      <td>Shooter</td>\n",
       "      <td>113.47</td>\n",
       "      <td>0.223886</td>\n",
       "    </tr>\n",
       "    <tr>\n",
       "      <td>Sports</td>\n",
       "      <td>69.09</td>\n",
       "      <td>0.136321</td>\n",
       "    </tr>\n",
       "    <tr>\n",
       "      <td>Role-Playing</td>\n",
       "      <td>48.53</td>\n",
       "      <td>0.095754</td>\n",
       "    </tr>\n",
       "    <tr>\n",
       "      <td>Racing</td>\n",
       "      <td>27.29</td>\n",
       "      <td>0.053846</td>\n",
       "    </tr>\n",
       "  </tbody>\n",
       "</table>\n",
       "</div>"
      ],
      "text/plain": [
       "              eu_sales  eu_sales_frac\n",
       "genre                                \n",
       "Action          159.34       0.314392\n",
       "Shooter         113.47       0.223886\n",
       "Sports           69.09       0.136321\n",
       "Role-Playing     48.53       0.095754\n",
       "Racing           27.29       0.053846"
      ]
     },
     "metadata": {},
     "output_type": "display_data"
    },
    {
     "data": {
      "text/html": [
       "<div>\n",
       "<style scoped>\n",
       "    .dataframe tbody tr th:only-of-type {\n",
       "        vertical-align: middle;\n",
       "    }\n",
       "\n",
       "    .dataframe tbody tr th {\n",
       "        vertical-align: top;\n",
       "    }\n",
       "\n",
       "    .dataframe thead th {\n",
       "        text-align: right;\n",
       "    }\n",
       "</style>\n",
       "<table border=\"1\" class=\"dataframe\">\n",
       "  <thead>\n",
       "    <tr style=\"text-align: right;\">\n",
       "      <th></th>\n",
       "      <th>jp_sales</th>\n",
       "      <th>jp_sales_frac</th>\n",
       "    </tr>\n",
       "    <tr>\n",
       "      <th>genre</th>\n",
       "      <th></th>\n",
       "      <th></th>\n",
       "    </tr>\n",
       "  </thead>\n",
       "  <tbody>\n",
       "    <tr>\n",
       "      <td>Role-Playing</td>\n",
       "      <td>65.44</td>\n",
       "      <td>0.339807</td>\n",
       "    </tr>\n",
       "    <tr>\n",
       "      <td>Action</td>\n",
       "      <td>52.80</td>\n",
       "      <td>0.274172</td>\n",
       "    </tr>\n",
       "    <tr>\n",
       "      <td>Misc</td>\n",
       "      <td>12.86</td>\n",
       "      <td>0.066777</td>\n",
       "    </tr>\n",
       "    <tr>\n",
       "      <td>Simulation</td>\n",
       "      <td>10.41</td>\n",
       "      <td>0.054055</td>\n",
       "    </tr>\n",
       "    <tr>\n",
       "      <td>Fighting</td>\n",
       "      <td>9.44</td>\n",
       "      <td>0.049019</td>\n",
       "    </tr>\n",
       "  </tbody>\n",
       "</table>\n",
       "</div>"
      ],
      "text/plain": [
       "              jp_sales  jp_sales_frac\n",
       "genre                                \n",
       "Role-Playing     65.44       0.339807\n",
       "Action           52.80       0.274172\n",
       "Misc             12.86       0.066777\n",
       "Simulation       10.41       0.054055\n",
       "Fighting          9.44       0.049019"
      ]
     },
     "metadata": {},
     "output_type": "display_data"
    }
   ],
   "source": [
    "na_top_gen = (act_games\n",
    "             .pivot_table(index='genre', values='na_sales', aggfunc='sum')\n",
    "             .sort_values(by='na_sales', ascending=False)\n",
    "             .head(5))\n",
    "na_top_gen['na_sales_frac'] = na_top_gen['na_sales'] / na_total_sales\n",
    "display(na_top_gen)\n",
    "\n",
    "eu_top_gen = (act_games\n",
    "             .pivot_table(index='genre', values='eu_sales', aggfunc='sum')\n",
    "             .sort_values(by='eu_sales', ascending=False)\n",
    "             .head(5))\n",
    "eu_top_gen['eu_sales_frac'] = eu_top_gen['eu_sales'] / eu_total_sales\n",
    "display(eu_top_gen)\n",
    "\n",
    "jp_top_gen = (act_games\n",
    "             .pivot_table(index='genre', values='jp_sales', aggfunc='sum')\n",
    "             .sort_values(by='jp_sales', ascending=False)\n",
    "             .head(5))\n",
    "jp_top_gen['jp_sales_frac'] = jp_top_gen['jp_sales'] / jp_total_sales\n",
    "display(jp_top_gen)"
   ]
  },
  {
   "cell_type": "markdown",
   "metadata": {},
   "source": [
    "Итак, при анализе полученных таблиц, можно сделать несколько выводов. В случае популярности жанров Северная Америка и Европа очень похожи: первые четыре места рейтинга точно совпадают (а доли близки между собой). Однако, в Японии мы наблюдаем интересную ситуацию. Здесь с долей в 34% лидируют ролевые игры, которые занимали лишь четвёртую позицию в других регионах (доля около 10%). Также на верхних позициях и такие жанры, как Fighting и Simulation. По всей видимости, такое различие получается из-за культурных особенностей региона (очень популярные игры с Покемонами, которые как раз находятся в категории ролевых игр)."
   ]
  },
  {
   "cell_type": "markdown",
   "metadata": {},
   "source": [
    "### <a name=\"step4_3\"></a>Влияние рейтинга ESRB на продажи"
   ]
  },
  {
   "cell_type": "markdown",
   "metadata": {},
   "source": [
    "Теперь узнаем, как рейтинг ESRB влияет на продажи в каждом из регионов (и влияет ли вообще). Но чтобы узнать более полную картину, поймём, что означают сокращения в столбце рейтинга."
   ]
  },
  {
   "cell_type": "markdown",
   "metadata": {},
   "source": [
    "Итак, в столбце рейтинга (помимо пропущенных значений) имеется четыре уникальных значения: M, E, E10+ и T. \n",
    "- M (Mature) — для взрослых;\n",
    "- E (Everyone)— для всех;\n",
    "- E10+ (Everyone 10 and older) — для всех от 10 лет и старше;\n",
    "- T (Teen) — для всех от 13 лет и старше."
   ]
  },
  {
   "cell_type": "code",
   "execution_count": 25,
   "metadata": {},
   "outputs": [
    {
     "data": {
      "text/html": [
       "<div>\n",
       "<style scoped>\n",
       "    .dataframe tbody tr th:only-of-type {\n",
       "        vertical-align: middle;\n",
       "    }\n",
       "\n",
       "    .dataframe tbody tr th {\n",
       "        vertical-align: top;\n",
       "    }\n",
       "\n",
       "    .dataframe thead th {\n",
       "        text-align: right;\n",
       "    }\n",
       "</style>\n",
       "<table border=\"1\" class=\"dataframe\">\n",
       "  <thead>\n",
       "    <tr style=\"text-align: right;\">\n",
       "      <th></th>\n",
       "      <th>na_sales</th>\n",
       "      <th>na_sales_frac</th>\n",
       "    </tr>\n",
       "    <tr>\n",
       "      <th>rating</th>\n",
       "      <th></th>\n",
       "      <th></th>\n",
       "    </tr>\n",
       "  </thead>\n",
       "  <tbody>\n",
       "    <tr>\n",
       "      <td>M</td>\n",
       "      <td>231.57</td>\n",
       "      <td>0.474860</td>\n",
       "    </tr>\n",
       "    <tr>\n",
       "      <td>E</td>\n",
       "      <td>114.37</td>\n",
       "      <td>0.234528</td>\n",
       "    </tr>\n",
       "    <tr>\n",
       "      <td>E10+</td>\n",
       "      <td>75.70</td>\n",
       "      <td>0.155231</td>\n",
       "    </tr>\n",
       "    <tr>\n",
       "      <td>T</td>\n",
       "      <td>66.02</td>\n",
       "      <td>0.135381</td>\n",
       "    </tr>\n",
       "  </tbody>\n",
       "</table>\n",
       "</div>"
      ],
      "text/plain": [
       "        na_sales  na_sales_frac\n",
       "rating                         \n",
       "M         231.57       0.474860\n",
       "E         114.37       0.234528\n",
       "E10+       75.70       0.155231\n",
       "T          66.02       0.135381"
      ]
     },
     "metadata": {},
     "output_type": "display_data"
    },
    {
     "data": {
      "text/html": [
       "<div>\n",
       "<style scoped>\n",
       "    .dataframe tbody tr th:only-of-type {\n",
       "        vertical-align: middle;\n",
       "    }\n",
       "\n",
       "    .dataframe tbody tr th {\n",
       "        vertical-align: top;\n",
       "    }\n",
       "\n",
       "    .dataframe thead th {\n",
       "        text-align: right;\n",
       "    }\n",
       "</style>\n",
       "<table border=\"1\" class=\"dataframe\">\n",
       "  <thead>\n",
       "    <tr style=\"text-align: right;\">\n",
       "      <th></th>\n",
       "      <th>eu_sales</th>\n",
       "      <th>eu_sales_frac</th>\n",
       "    </tr>\n",
       "    <tr>\n",
       "      <th>rating</th>\n",
       "      <th></th>\n",
       "      <th></th>\n",
       "    </tr>\n",
       "  </thead>\n",
       "  <tbody>\n",
       "    <tr>\n",
       "      <td>M</td>\n",
       "      <td>193.96</td>\n",
       "      <td>0.467013</td>\n",
       "    </tr>\n",
       "    <tr>\n",
       "      <td>E</td>\n",
       "      <td>113.03</td>\n",
       "      <td>0.272152</td>\n",
       "    </tr>\n",
       "    <tr>\n",
       "      <td>E10+</td>\n",
       "      <td>55.37</td>\n",
       "      <td>0.133319</td>\n",
       "    </tr>\n",
       "    <tr>\n",
       "      <td>T</td>\n",
       "      <td>52.96</td>\n",
       "      <td>0.127516</td>\n",
       "    </tr>\n",
       "  </tbody>\n",
       "</table>\n",
       "</div>"
      ],
      "text/plain": [
       "        eu_sales  eu_sales_frac\n",
       "rating                         \n",
       "M         193.96       0.467013\n",
       "E         113.03       0.272152\n",
       "E10+       55.37       0.133319\n",
       "T          52.96       0.127516"
      ]
     },
     "metadata": {},
     "output_type": "display_data"
    },
    {
     "data": {
      "text/html": [
       "<div>\n",
       "<style scoped>\n",
       "    .dataframe tbody tr th:only-of-type {\n",
       "        vertical-align: middle;\n",
       "    }\n",
       "\n",
       "    .dataframe tbody tr th {\n",
       "        vertical-align: top;\n",
       "    }\n",
       "\n",
       "    .dataframe thead th {\n",
       "        text-align: right;\n",
       "    }\n",
       "</style>\n",
       "<table border=\"1\" class=\"dataframe\">\n",
       "  <thead>\n",
       "    <tr style=\"text-align: right;\">\n",
       "      <th></th>\n",
       "      <th>jp_sales</th>\n",
       "      <th>jp_sales_frac</th>\n",
       "    </tr>\n",
       "    <tr>\n",
       "      <th>rating</th>\n",
       "      <th></th>\n",
       "      <th></th>\n",
       "    </tr>\n",
       "  </thead>\n",
       "  <tbody>\n",
       "    <tr>\n",
       "      <td>E</td>\n",
       "      <td>28.33</td>\n",
       "      <td>0.338309</td>\n",
       "    </tr>\n",
       "    <tr>\n",
       "      <td>T</td>\n",
       "      <td>26.02</td>\n",
       "      <td>0.310724</td>\n",
       "    </tr>\n",
       "    <tr>\n",
       "      <td>M</td>\n",
       "      <td>21.20</td>\n",
       "      <td>0.253165</td>\n",
       "    </tr>\n",
       "    <tr>\n",
       "      <td>E10+</td>\n",
       "      <td>8.19</td>\n",
       "      <td>0.097803</td>\n",
       "    </tr>\n",
       "  </tbody>\n",
       "</table>\n",
       "</div>"
      ],
      "text/plain": [
       "        jp_sales  jp_sales_frac\n",
       "rating                         \n",
       "E          28.33       0.338309\n",
       "T          26.02       0.310724\n",
       "M          21.20       0.253165\n",
       "E10+        8.19       0.097803"
      ]
     },
     "metadata": {},
     "output_type": "display_data"
    }
   ],
   "source": [
    "na_total_sales = act_games.query('rating.notnull()')['na_sales'].sum()\n",
    "eu_total_sales = act_games.query('rating.notnull()')['eu_sales'].sum()\n",
    "jp_total_sales = act_games.query('rating.notnull()')['jp_sales'].sum()\n",
    "# чтоб считать долю не от всех, а от всех, где есть рейтинг\n",
    "\n",
    "na_rating = (act_games\n",
    "             .pivot_table(index='rating', values='na_sales', aggfunc='sum')\n",
    "             .sort_values(by='na_sales', ascending=False))\n",
    "na_rating['na_sales_frac'] = na_rating['na_sales'] / na_total_sales\n",
    "display(na_rating)\n",
    "\n",
    "eu_rating = (act_games\n",
    "             .pivot_table(index='rating', values='eu_sales', aggfunc='sum')\n",
    "             .sort_values(by='eu_sales', ascending=False))\n",
    "eu_rating['eu_sales_frac'] = eu_rating['eu_sales'] / eu_total_sales\n",
    "display(eu_rating)\n",
    "\n",
    "jp_rating = (act_games\n",
    "             .pivot_table(index='rating', values='jp_sales', aggfunc='sum')\n",
    "             .sort_values(by='jp_sales', ascending=False))\n",
    "jp_rating['jp_sales_frac'] = jp_rating['jp_sales'] / jp_total_sales\n",
    "display(jp_rating)"
   ]
  },
  {
   "cell_type": "markdown",
   "metadata": {},
   "source": [
    "Итак, смотря на таблицы с результатами, мы снова замечаем сильное сходство в регионах NA и EU. В них почти половина всех игр (для которых известен рейтинг) принадлежит рейтингу \"для взрослых\". В обоих регионах второе место (доля около 25%) занимает контент \"для всех\". В Японии же ситуация снова другая. Здесь почти 2/3 игр продаётся с рейтингом \"13+ лет\" и \"для всех\", а доля контента \"для взрослых\" составляет лишь четверть от всех продаж. Кажется, это снова связано со спецификой японской культуры и моды в сфере игр. Как мы видели, в Японии главенствует жанр ролевых игр, а шутеров нет и в пятерке лидеров по жанрам. Это сильно влияет и на полученные результаты в этом разделе. В регионе JP не особо предпочитают игры с элементами жестокости, в отличие от других регионов. Поэтому, мы можем сказать, что рейтинг действительно влияет на продажи в отдельно взятом регионе, однако именно жанр игры является первичным признаком таких различий."
   ]
  },
  {
   "cell_type": "markdown",
   "metadata": {},
   "source": [
    "## <a name=\"step5\"></a>Шаг 5. Проверьте гипотезы"
   ]
  },
  {
   "cell_type": "markdown",
   "metadata": {},
   "source": [
    "Прежде чем проверить статистические гипотезы, заранее зададим уровень значимости `alpha = 0.05`, далее будем использовать именно такой порог. "
   ]
  },
  {
   "cell_type": "markdown",
   "metadata": {},
   "source": [
    "### <a name=\"step5_1\"></a>Средние пользовательские рейтинги платформ Xbox One и PC одинаковые"
   ]
  },
  {
   "cell_type": "markdown",
   "metadata": {},
   "source": [
    "В данном случае нам нужно проверить гипотезу о равенстве двух средних. Это позволяет сделать t-тест (критерий Стьюдента). Нулевая гипотеза будет формулироваться как \"средние пользовательские рейтинги платформ Xbox One и PC одинаковые\", а альтернативная — \"средние пользовательские рейтинги платформ Xbox One и PC различаются\" (нам не важно, какое из средних окажется больше, поэтому тест будет двусторонним). Также важно помнить, что наблюдения в выборках независимы."
   ]
  },
  {
   "cell_type": "markdown",
   "metadata": {},
   "source": [
    "Создадим группы для дальнейшего анализа."
   ]
  },
  {
   "cell_type": "code",
   "execution_count": 26,
   "metadata": {},
   "outputs": [],
   "source": [
    "user_rat_xone = act_games.query('platform == \"XOne\" & user_score.notnull()')['user_score'].reset_index(drop=True)\n",
    "user_rat_pc = act_games.query('platform == \"PC\" & user_score.notnull()')['user_score'].reset_index(drop=True)"
   ]
  },
  {
   "cell_type": "markdown",
   "metadata": {},
   "source": [
    "Теперь можем переходить непосредственно к тестированию гипотезы."
   ]
  },
  {
   "cell_type": "code",
   "execution_count": 27,
   "metadata": {
    "scrolled": true
   },
   "outputs": [
    {
     "name": "stdout",
     "output_type": "stream",
     "text": [
      "p-value: 0.5535080500643661\n",
      "Среднее первой группы: 6.521428571428572\n",
      "Среднее второй группы: 6.4286407766990274\n",
      "НЕ отвергаем нулевую гипотезу\n"
     ]
    }
   ],
   "source": [
    "alpha = 0.05\n",
    "results_hyp1 = st.ttest_ind(user_rat_xone, user_rat_pc)\n",
    "print('p-value:', results_hyp1.pvalue)\n",
    "print('Среднее первой группы:', user_rat_xone.mean())\n",
    "print('Среднее второй группы:', user_rat_pc.mean())\n",
    "if results_hyp1.pvalue < alpha:\n",
    "    print('Отвергаем нулевую гипотезу')\n",
    "else:\n",
    "    print('НЕ отвергаем нулевую гипотезу')"
   ]
  },
  {
   "cell_type": "markdown",
   "metadata": {},
   "source": [
    "Итак, тестирование гипотезы показало нам, что p-value намного больше уровня значимости. Такое различие средних в наших группах мы могли получить случайно с вероятностью более 55%. Таким образом, мы не можем отвергнуть гипотезу об их равенстве."
   ]
  },
  {
   "cell_type": "markdown",
   "metadata": {},
   "source": [
    "### <a name=\"step5_2\"></a>Средние пользовательские рейтинги жанров Action и Sports разные"
   ]
  },
  {
   "cell_type": "markdown",
   "metadata": {},
   "source": [
    "Перейдём к тестированию другой гипотезы. Здесь мы также должны проверить гипотезу на равенство средних в двух независимых группах. Снова будем использовать двусторонний (снова неважно, у какой группы среднее будет выше) t-тест. Нулевую гипотезу сформулируем как \"средние пользовательские рейтинги жанров Action и Sports НЕ являются разными\", а альтернативную — \"средние пользовательские рейтинги жанров Action и Sports различаются\"."
   ]
  },
  {
   "cell_type": "markdown",
   "metadata": {},
   "source": [
    "Снова создадим группы для дальнейшего анализа, а затем тестируем и саму гипотезу."
   ]
  },
  {
   "cell_type": "code",
   "execution_count": 28,
   "metadata": {},
   "outputs": [],
   "source": [
    "user_rat_action = act_games.query('genre == \"Action\" & user_score.notnull()')['user_score'].reset_index(drop=True)\n",
    "user_rat_sports = act_games.query('genre == \"Sports\" & user_score.notnull()')['user_score'].reset_index(drop=True)"
   ]
  },
  {
   "cell_type": "code",
   "execution_count": 29,
   "metadata": {},
   "outputs": [
    {
     "name": "stdout",
     "output_type": "stream",
     "text": [
      "p-value: 3.7163089460934874e-26\n",
      "Среднее первой группы: 6.825047801147227\n",
      "Среднее второй группы: 5.455897435897437\n",
      "Отвергаем нулевую гипотезу\n"
     ]
    }
   ],
   "source": [
    "alpha = 0.05\n",
    "results_hyp2 = st.ttest_ind(user_rat_action, user_rat_sports)\n",
    "print('p-value:', results_hyp2.pvalue)\n",
    "print('Среднее первой группы:', user_rat_action.mean())\n",
    "print('Среднее второй группы:', user_rat_sports.mean())\n",
    "if results_hyp2.pvalue < alpha:\n",
    "    print('Отвергаем нулевую гипотезу')\n",
    "else:\n",
    "    print('НЕ отвергаем нулевую гипотезу')"
   ]
  },
  {
   "cell_type": "markdown",
   "metadata": {},
   "source": [
    "В этот раз тестирование гипотезы показало, что p-value уже намного меньше уровня значимости. Такие различия средних в наших группах мы, по сути, не могли получить случайно (вероятность почти 0%). Таким образом, мы отвергаем гипотезу о равенстве средних, то есть рейтинги действительно отличаются."
   ]
  },
  {
   "cell_type": "markdown",
   "metadata": {},
   "source": [
    "## <a name=\"step6\"></a>Шаг 6. Напишите общий вывод"
   ]
  },
  {
   "cell_type": "markdown",
   "metadata": {},
   "source": [
    "На основании результатов этого проекта мы можем сделать некоторые выводы по вопросам, которые ставились перед нами в самом начале.\n",
    "1. Исходя из количества выпускаемых игр в каждый год, а также из динамики изменения продаж по платформам ежегодно, было выяснено, что характерный период устаревания игр и платформ — около 5 лет;\n",
    "1. Самой прибыльной платформой последних лет является PS4, хотя и её продажи уже начинают снижаться;\n",
    "1. На всех платформах большинство игр не продаются очень хорошо, основную \"кассу\" делают уникальные игры (например, GTA 5);\n",
    "1. Чаще всего, отзывы пользователей не коррелируют с общими продажами, а вот отзывы критиков имеют небольшую положительную корреляцию с продажами игр, причём такая тенденция сохранятся для всех платформ (где есть достаточно данных для анализа);\n",
    "1. Экшны, шутеры, ролевые игры и спортивные игры являются самыми прибыльными в сумме по всем рассматриваемым регионам;\n",
    "1. Главные игровые платформы различаются в каждом регионе: в NA это X360, в EU — PS4, а в JP — 3DS. Это связано с тем, что эти платформы как раз созданы компаниями тот страны, в которой они являются лидерами;\n",
    "1. Самые популярные жанры в Северной Америке и Европы совпадают (это снова экшны, шутеры, ролевые и спортивные игры), но в Японии ролевые игры занимают наивысшую позицию, в рейтинг самых популярных платформ там попадают также Simulation и Fighting;\n",
    "1. Аналогичная ситуация с рейтингом ESRB: самыми популярными играми в NA и в EU являются игры с рейтингом \"для взрослых\", тогда как в Японии доля таких игр вдвое меньше, а лидером является рейтинг \"для всех\";\n",
    "1. При проверки гипотезы было выяснено, что средние пользовательские рейтинги платформ Xbox One и PC не отличаются;\n",
    "1. Также при проверке гипотезы было установлено, что средние пользовательские рейтинги жанров Action и Sports действительно разные."
   ]
  }
 ],
 "metadata": {
  "kernelspec": {
   "display_name": "Python 3",
   "language": "python",
   "name": "python3"
  },
  "language_info": {
   "codemirror_mode": {
    "name": "ipython",
    "version": 3
   },
   "file_extension": ".py",
   "mimetype": "text/x-python",
   "name": "python",
   "nbconvert_exporter": "python",
   "pygments_lexer": "ipython3",
   "version": "3.8.5"
  }
 },
 "nbformat": 4,
 "nbformat_minor": 2
}
