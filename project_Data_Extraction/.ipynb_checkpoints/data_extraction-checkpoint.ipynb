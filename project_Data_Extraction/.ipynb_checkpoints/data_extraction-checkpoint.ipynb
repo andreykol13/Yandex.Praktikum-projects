{
 "cells": [
  {
   "cell_type": "markdown",
   "metadata": {},
   "source": [
    "# Проект \"Спрос пассажиров на рейсы в различные города\""
   ]
  },
  {
   "cell_type": "markdown",
   "metadata": {},
   "source": [
    "## Описание проекта"
   ]
  },
  {
   "cell_type": "markdown",
   "metadata": {},
   "source": [
    "Российской авиакомпании F9, выполняющей внутренние пассажирские перевозки, нужно понять предпочтения пользователей, покупающих билеты на разные направления. Для этого надо изучить базу данных и проанализировать спрос пассажиров на рейсы в города, где проходят крупнейшие культурные фестивали."
   ]
  },
  {
   "cell_type": "markdown",
   "metadata": {},
   "source": [
    "## План выполнения проекта"
   ]
  },
  {
   "cell_type": "markdown",
   "metadata": {},
   "source": [
    "1. [**Проведите исследовательский анализ данных средствами SQL.**](#step1)\n",
    "1. [**Соберите данные для анализа из базы.**](#step2)\n",
    "1. [**Проанализируйте данные средствами Python.**](#step3)"
   ]
  },
  {
   "cell_type": "markdown",
   "metadata": {},
   "source": [
    "## Описание данных"
   ]
  },
  {
   "cell_type": "markdown",
   "metadata": {},
   "source": [
    "В нашем распоряжении база данных об авиаперевозках.\n",
    "Схема таблиц: https://pictures.s3.yandex.net/resources/PK_FK_weather_1603199319.jpg.\n",
    "\n",
    "Таблица **`airports`** (информация об аэропортах):\n",
    "- `airport_code` — трёхбуквенный код аэропорта;\n",
    "- `airport_name` — название аэропорта;\n",
    "- `city` — город;\n",
    "- `timezone` — временная зона.\n",
    "\n",
    "Таблица **`aircrafts`** (информация о самолётах):\n",
    "- `aircraft_code` — код модели самолёта;\n",
    "- `model` — модель самолёта;\n",
    "- `range` — дальность полёта.\n",
    "\n",
    "Таблица **`tickets`** (информация о билетах):\n",
    "- `ticket_no` — уникальный номер билета;\n",
    "- `passenger_id` — персональный идентификатор пассажира;\n",
    "- `passenger_name` — имя и фамилия пассажира.\n",
    "\n",
    "Таблица **`flights`** (информация о рейсах):\n",
    "- `flight_id` — уникальный идентификатор рейса;\n",
    "- `departure_airport` — аэропорт вылета;\n",
    "- `departure_time` — дата и время вылета;\n",
    "- `arrival_airport` — аэропорт прилёта;\n",
    "- `arrival_time` — дата и время прилёта;\n",
    "- `aircraft_code` — id самолёта.\n",
    "\n",
    "Таблица **`ticket_flights`** (стыковая таблица \"рейсы-билеты\"):\n",
    "- `ticket_no` — номер билета;\n",
    "- `flight_id` — идентификатор рейса.\n",
    "\n",
    "Таблица **`festivals`** (информация о фестивалях):\n",
    "- `festival_id` — уникальный номер фестиваля;\n",
    "- `festival_date` — дата проведения фестиваля;\n",
    "- `festival_city` — город проведения фестиваля;\n",
    "- `festival_name` — название фестиваля."
   ]
  },
  {
   "cell_type": "markdown",
   "metadata": {},
   "source": [
    "В файле **`query_1.csv`** содержится следующая информация:\n",
    "- `model` — модель самолета;\n",
    "- `flights_amount` — количество рейсов для каждой модели самолетов `model` в сентябре 2018 года.\n",
    "\n",
    "В файле **`query_3.csv`** содержится следующая информация:\n",
    "- `city` — город;\n",
    "- `average_flights` — среднее количество рейсов, прибывающих в город (`city`) за день в сентябре 2018 года.\n",
    "\n",
    "Для этих двух наборов данных (сформированы нами ранее) нужно импортировать файлы; изучить данные; проверить типы данных на корректность; выбрать топ-10 городов по количеству рейсов; построить графики: модели самолётов и количество рейсов, города и количество рейсов, топ-10 городов и количество рейсов; сделать выводы по каждому из графиков; пояснить результат."
   ]
  },
  {
   "cell_type": "markdown",
   "metadata": {},
   "source": [
    "## <a name='step1'></a><a name='step2'></a>Шаги 1 и 2. Проведите исследовательский анализ данных средствами SQL. Соберите данные для анализа из базы"
   ]
  },
  {
   "cell_type": "markdown",
   "metadata": {},
   "source": [
    "Эти шаги были пройдены до работы над проектом. На выходе получено 2 csv-файла, описание которых дано выше."
   ]
  },
  {
   "cell_type": "markdown",
   "metadata": {},
   "source": [
    "## <a name='step3'></a>Шаг 3. Проанализируйте данные средствами Python"
   ]
  },
  {
   "cell_type": "markdown",
   "metadata": {},
   "source": [
    "Сначала импортируем все нужные нам библиотеки."
   ]
  },
  {
   "cell_type": "code",
   "execution_count": 50,
   "metadata": {},
   "outputs": [],
   "source": [
    "import pandas as pd\n",
    "import numpy as np\n",
    "import matplotlib.pyplot as plt"
   ]
  },
  {
   "cell_type": "markdown",
   "metadata": {},
   "source": [
    "Откроем файлы с данными."
   ]
  },
  {
   "cell_type": "code",
   "execution_count": 3,
   "metadata": {},
   "outputs": [],
   "source": [
    "try:\n",
    "    query_1 = pd.read_csv('/Users/andreykol/PycharmProjects/Yandex.Praktikum-projects/project_Data_Extraction/query_1.csv')\n",
    "    query_3 = pd.read_csv('/Users/andreykol/PycharmProjects/Yandex.Praktikum-projects/project_Data_Extraction/query_3.csv')\n",
    "except:\n",
    "    print('Ошибка при чтении файла!')"
   ]
  },
  {
   "cell_type": "markdown",
   "metadata": {},
   "source": [
    "Изучим общую информацию в каждой из таблиц."
   ]
  },
  {
   "cell_type": "code",
   "execution_count": 7,
   "metadata": {},
   "outputs": [],
   "source": [
    "def full_info(table):\n",
    "    print(table.info())\n",
    "    print(table.columns)\n",
    "    display(table.head(10))"
   ]
  },
  {
   "cell_type": "code",
   "execution_count": 8,
   "metadata": {},
   "outputs": [
    {
     "name": "stdout",
     "output_type": "stream",
     "text": [
      "<class 'pandas.core.frame.DataFrame'>\n",
      "RangeIndex: 8 entries, 0 to 7\n",
      "Data columns (total 2 columns):\n",
      " #   Column          Non-Null Count  Dtype \n",
      "---  ------          --------------  ----- \n",
      " 0   model           8 non-null      object\n",
      " 1   flights_amount  8 non-null      int64 \n",
      "dtypes: int64(1), object(1)\n",
      "memory usage: 256.0+ bytes\n",
      "None\n",
      "Index(['model', 'flights_amount'], dtype='object')\n"
     ]
    },
    {
     "data": {
      "text/html": [
       "<div>\n",
       "<style scoped>\n",
       "    .dataframe tbody tr th:only-of-type {\n",
       "        vertical-align: middle;\n",
       "    }\n",
       "\n",
       "    .dataframe tbody tr th {\n",
       "        vertical-align: top;\n",
       "    }\n",
       "\n",
       "    .dataframe thead th {\n",
       "        text-align: right;\n",
       "    }\n",
       "</style>\n",
       "<table border=\"1\" class=\"dataframe\">\n",
       "  <thead>\n",
       "    <tr style=\"text-align: right;\">\n",
       "      <th></th>\n",
       "      <th>model</th>\n",
       "      <th>flights_amount</th>\n",
       "    </tr>\n",
       "  </thead>\n",
       "  <tbody>\n",
       "    <tr>\n",
       "      <th>0</th>\n",
       "      <td>Airbus A319-100</td>\n",
       "      <td>607</td>\n",
       "    </tr>\n",
       "    <tr>\n",
       "      <th>1</th>\n",
       "      <td>Airbus A321-200</td>\n",
       "      <td>960</td>\n",
       "    </tr>\n",
       "    <tr>\n",
       "      <th>2</th>\n",
       "      <td>Boeing 737-300</td>\n",
       "      <td>630</td>\n",
       "    </tr>\n",
       "    <tr>\n",
       "      <th>3</th>\n",
       "      <td>Boeing 767-300</td>\n",
       "      <td>600</td>\n",
       "    </tr>\n",
       "    <tr>\n",
       "      <th>4</th>\n",
       "      <td>Boeing 777-300</td>\n",
       "      <td>300</td>\n",
       "    </tr>\n",
       "    <tr>\n",
       "      <th>5</th>\n",
       "      <td>Bombardier CRJ-200</td>\n",
       "      <td>4446</td>\n",
       "    </tr>\n",
       "    <tr>\n",
       "      <th>6</th>\n",
       "      <td>Cessna 208 Caravan</td>\n",
       "      <td>4557</td>\n",
       "    </tr>\n",
       "    <tr>\n",
       "      <th>7</th>\n",
       "      <td>Sukhoi SuperJet-100</td>\n",
       "      <td>4185</td>\n",
       "    </tr>\n",
       "  </tbody>\n",
       "</table>\n",
       "</div>"
      ],
      "text/plain": [
       "                 model  flights_amount\n",
       "0      Airbus A319-100             607\n",
       "1      Airbus A321-200             960\n",
       "2       Boeing 737-300             630\n",
       "3       Boeing 767-300             600\n",
       "4       Boeing 777-300             300\n",
       "5   Bombardier CRJ-200            4446\n",
       "6   Cessna 208 Caravan            4557\n",
       "7  Sukhoi SuperJet-100            4185"
      ]
     },
     "metadata": {},
     "output_type": "display_data"
    }
   ],
   "source": [
    "full_info(query_1)"
   ]
  },
  {
   "cell_type": "markdown",
   "metadata": {},
   "source": [
    "Итак, у нас лишь 8 записей, все они корректны, как и типы данных в таблице."
   ]
  },
  {
   "cell_type": "code",
   "execution_count": 9,
   "metadata": {},
   "outputs": [
    {
     "name": "stdout",
     "output_type": "stream",
     "text": [
      "<class 'pandas.core.frame.DataFrame'>\n",
      "RangeIndex: 101 entries, 0 to 100\n",
      "Data columns (total 2 columns):\n",
      " #   Column           Non-Null Count  Dtype  \n",
      "---  ------           --------------  -----  \n",
      " 0   city             101 non-null    object \n",
      " 1   average_flights  101 non-null    float64\n",
      "dtypes: float64(1), object(1)\n",
      "memory usage: 1.7+ KB\n",
      "None\n",
      "Index(['city', 'average_flights'], dtype='object')\n"
     ]
    },
    {
     "data": {
      "text/html": [
       "<div>\n",
       "<style scoped>\n",
       "    .dataframe tbody tr th:only-of-type {\n",
       "        vertical-align: middle;\n",
       "    }\n",
       "\n",
       "    .dataframe tbody tr th {\n",
       "        vertical-align: top;\n",
       "    }\n",
       "\n",
       "    .dataframe thead th {\n",
       "        text-align: right;\n",
       "    }\n",
       "</style>\n",
       "<table border=\"1\" class=\"dataframe\">\n",
       "  <thead>\n",
       "    <tr style=\"text-align: right;\">\n",
       "      <th></th>\n",
       "      <th>city</th>\n",
       "      <th>average_flights</th>\n",
       "    </tr>\n",
       "  </thead>\n",
       "  <tbody>\n",
       "    <tr>\n",
       "      <th>0</th>\n",
       "      <td>Абакан</td>\n",
       "      <td>3.870968</td>\n",
       "    </tr>\n",
       "    <tr>\n",
       "      <th>1</th>\n",
       "      <td>Анадырь</td>\n",
       "      <td>1.000000</td>\n",
       "    </tr>\n",
       "    <tr>\n",
       "      <th>2</th>\n",
       "      <td>Анапа</td>\n",
       "      <td>2.161290</td>\n",
       "    </tr>\n",
       "    <tr>\n",
       "      <th>3</th>\n",
       "      <td>Архангельск</td>\n",
       "      <td>5.354839</td>\n",
       "    </tr>\n",
       "    <tr>\n",
       "      <th>4</th>\n",
       "      <td>Астрахань</td>\n",
       "      <td>2.451613</td>\n",
       "    </tr>\n",
       "    <tr>\n",
       "      <th>5</th>\n",
       "      <td>Барнаул</td>\n",
       "      <td>2.612903</td>\n",
       "    </tr>\n",
       "    <tr>\n",
       "      <th>6</th>\n",
       "      <td>Белгород</td>\n",
       "      <td>6.000000</td>\n",
       "    </tr>\n",
       "    <tr>\n",
       "      <th>7</th>\n",
       "      <td>Белоярский</td>\n",
       "      <td>2.000000</td>\n",
       "    </tr>\n",
       "    <tr>\n",
       "      <th>8</th>\n",
       "      <td>Благовещенск</td>\n",
       "      <td>1.000000</td>\n",
       "    </tr>\n",
       "    <tr>\n",
       "      <th>9</th>\n",
       "      <td>Братск</td>\n",
       "      <td>1.000000</td>\n",
       "    </tr>\n",
       "  </tbody>\n",
       "</table>\n",
       "</div>"
      ],
      "text/plain": [
       "           city  average_flights\n",
       "0        Абакан         3.870968\n",
       "1       Анадырь         1.000000\n",
       "2         Анапа         2.161290\n",
       "3   Архангельск         5.354839\n",
       "4     Астрахань         2.451613\n",
       "5       Барнаул         2.612903\n",
       "6      Белгород         6.000000\n",
       "7    Белоярский         2.000000\n",
       "8  Благовещенск         1.000000\n",
       "9        Братск         1.000000"
      ]
     },
     "metadata": {},
     "output_type": "display_data"
    }
   ],
   "source": [
    "full_info(query_3)"
   ]
  },
  {
   "cell_type": "markdown",
   "metadata": {},
   "source": [
    "В этой таблице данные, на первый взгляд, корректные. Столбцы имеют верные типы."
   ]
  },
  {
   "cell_type": "markdown",
   "metadata": {},
   "source": [
    "Выберем топ-10 городов по среднему количеству рейсов."
   ]
  },
  {
   "cell_type": "code",
   "execution_count": 15,
   "metadata": {},
   "outputs": [
    {
     "data": {
      "text/html": [
       "<div>\n",
       "<style scoped>\n",
       "    .dataframe tbody tr th:only-of-type {\n",
       "        vertical-align: middle;\n",
       "    }\n",
       "\n",
       "    .dataframe tbody tr th {\n",
       "        vertical-align: top;\n",
       "    }\n",
       "\n",
       "    .dataframe thead th {\n",
       "        text-align: right;\n",
       "    }\n",
       "</style>\n",
       "<table border=\"1\" class=\"dataframe\">\n",
       "  <thead>\n",
       "    <tr style=\"text-align: right;\">\n",
       "      <th></th>\n",
       "      <th>city</th>\n",
       "      <th>average_flights</th>\n",
       "    </tr>\n",
       "  </thead>\n",
       "  <tbody>\n",
       "    <tr>\n",
       "      <th>43</th>\n",
       "      <td>Москва</td>\n",
       "      <td>129.774194</td>\n",
       "    </tr>\n",
       "    <tr>\n",
       "      <th>70</th>\n",
       "      <td>Санкт-Петербург</td>\n",
       "      <td>31.161290</td>\n",
       "    </tr>\n",
       "    <tr>\n",
       "      <th>54</th>\n",
       "      <td>Новосибирск</td>\n",
       "      <td>17.322581</td>\n",
       "    </tr>\n",
       "    <tr>\n",
       "      <th>33</th>\n",
       "      <td>Красноярск</td>\n",
       "      <td>11.580645</td>\n",
       "    </tr>\n",
       "    <tr>\n",
       "      <th>20</th>\n",
       "      <td>Екатеринбург</td>\n",
       "      <td>11.322581</td>\n",
       "    </tr>\n",
       "    <tr>\n",
       "      <th>67</th>\n",
       "      <td>Ростов-на-Дону</td>\n",
       "      <td>10.193548</td>\n",
       "    </tr>\n",
       "    <tr>\n",
       "      <th>63</th>\n",
       "      <td>Пермь</td>\n",
       "      <td>10.129032</td>\n",
       "    </tr>\n",
       "    <tr>\n",
       "      <th>10</th>\n",
       "      <td>Брянск</td>\n",
       "      <td>10.000000</td>\n",
       "    </tr>\n",
       "    <tr>\n",
       "      <th>74</th>\n",
       "      <td>Сочи</td>\n",
       "      <td>9.612903</td>\n",
       "    </tr>\n",
       "    <tr>\n",
       "      <th>84</th>\n",
       "      <td>Ульяновск</td>\n",
       "      <td>9.580645</td>\n",
       "    </tr>\n",
       "  </tbody>\n",
       "</table>\n",
       "</div>"
      ],
      "text/plain": [
       "               city  average_flights\n",
       "43           Москва       129.774194\n",
       "70  Санкт-Петербург        31.161290\n",
       "54      Новосибирск        17.322581\n",
       "33       Красноярск        11.580645\n",
       "20     Екатеринбург        11.322581\n",
       "67   Ростов-на-Дону        10.193548\n",
       "63            Пермь        10.129032\n",
       "10           Брянск        10.000000\n",
       "74             Сочи         9.612903\n",
       "84        Ульяновск         9.580645"
      ]
     },
     "metadata": {},
     "output_type": "display_data"
    },
    {
     "name": "stdout",
     "output_type": "stream",
     "text": [
      "['Москва' 'Санкт-Петербург' 'Новосибирск' 'Красноярск' 'Екатеринбург'\n",
      " 'Ростов-на-Дону' 'Пермь' 'Брянск' 'Сочи' 'Ульяновск']\n"
     ]
    }
   ],
   "source": [
    "top10_q3 = query_3.sort_values('average_flights', ascending=False).head(10)\n",
    "display(top10_q3)\n",
    "top10_cities = top10_q3['city'].values\n",
    "print(top10_cities)"
   ]
  },
  {
   "cell_type": "markdown",
   "metadata": {},
   "source": [
    "Итак, лидеры у нас вполне ожидаемые (быть может, только Брянск и Ульяновск удивили). Далее построим нужные нам графики. Начнём с зависимости количества полётов от модели самолёта."
   ]
  },
  {
   "cell_type": "code",
   "execution_count": 66,
   "metadata": {},
   "outputs": [
    {
     "data": {
      "image/png": "[encoded data removed]",
      "text/plain": [
       "<Figure size 640x480 with 1 Axes>"
      ]
     },
     "metadata": {},
     "output_type": "display_data"
    }
   ],
   "source": [
    "plt.rcdefaults()\n",
    "fig, ax = plt.subplots()\n",
    "\n",
    "x_pos = np.arange(0, 5000, 500)\n",
    "y_pos = np.arange(len(query_1['model']))\n",
    "ax.barh(y_pos, query_1['flights_amount'], color='lightblue')\n",
    "ax.set_yticks(y_pos)\n",
    "ax.set_yticklabels(query_1['model'])\n",
    "ax.set_xticks(x_pos)\n",
    "ax.set_xticklabels(x_pos)\n",
    "ax.invert_yaxis()\n",
    "ax.grid()\n",
    "ax.set_xlabel('Amount of flights')\n",
    "\n",
    "plt.show()"
   ]
  },
  {
   "cell_type": "markdown",
   "metadata": {},
   "source": [
    "Итак, мы видим резкое деление самолётов на две группы. В одной из них находятся Аэробусы и Боинги, очень тяжелые и дорогие воздушные судна. Они летают реже, но компенсируют это своей высокой вместительностью. С другой же стороны, Бомбардир, Суперджет и Цессна являются небольшими самолётами, они более мобильны, но для того, чтоб перевезти большее число пассажиров, им необходимо чаще летать."
   ]
  },
  {
   "cell_type": "markdown",
   "metadata": {},
   "source": [
    "Далее графически покажем данные по городам и среднему количеству прибывающих туда рейсов в день."
   ]
  },
  {
   "cell_type": "code",
   "execution_count": 94,
   "metadata": {},
   "outputs": [
    {
     "data": {
      "image/png": "[encoded data removed]",
      "text/plain": [
       "<Figure size 640x480 with 1 Axes>"
      ]
     },
     "metadata": {},
     "output_type": "display_data"
    }
   ],
   "source": [
    "sorted_q3 = query_3.sort_values('average_flights', ascending=False)\n",
    "\n",
    "plt.rcdefaults()\n",
    "fig, ax = plt.subplots()\n",
    "\n",
    "ax.set_ylim([0, 20])\n",
    "y_pos = np.arange(0, 20)\n",
    "x_pos = np.arange(len(sorted_q3['city']))\n",
    "ax.bar(x_pos, sorted_q3['average_flights'], color='lightblue')\n",
    "ax.set_xticks([])\n",
    "#ax.set_xticklabels(sorted_q3['city'])\n",
    "ax.set_yticks(y_pos)\n",
    "ax.set_yticklabels(y_pos)\n",
    "#ax.invert_xaxis()\n",
    "ax.grid()\n",
    "ax.set_ylabel('Daily average flights amount')\n",
    "\n",
    "plt.show()"
   ]
  },
  {
   "cell_type": "markdown",
   "metadata": {},
   "source": [
    "Мы отсортировали частоты прилетающих рейсов для удобства анализа, а также рассмотрели диапазон от 0 до 20, так картина станет яснее. Первыми двумя столбцами являются Москва (130) и Санкт-Петербург (31). Заметим, что средние величины очень часто группируются у целого значения (1, 2, 3, 4, 5, 6). Это можно объяснить более фиксированным расписанием при небольшом числе рейсов. Так как рейсов мало, то в такой город самолёты обычно прилетают вовремя, нет большой нагрузки на аэропорт, почти нет отмен рейсов. В больших городах мы можем столкнуться с многими форс-мажорами, поэтому среднее число рейсов иногда не близко к целому числу. Смена расписания также может повлечь за собой изменение среднего числа."
   ]
  },
  {
   "cell_type": "markdown",
   "metadata": {},
   "source": [
    "Наконец, проанализируем те же данные, но для топ-10 городов."
   ]
  },
  {
   "cell_type": "code",
   "execution_count": 91,
   "metadata": {},
   "outputs": [
    {
     "data": {
      "image/png": "[encoded data removed]",
      "text/plain": [
       "<Figure size 640x480 with 1 Axes>"
      ]
     },
     "metadata": {},
     "output_type": "display_data"
    }
   ],
   "source": [
    "plt.rcdefaults()\n",
    "fig, ax = plt.subplots()\n",
    "\n",
    "x_pos = np.arange(0, 150, 10)\n",
    "y_pos = np.arange(len(top10_q3['city']))\n",
    "ax.barh(y_pos, top10_q3['average_flights'], color='lightblue')\n",
    "ax.set_yticks(y_pos)\n",
    "ax.set_yticklabels(top10_q3['city'])\n",
    "ax.set_xticks(x_pos)\n",
    "ax.set_xticklabels(x_pos)\n",
    "ax.invert_yaxis()\n",
    "ax.grid()\n",
    "ax.set_xlabel('Average flights amount')\n",
    "\n",
    "plt.show()"
   ]
  },
  {
   "cell_type": "markdown",
   "metadata": {},
   "source": [
    "На этом графике снова видно, настолько гипертрофированным авиаузлом является Москва. Более 50% всех прилётов приходится на столичные аэропорты. Да, в некоторые города нашей топ-10 часто прилетают международные рейсы, однако пропасть между данными Москвы и регионов (даже Санкт-Петербурга) колоссальна. Это плохо, так как связи между \"провинциальными\" городами теряются, многие вынуждены делать пересадки в Москве, даже когда города находятся очень близко друг от друга (Киров и Сыктывкар, к примеру)."
   ]
  },
  {
   "cell_type": "markdown",
   "metadata": {},
   "source": [
    "Итак, в результате нашей работы из \"сырых\" данных таблиц с помощью SQL-запросов мы смогли \"вытащить\" нужную нам информацию о полётах различных моделей самолётов, а также частоту прилётов самолётов в различные города России. После этого с помощью графического анализа мы выяснили, что большие и вместительные самолёты летают реже, в небольших аэропортах среднее количество прилётов часто близко к целому значению и что Москва с огромным запасом является самым большим воздушным узлом в России (как по причине многих международных рейсов, так и по причине гиперцентрализованности авиасообщения в стране)."
   ]
  }
 ],
 "metadata": {
  "kernelspec": {
   "display_name": "Python 3",
   "language": "python",
   "name": "python3"
  },
  "language_info": {
   "codemirror_mode": {
    "name": "ipython",
    "version": 3
   },
   "file_extension": ".py",
   "mimetype": "text/x-python",
   "name": "python",
   "nbconvert_exporter": "python",
   "pygments_lexer": "ipython3",
   "version": "3.8.5"
  }
 },
 "nbformat": 4,
 "nbformat_minor": 4
}
