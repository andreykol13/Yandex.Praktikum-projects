{
 "cells": [
  {
   "cell_type": "markdown",
   "metadata": {},
   "source": [
    "# Проект \"Бурение скважин\""
   ]
  },
  {
   "cell_type": "markdown",
   "metadata": {},
   "source": [
    "## Описание проекта"
   ]
  },
  {
   "cell_type": "markdown",
   "metadata": {},
   "source": [
    "Добывающая компания «ГлавРосГосНефть» решает, где бурить новую скважину. Шаги для выбора локации обычно такие:\n",
    "- В избранном регионе собирают характеристики для скважин: качество нефти и объём её запасов;\n",
    "- Строят модель для предсказания объёма запасов в новых скважинах;\n",
    "- Выбирают скважины с самыми высокими оценками значений;\n",
    "- Определяют регион с максимальной суммарной прибылью отобранных скважин.\n",
    "\n",
    "Предоставлены пробы нефти в трёх регионах. Характеристики для каждой скважины в регионе уже известны. Нужно построить модель для определения региона, где добыча принесёт наибольшую прибыль, а также проанализировать возможную прибыль и риски техникой Bootstrap."
   ]
  },
  {
   "cell_type": "markdown",
   "metadata": {},
   "source": [
    "## План выполнения проекта"
   ]
  },
  {
   "cell_type": "markdown",
   "metadata": {},
   "source": [
    "1. [**Загрузите и подготовьте данные.**](#step1) Поясните порядок действий. Данные геологоразведки трёх регионов находятся в файлах: <i>/datasets/geo_data_0.csv, /datasets/geo_data_1.csv, /datasets/geo_data_2.csv</i>.\n",
    "1. [**Обучите и проверьте модель для каждого региона:**](#step2)\n",
    "    - [Разбейте данные на обучающую и валидационную выборки в соотношении 75:25.](#step2_1)\n",
    "    - [Обучите модель и сделайте предсказания на валидационной выборке.](#step2_2) Сохраните предсказания и правильные ответы на валидационной выборке.\n",
    "    - [Напечатайте на экране средний запас предсказанного сырья и RMSE модели.](#step2_3)\n",
    "    - [Проанализируйте результаты.](#step2_4)\n",
    "1. [**Подготовьтесь к расчёту прибыли:**](#step3)\n",
    "    - [Все ключевые значения для расчётов сохраните в отдельных переменных.](#step3_1)\n",
    "    - [Рассчитайте достаточный объём сырья для безубыточной разработки новой скважины. Сравните полученный объём сырья со средним запасом в каждом регионе.](#step3_2)\n",
    "    - [Напишите выводы по этапу подготовки расчёта прибыли.](#step3_3)\n",
    "1. [**Напишите функцию для расчёта прибыли по выбранным скважинам и предсказаниям модели.**](#step4) Выберите скважины с максимальными значениями предсказаний, просуммируйте целевое значение объёма сырья, соответствующее этим предсказаниям и рассчитайте прибыль для полученного объёма сырья.\n",
    "1. [**Посчитайте риски и прибыль для каждого региона:**](#step5)\n",
    "    - [Примените технику Bootstrap с 1000 выборок, чтобы найти распределение прибыли.](#step5_1)\n",
    "    - [Найдите среднюю прибыль, 95%-й доверительный интервал и риск убытков (отрицательной прибыли).](#step5_2)\n",
    "    - [Напишите выводы: предложите регион для разработки скважин и обоснуйте выбор.](#step5_3)"
   ]
  },
  {
   "cell_type": "markdown",
   "metadata": {},
   "source": [
    "## Описание данных"
   ]
  },
  {
   "cell_type": "markdown",
   "metadata": {},
   "source": [
    "- `id` — уникальный идентификатор скважины;\n",
    "- `f0`, `f1`, `f2` — три некоторых признака точек;\n",
    "- `product` — объём запасов в скважине (тыс. баррелей)."
   ]
  },
  {
   "cell_type": "markdown",
   "metadata": {},
   "source": [
    "## Условия задачи"
   ]
  },
  {
   "cell_type": "markdown",
   "metadata": {},
   "source": [
    "- Для обучения модели подходит только линейная регрессия;\n",
    "- При разведке региона исследуют 500 точек, из которых с помощью машинного обучения выбирают 200 лучших для разработки;\n",
    "- Бюджет на разработку скважин в регионе — 10 млрд рублей;\n",
    "- При нынешних ценах один баррель сырья приносит 450 рублей дохода. Доход с каждой единицы продукта составляет 450 тыс. рублей, поскольку объём указан в тысячах баррелей;\n",
    "- После оценки рисков нужно оставить лишь те регионы, в которых вероятность убытков меньше 2.5%. Среди них выбирают регион с наибольшей средней прибылью;\n",
    "- Данные синтетические: детали контрактов и характеристики месторождений не разглашаются."
   ]
  },
  {
   "cell_type": "markdown",
   "metadata": {},
   "source": [
    "## <a name=\"step1\"></a>Шаг 1. Загрузите и подготовьте данные"
   ]
  },
  {
   "cell_type": "markdown",
   "metadata": {},
   "source": [
    "Для начала сделаем импорт необходимых библиотек."
   ]
  },
  {
   "cell_type": "code",
   "execution_count": 13,
   "metadata": {},
   "outputs": [],
   "source": [
    "import pandas as pd\n",
    "import numpy as np\n",
    "from sklearn.model_selection import train_test_split\n",
    "from sklearn.linear_model import LinearRegression\n",
    "from sklearn.metrics import mean_squared_error\n",
    "from math import sqrt\n",
    "from numpy.random import RandomState\n",
    "import scipy.stats as st"
   ]
  },
  {
   "cell_type": "markdown",
   "metadata": {},
   "source": [
    "Откроем файлы с данными, назовём их по смыслу."
   ]
  },
  {
   "cell_type": "code",
   "execution_count": 2,
   "metadata": {},
   "outputs": [],
   "source": [
    "try:\n",
    "    region1 = pd.read_csv('/Users/andreykol/PycharmProjects/Yandex.Praktikum-projects/project_ML_in_Business/geo_data_0.csv')\n",
    "    #region1 = pd.read_csv('/datasets/geo_data_0.csv')\n",
    "    region2 = pd.read_csv('/Users/andreykol/PycharmProjects/Yandex.Praktikum-projects/project_ML_in_Business/geo_data_1.csv')\n",
    "    #region2 = pd.read_csv('/datasets/geo_data_1.csv')\n",
    "    region3 = pd.read_csv('/Users/andreykol/PycharmProjects/Yandex.Praktikum-projects/project_ML_in_Business/geo_data_2.csv')\n",
    "    #region3 = pd.read_csv('/datasets/geo_data_2.csv')\n",
    "except:\n",
    "    print('Ошибка при чтении файла!')"
   ]
  },
  {
   "cell_type": "markdown",
   "metadata": {},
   "source": [
    "Узнаем подробную информацию про наборы данных."
   ]
  },
  {
   "cell_type": "code",
   "execution_count": 3,
   "metadata": {},
   "outputs": [
    {
     "name": "stdout",
     "output_type": "stream",
     "text": [
      "<class 'pandas.core.frame.DataFrame'>\n",
      "RangeIndex: 100000 entries, 0 to 99999\n",
      "Data columns (total 5 columns):\n",
      " #   Column   Non-Null Count   Dtype  \n",
      "---  ------   --------------   -----  \n",
      " 0   id       100000 non-null  object \n",
      " 1   f0       100000 non-null  float64\n",
      " 2   f1       100000 non-null  float64\n",
      " 3   f2       100000 non-null  float64\n",
      " 4   product  100000 non-null  float64\n",
      "dtypes: float64(4), object(1)\n",
      "memory usage: 3.8+ MB\n",
      "None\n",
      "Index(['id', 'f0', 'f1', 'f2', 'product'], dtype='object')\n"
     ]
    },
    {
     "data": {
      "text/html": [
       "<div>\n",
       "<style scoped>\n",
       "    .dataframe tbody tr th:only-of-type {\n",
       "        vertical-align: middle;\n",
       "    }\n",
       "\n",
       "    .dataframe tbody tr th {\n",
       "        vertical-align: top;\n",
       "    }\n",
       "\n",
       "    .dataframe thead th {\n",
       "        text-align: right;\n",
       "    }\n",
       "</style>\n",
       "<table border=\"1\" class=\"dataframe\">\n",
       "  <thead>\n",
       "    <tr style=\"text-align: right;\">\n",
       "      <th></th>\n",
       "      <th>id</th>\n",
       "      <th>f0</th>\n",
       "      <th>f1</th>\n",
       "      <th>f2</th>\n",
       "      <th>product</th>\n",
       "    </tr>\n",
       "  </thead>\n",
       "  <tbody>\n",
       "    <tr>\n",
       "      <th>0</th>\n",
       "      <td>txEyH</td>\n",
       "      <td>0.705745</td>\n",
       "      <td>-0.497823</td>\n",
       "      <td>1.22117</td>\n",
       "      <td>105.280062</td>\n",
       "    </tr>\n",
       "    <tr>\n",
       "      <th>1</th>\n",
       "      <td>2acmU</td>\n",
       "      <td>1.334711</td>\n",
       "      <td>-0.340164</td>\n",
       "      <td>4.36508</td>\n",
       "      <td>73.037750</td>\n",
       "    </tr>\n",
       "  </tbody>\n",
       "</table>\n",
       "</div>"
      ],
      "text/plain": [
       "      id        f0        f1       f2     product\n",
       "0  txEyH  0.705745 -0.497823  1.22117  105.280062\n",
       "1  2acmU  1.334711 -0.340164  4.36508   73.037750"
      ]
     },
     "metadata": {},
     "output_type": "display_data"
    },
    {
     "name": "stdout",
     "output_type": "stream",
     "text": [
      "<class 'pandas.core.frame.DataFrame'>\n",
      "RangeIndex: 100000 entries, 0 to 99999\n",
      "Data columns (total 5 columns):\n",
      " #   Column   Non-Null Count   Dtype  \n",
      "---  ------   --------------   -----  \n",
      " 0   id       100000 non-null  object \n",
      " 1   f0       100000 non-null  float64\n",
      " 2   f1       100000 non-null  float64\n",
      " 3   f2       100000 non-null  float64\n",
      " 4   product  100000 non-null  float64\n",
      "dtypes: float64(4), object(1)\n",
      "memory usage: 3.8+ MB\n",
      "None\n",
      "Index(['id', 'f0', 'f1', 'f2', 'product'], dtype='object')\n"
     ]
    },
    {
     "data": {
      "text/html": [
       "<div>\n",
       "<style scoped>\n",
       "    .dataframe tbody tr th:only-of-type {\n",
       "        vertical-align: middle;\n",
       "    }\n",
       "\n",
       "    .dataframe tbody tr th {\n",
       "        vertical-align: top;\n",
       "    }\n",
       "\n",
       "    .dataframe thead th {\n",
       "        text-align: right;\n",
       "    }\n",
       "</style>\n",
       "<table border=\"1\" class=\"dataframe\">\n",
       "  <thead>\n",
       "    <tr style=\"text-align: right;\">\n",
       "      <th></th>\n",
       "      <th>id</th>\n",
       "      <th>f0</th>\n",
       "      <th>f1</th>\n",
       "      <th>f2</th>\n",
       "      <th>product</th>\n",
       "    </tr>\n",
       "  </thead>\n",
       "  <tbody>\n",
       "    <tr>\n",
       "      <th>0</th>\n",
       "      <td>kBEdx</td>\n",
       "      <td>-15.001348</td>\n",
       "      <td>-8.276000</td>\n",
       "      <td>-0.005876</td>\n",
       "      <td>3.179103</td>\n",
       "    </tr>\n",
       "    <tr>\n",
       "      <th>1</th>\n",
       "      <td>62mP7</td>\n",
       "      <td>14.272088</td>\n",
       "      <td>-3.475083</td>\n",
       "      <td>0.999183</td>\n",
       "      <td>26.953261</td>\n",
       "    </tr>\n",
       "  </tbody>\n",
       "</table>\n",
       "</div>"
      ],
      "text/plain": [
       "      id         f0        f1        f2    product\n",
       "0  kBEdx -15.001348 -8.276000 -0.005876   3.179103\n",
       "1  62mP7  14.272088 -3.475083  0.999183  26.953261"
      ]
     },
     "metadata": {},
     "output_type": "display_data"
    },
    {
     "name": "stdout",
     "output_type": "stream",
     "text": [
      "<class 'pandas.core.frame.DataFrame'>\n",
      "RangeIndex: 100000 entries, 0 to 99999\n",
      "Data columns (total 5 columns):\n",
      " #   Column   Non-Null Count   Dtype  \n",
      "---  ------   --------------   -----  \n",
      " 0   id       100000 non-null  object \n",
      " 1   f0       100000 non-null  float64\n",
      " 2   f1       100000 non-null  float64\n",
      " 3   f2       100000 non-null  float64\n",
      " 4   product  100000 non-null  float64\n",
      "dtypes: float64(4), object(1)\n",
      "memory usage: 3.8+ MB\n",
      "None\n",
      "Index(['id', 'f0', 'f1', 'f2', 'product'], dtype='object')\n"
     ]
    },
    {
     "data": {
      "text/html": [
       "<div>\n",
       "<style scoped>\n",
       "    .dataframe tbody tr th:only-of-type {\n",
       "        vertical-align: middle;\n",
       "    }\n",
       "\n",
       "    .dataframe tbody tr th {\n",
       "        vertical-align: top;\n",
       "    }\n",
       "\n",
       "    .dataframe thead th {\n",
       "        text-align: right;\n",
       "    }\n",
       "</style>\n",
       "<table border=\"1\" class=\"dataframe\">\n",
       "  <thead>\n",
       "    <tr style=\"text-align: right;\">\n",
       "      <th></th>\n",
       "      <th>id</th>\n",
       "      <th>f0</th>\n",
       "      <th>f1</th>\n",
       "      <th>f2</th>\n",
       "      <th>product</th>\n",
       "    </tr>\n",
       "  </thead>\n",
       "  <tbody>\n",
       "    <tr>\n",
       "      <th>0</th>\n",
       "      <td>fwXo0</td>\n",
       "      <td>-1.146987</td>\n",
       "      <td>0.963328</td>\n",
       "      <td>-0.828965</td>\n",
       "      <td>27.758673</td>\n",
       "    </tr>\n",
       "    <tr>\n",
       "      <th>1</th>\n",
       "      <td>WJtFt</td>\n",
       "      <td>0.262778</td>\n",
       "      <td>0.269839</td>\n",
       "      <td>-2.530187</td>\n",
       "      <td>56.069697</td>\n",
       "    </tr>\n",
       "  </tbody>\n",
       "</table>\n",
       "</div>"
      ],
      "text/plain": [
       "      id        f0        f1        f2    product\n",
       "0  fwXo0 -1.146987  0.963328 -0.828965  27.758673\n",
       "1  WJtFt  0.262778  0.269839 -2.530187  56.069697"
      ]
     },
     "metadata": {},
     "output_type": "display_data"
    }
   ],
   "source": [
    "for i in range(1, 4):\n",
    "    print(globals()['region'+str(i)].info())\n",
    "    print(globals()['region'+str(i)].columns)\n",
    "    display(globals()['region'+str(i)].head(2))"
   ]
  },
  {
   "cell_type": "markdown",
   "metadata": {},
   "source": [
    "Нигде нет пропусков, а структура таблиц ясна. Обучим модели для предсказания объёмов запасов."
   ]
  },
  {
   "cell_type": "markdown",
   "metadata": {},
   "source": [
    "## <a name=\"step2\"></a>Шаг 2. Обучите и проверьте модель для каждого региона"
   ]
  },
  {
   "cell_type": "markdown",
   "metadata": {},
   "source": [
    "### <a name=\"step2_1\"></a>Разбейте данные на обучающую и валидационную выборки в соотношении 75:25"
   ]
  },
  {
   "cell_type": "code",
   "execution_count": 4,
   "metadata": {},
   "outputs": [],
   "source": [
    "for i in range(1, 4):\n",
    "    globals()['X'+str(i)] = globals()['region'+str(i)].drop(columns=['id', 'product'])\n",
    "    globals()['y'+str(i)] = globals()['region'+str(i)]['product']\n",
    "    (globals()['X'+str(i)+'_train'], globals()['X'+str(i)+'_valid'],\n",
    "     globals()['y'+str(i)+'_train'], globals()['y'+str(i)+'_valid']) = (train_test_split(globals()['X'+str(i)], \n",
    "                                                                                       globals()['y'+str(i)],\n",
    "                                                                            test_size=0.25, random_state=42))\n",
    "# all names are given in the following form: 'Xi_train', 'yi_valid', where i is dataset's number"
   ]
  },
  {
   "cell_type": "markdown",
   "metadata": {},
   "source": [
    "С помощью функции `globals()`, переводящей строку в название переменной, мы смогли быстро разделить каждый из трёх датасетов на четыре части (признаки `Xi_train` и таргет `yi_train` в обучающей выборке, они же (`Xi_valid`, `yi_valid`) в валидационной)."
   ]
  },
  {
   "cell_type": "markdown",
   "metadata": {},
   "source": [
    "### <a name=\"step2_2\"></a>Обучите модель и сделайте предсказания на валидационной выборке"
   ]
  },
  {
   "cell_type": "markdown",
   "metadata": {},
   "source": [
    "По условию задачи, для каждого набора данных обучим линейную регрессию в качестве модели."
   ]
  },
  {
   "cell_type": "code",
   "execution_count": 5,
   "metadata": {},
   "outputs": [],
   "source": [
    "our_model = LinearRegression()\n",
    "for i in range(1, 4):\n",
    "    our_model.fit(globals()['X'+str(i)+'_train'], globals()['y'+str(i)+'_train'])\n",
    "    globals()['y'+str(i)+'_pred'] = pd.Series(our_model.predict(globals()['X'+str(i)+'_valid']), \n",
    "                                              index=(globals()['X'+str(i)+'_valid']).index)"
   ]
  },
  {
   "cell_type": "markdown",
   "metadata": {},
   "source": [
    "Итак, теперь в переменных `yi_pred` хранятся предсказания модели на валидационной выборке."
   ]
  },
  {
   "cell_type": "markdown",
   "metadata": {},
   "source": [
    "### <a name=\"step2_3\"></a>Напечатайте на экране средний запас предсказанного сырья и RMSE модели"
   ]
  },
  {
   "cell_type": "markdown",
   "metadata": {},
   "source": [
    "Отыщем средние значения запасов сырья, а также подсчитаем метрику RMSE (корень из среднеквадратического отклонения) в каждом регионе."
   ]
  },
  {
   "cell_type": "code",
   "execution_count": 6,
   "metadata": {},
   "outputs": [
    {
     "name": "stdout",
     "output_type": "stream",
     "text": [
      "Регион 1: средний запас равен 92.39879990657768, RMSE модели равен 37.75660035026169\n",
      "Регион 2: средний запас равен 68.71287803913764, RMSE модели равен 0.8902801001028828\n",
      "Регион 3: средний запас равен 94.77102387765939, RMSE модели равен 40.145872311342174\n"
     ]
    }
   ],
   "source": [
    "for i in range(1, 4):\n",
    "    globals()['mean'+str(i)] = globals()['y'+str(i)+'_pred'].mean()\n",
    "    globals()['rmse'+str(i)] = sqrt(mean_squared_error(globals()['y'+str(i)+'_valid'], globals()['y'+str(i)+'_pred']))\n",
    "    print('Регион {}: средний запас равен {}, RMSE модели равен {}'\n",
    "          .format(i, globals()['mean'+str(i)], globals()['rmse'+str(i)]))"
   ]
  },
  {
   "cell_type": "markdown",
   "metadata": {},
   "source": [
    "Получили, что средний запас в регионах оценивается в 92, 68 и 94 тысячи баррелей соответственно. Ошибки моделей в регионах 1 и 3 примерно совпадают, а модель для региона 2 предсказала данные очень точно."
   ]
  },
  {
   "cell_type": "markdown",
   "metadata": {},
   "source": [
    "### <a name=\"step2_4\"></a>Проанализируйте результаты"
   ]
  },
  {
   "cell_type": "markdown",
   "metadata": {},
   "source": [
    "Итак, на данном этапе исследования мы знаем оценку средних запасов сырья в каждом регионе, а также степень ошибки этих предсказаний. Становится ясно, что мы можем быть достаточно уверены в оценке объёмов сырья во втором регионе. Однако, среднее значение там минимально. Почти в полтора раза выше этот показатель в регионах 1 и 3. Но теперь мы не можем быть очень уверены в том, что оценка точна, ведь метрика RMSE далека от нуля. Результаты регионов 1 и 3 очень похожи. Да и отбирать мы будем только самые перспективные скважины, поэтому среднее по всем скважинам нам пока мало что даёт."
   ]
  },
  {
   "cell_type": "markdown",
   "metadata": {},
   "source": [
    "## <a name=\"step3\"></a>Подготовка к расчёту прибыли"
   ]
  },
  {
   "cell_type": "markdown",
   "metadata": {},
   "source": [
    "### <a name=\"step3_1\"></a>Все ключевые значения для расчётов сохраните в отдельных переменных"
   ]
  },
  {
   "cell_type": "markdown",
   "metadata": {},
   "source": [
    "Некоторые важные значения были сохранены отдельно в предыдущих пунктах (`meani` для средних значений и `rmsei` для ошибок моделей)."
   ]
  },
  {
   "cell_type": "code",
   "execution_count": 7,
   "metadata": {},
   "outputs": [],
   "source": [
    "to_drill = 200 # количество скважин для бурения\n",
    "budget = 10e9 # общий бюджет\n",
    "gain = 450e3 # доход с каждой единицы продукта"
   ]
  },
  {
   "cell_type": "markdown",
   "metadata": {},
   "source": [
    "### <a name=\"step3_2\"></a>Рассчитайте достаточный объём сырья для безубыточной разработки новой скважины. Сравните полученный объём сырья со средним запасом в каждом регионе"
   ]
  },
  {
   "cell_type": "code",
   "execution_count": 8,
   "metadata": {},
   "outputs": [
    {
     "name": "stdout",
     "output_type": "stream",
     "text": [
      "111.11111111111111\n"
     ]
    }
   ],
   "source": [
    "suff_amount = (budget / to_drill) / gain\n",
    "print(suff_amount)"
   ]
  },
  {
   "cell_type": "markdown",
   "metadata": {},
   "source": [
    "Мы получили, что для безубыточной разработки новой скважины необходимо, чтобы объём сырья составлял около 111 тысяч баррелей. Очевидно, что в каждом из регионов средние значения объёмов сырья меньше целевого значения (они были равны 92, 68 и 94 тысячам соответственно)."
   ]
  },
  {
   "cell_type": "markdown",
   "metadata": {},
   "source": [
    "### <a name=\"step3_3\"></a>Напишите выводы по этапу подготовки расчёта прибыли"
   ]
  },
  {
   "cell_type": "markdown",
   "metadata": {},
   "source": [
    "На основании сделанных вычислений можно сказать, что исходя лишь из средних значений добычи, нам не удастся выйти на безубыточную разработку новой скважины. Однако важно понимать, что это всего лишь средние значения среди всех новых скважин, надо учесть и разброс значений. Тем более, позже мы отберём самые \"перспективные\" точки, по ним среднее значения будет выше."
   ]
  },
  {
   "cell_type": "markdown",
   "metadata": {},
   "source": [
    "## <a name=\"step4\"></a>Напишите функцию для расчёта прибыли по выбранным скважинам и предсказаниям модели"
   ]
  },
  {
   "cell_type": "code",
   "execution_count": 9,
   "metadata": {},
   "outputs": [],
   "source": [
    "def count_profit(wells_boot):\n",
    "    best_200 = wells_boot.sort_values(ascending=False)[:200]\n",
    "    sum_amount = best_200.sum()\n",
    "    profit = sum_amount * gain - budget\n",
    "    return profit"
   ]
  },
  {
   "cell_type": "markdown",
   "metadata": {},
   "source": [
    "С помощью сортировки, мы сначала отобрали топ-200 скважин по объёмам сырья, затем просуммировали объёмы и нашли прибыль, умножив объём добычи на доход с каждой единицы продукта."
   ]
  },
  {
   "cell_type": "markdown",
   "metadata": {},
   "source": [
    "## <a name=\"step5\"></a>Посчитайте риски и прибыль для каждого региона"
   ]
  },
  {
   "cell_type": "markdown",
   "metadata": {},
   "source": [
    "### <a name=\"step5_1\"></a>Примените технику Bootstrap с 1000 выборок, чтобы найти распределение прибыли"
   ]
  },
  {
   "cell_type": "code",
   "execution_count": 10,
   "metadata": {},
   "outputs": [],
   "source": [
    "state = RandomState(42)\n",
    "boots = 1000\n",
    "for i in range(1, 4):\n",
    "    globals()['profits'+str(i)] = []\n",
    "    for j in range(boots):\n",
    "        one_sample = globals()['y'+str(i)+'_pred'].sample(n=500, replace=False, random_state=state)\n",
    "        globals()['profits'+str(i)].append(count_profit(one_sample))\n",
    "    globals()['profits'+str(i)] = pd.Series(globals()['profits'+str(i)])"
   ]
  },
  {
   "cell_type": "markdown",
   "metadata": {},
   "source": [
    "Итак, в переменных `profitsi` теперь у нас содержатся значения прибыли на подвыборках (три группы по 1000 выборок)."
   ]
  },
  {
   "cell_type": "markdown",
   "metadata": {},
   "source": [
    "### <a name=\"step5_2\"></a>Найдите среднюю прибыль, 95%-й доверительный интервал и риск убытков"
   ]
  },
  {
   "cell_type": "code",
   "execution_count": 11,
   "metadata": {},
   "outputs": [],
   "source": [
    "conf_level = 0.95\n",
    "stand_dist = st.t.ppf((1 + conf_level) / 2., boots-1)\n",
    "# это число, умнож. на станд. ошибку среднего, даст расстояние от конца дов. инт. до среднего \n",
    "# (точка, соотв. 97.5%), почти как у нормального распр., так как имеем 999 степ. свободы\n",
    "for i in range(1, 4):\n",
    "    globals()['mean_profit'+str(i)] = globals()['profits'+str(i)].mean()\n",
    "    globals()['sem_profit'+str(i)] = globals()['profits'+str(i)].sem()\n",
    "    globals()['conf_int_profit'+str(i)] = [globals()['mean_profit'+str(i)] - stand_dist * globals()['sem_profit'+str(i)], \n",
    "                                           globals()['mean_profit'+str(i)] + stand_dist * globals()['sem_profit'+str(i)]]\n",
    "    globals()['loss_risk'+str(i)] = st.percentileofscore(globals()['profits'+str(i)], 0) / 100\n",
    "    # доля средних, меньших 10 млрд"
   ]
  },
  {
   "cell_type": "code",
   "execution_count": 14,
   "metadata": {},
   "outputs": [
    {
     "name": "stdout",
     "output_type": "stream",
     "text": [
      "Регион 1:\n",
      "Средняя прибыль (млн руб.): 330.4344959945319\n",
      "95%-й дов. инт. (млн руб.): [323.46296912 337.40602287]\n",
      "Риск убытков: 0.4%\n",
      "Регион 2:\n",
      "Средняя прибыль (млн руб.): 433.5392331313466\n",
      "95%-й дов. инт. (млн руб.): [420.67870282 446.39976344]\n",
      "Риск убытков: 1.8%\n",
      "Регион 3:\n",
      "Средняя прибыль (млн руб.): 267.77206957956736\n",
      "95%-й дов. инт. (млн руб.): [261.51240321 274.03173595]\n",
      "Риск убытков: 0.3%\n"
     ]
    }
   ],
   "source": [
    "for i in range(1, 4):\n",
    "    print('Регион {}:'.format(i))\n",
    "    print('Средняя прибыль (млн руб.): {}'.format(np.asarray(globals()['mean_profit'+str(i)]) / 1e6))\n",
    "    print('95%-й дов. инт. (млн руб.): {}'.format(np.asarray(globals()['conf_int_profit'+str(i)]) / 1e6))\n",
    "    print('Риск убытков: {:.1%}'.format(globals()['loss_risk'+str(i)]))"
   ]
  },
  {
   "cell_type": "markdown",
   "metadata": {},
   "source": [
    "### <a name=\"step5_3\"></a>Напишите выводы: предложите регион для разработки скважин и обоснуйте выбор"
   ]
  },
  {
   "cell_type": "markdown",
   "metadata": {},
   "source": [
    "Итак, исходя из финальных результатов, мы обнаружили, что все три региона безопасности в плане риска убытков (везде менее 2.5%). Следующим критерием выбора региона является средняя прибыль. Она выше всего в регионе 2 (433 против 330 и 267). Поэтому, анализ показывает, что аналитически вполне обоснованным решением является разработка скважин в регионе 2."
   ]
  }
 ],
 "metadata": {
  "kernelspec": {
   "display_name": "Python 3",
   "language": "python",
   "name": "python3"
  },
  "language_info": {
   "codemirror_mode": {
    "name": "ipython",
    "version": 3
   },
   "file_extension": ".py",
   "mimetype": "text/x-python",
   "name": "python",
   "nbconvert_exporter": "python",
   "pygments_lexer": "ipython3",
   "version": "3.8.5"
  }
 },
 "nbformat": 4,
 "nbformat_minor": 4
}
