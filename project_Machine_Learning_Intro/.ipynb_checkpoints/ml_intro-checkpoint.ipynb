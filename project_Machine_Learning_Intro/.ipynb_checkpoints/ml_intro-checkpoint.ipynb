{
 "cells": [
  {
   "cell_type": "markdown",
   "metadata": {},
   "source": [
    "# Проект \"Рекомендация тарифов\""
   ]
  },
  {
   "cell_type": "markdown",
   "metadata": {},
   "source": [
    "## Описание проекта"
   ]
  },
  {
   "cell_type": "markdown",
   "metadata": {},
   "source": [
    "Оператор мобильной связи «Мегалайн» выяснил: многие клиенты пользуются архивными тарифами. Они хотят построить систему, способную проанализировать поведение клиентов и предложить пользователям новый тариф: «Смарт» или «Ультра». В нашем распоряжении данные о поведении клиентов, которые уже перешли на эти тарифы. Нужно построить модель для задачи классификации, которая выберет подходящий тариф. Предобработка данных уже сделана ранее. Постройте модель с максимально большим значением accuracy (не менее 0.75)."
   ]
  },
  {
   "cell_type": "markdown",
   "metadata": {},
   "source": [
    "## План выполнения проекта"
   ]
  },
  {
   "cell_type": "markdown",
   "metadata": {},
   "source": [
    "1. [**Откройте файл с данными и изучите его.**](#step1) Путь к файлу: <i>datasets/users_behavior.csv</i>.\n",
    "1. [**Разделите исходные данные на обучающую, валидационную и тестовую выборки.**](#step2)\n",
    "1. [**Исследуйте качество разных моделей, меняя гиперпараметры.**](#step3) Кратко напишите выводы исследования.\n",
    "1. [**Проверьте качество модели на тестовой выборке.**](#step4)\n",
    "1. [**Проверьте модели на вменяемость.**](#step5)"
   ]
  },
  {
   "cell_type": "markdown",
   "metadata": {},
   "source": [
    "## Описание данных"
   ]
  },
  {
   "cell_type": "markdown",
   "metadata": {},
   "source": [
    "Каждый объект в наборе данных — это информация о поведении одного пользователя за месяц.\n",
    "\n",
    "- `calls` — количество звонков;\n",
    "- `minutes` — суммарная длительность звонков в минутах;\n",
    "- `messages` — количество sms-сообщений;\n",
    "- `mb_used` — израсходованный интернет-трафик в Мб;\n",
    "- `is_ultra` — каким тарифом пользовался в течение месяца (\"Ультра\" — 1, \"Смарт\" — 0)."
   ]
  },
  {
   "cell_type": "markdown",
   "metadata": {},
   "source": [
    "## <a name=\"step1\"></a>Шаг 1. Откройте и изучите файл с данными"
   ]
  },
  {
   "cell_type": "markdown",
   "metadata": {},
   "source": [
    "Для начала сделаем импорт необходимых библиотек."
   ]
  },
  {
   "cell_type": "code",
   "execution_count": 1,
   "metadata": {},
   "outputs": [],
   "source": [
    "import pandas as pd\n",
    "from sklearn.model_selection import train_test_split\n",
    "from sklearn.tree import DecisionTreeClassifier\n",
    "from sklearn.ensemble import RandomForestClassifier\n",
    "from sklearn.linear_model import LogisticRegression\n",
    "from sklearn.dummy import DummyClassifier"
   ]
  },
  {
   "cell_type": "markdown",
   "metadata": {},
   "source": [
    "Откроем файл с данными, запишем его в переменную `behavior`."
   ]
  },
  {
   "cell_type": "code",
   "execution_count": 2,
   "metadata": {},
   "outputs": [],
   "source": [
    "try:\n",
    "    # behavior = pd.read_csv('/Users/andreykol/Desktop/yandex_projects/project_Machine_Learning_Intro/users_behavior.csv')\n",
    "    behavior = pd.read_csv('datasets/users_behavior.csv')\n",
    "except:\n",
    "    print('Ошибка при чтении файла!')"
   ]
  },
  {
   "cell_type": "markdown",
   "metadata": {},
   "source": [
    "Теперь подробнее изучим информацию в таблице."
   ]
  },
  {
   "cell_type": "code",
   "execution_count": 3,
   "metadata": {},
   "outputs": [
    {
     "name": "stdout",
     "output_type": "stream",
     "text": [
      "<class 'pandas.core.frame.DataFrame'>\n",
      "RangeIndex: 3214 entries, 0 to 3213\n",
      "Data columns (total 5 columns):\n",
      " #   Column    Non-Null Count  Dtype  \n",
      "---  ------    --------------  -----  \n",
      " 0   calls     3214 non-null   float64\n",
      " 1   minutes   3214 non-null   float64\n",
      " 2   messages  3214 non-null   float64\n",
      " 3   mb_used   3214 non-null   float64\n",
      " 4   is_ultra  3214 non-null   int64  \n",
      "dtypes: float64(4), int64(1)\n",
      "memory usage: 125.7 KB\n",
      "None\n",
      "Index(['calls', 'minutes', 'messages', 'mb_used', 'is_ultra'], dtype='object')\n"
     ]
    },
    {
     "data": {
      "text/html": [
       "<div>\n",
       "<style scoped>\n",
       "    .dataframe tbody tr th:only-of-type {\n",
       "        vertical-align: middle;\n",
       "    }\n",
       "\n",
       "    .dataframe tbody tr th {\n",
       "        vertical-align: top;\n",
       "    }\n",
       "\n",
       "    .dataframe thead th {\n",
       "        text-align: right;\n",
       "    }\n",
       "</style>\n",
       "<table border=\"1\" class=\"dataframe\">\n",
       "  <thead>\n",
       "    <tr style=\"text-align: right;\">\n",
       "      <th></th>\n",
       "      <th>calls</th>\n",
       "      <th>minutes</th>\n",
       "      <th>messages</th>\n",
       "      <th>mb_used</th>\n",
       "      <th>is_ultra</th>\n",
       "    </tr>\n",
       "  </thead>\n",
       "  <tbody>\n",
       "    <tr>\n",
       "      <th>0</th>\n",
       "      <td>40.0</td>\n",
       "      <td>311.90</td>\n",
       "      <td>83.0</td>\n",
       "      <td>19915.42</td>\n",
       "      <td>0</td>\n",
       "    </tr>\n",
       "    <tr>\n",
       "      <th>1</th>\n",
       "      <td>85.0</td>\n",
       "      <td>516.75</td>\n",
       "      <td>56.0</td>\n",
       "      <td>22696.96</td>\n",
       "      <td>0</td>\n",
       "    </tr>\n",
       "    <tr>\n",
       "      <th>2</th>\n",
       "      <td>77.0</td>\n",
       "      <td>467.66</td>\n",
       "      <td>86.0</td>\n",
       "      <td>21060.45</td>\n",
       "      <td>0</td>\n",
       "    </tr>\n",
       "    <tr>\n",
       "      <th>3</th>\n",
       "      <td>106.0</td>\n",
       "      <td>745.53</td>\n",
       "      <td>81.0</td>\n",
       "      <td>8437.39</td>\n",
       "      <td>1</td>\n",
       "    </tr>\n",
       "    <tr>\n",
       "      <th>4</th>\n",
       "      <td>66.0</td>\n",
       "      <td>418.74</td>\n",
       "      <td>1.0</td>\n",
       "      <td>14502.75</td>\n",
       "      <td>0</td>\n",
       "    </tr>\n",
       "    <tr>\n",
       "      <th>5</th>\n",
       "      <td>58.0</td>\n",
       "      <td>344.56</td>\n",
       "      <td>21.0</td>\n",
       "      <td>15823.37</td>\n",
       "      <td>0</td>\n",
       "    </tr>\n",
       "    <tr>\n",
       "      <th>6</th>\n",
       "      <td>57.0</td>\n",
       "      <td>431.64</td>\n",
       "      <td>20.0</td>\n",
       "      <td>3738.90</td>\n",
       "      <td>1</td>\n",
       "    </tr>\n",
       "    <tr>\n",
       "      <th>7</th>\n",
       "      <td>15.0</td>\n",
       "      <td>132.40</td>\n",
       "      <td>6.0</td>\n",
       "      <td>21911.60</td>\n",
       "      <td>0</td>\n",
       "    </tr>\n",
       "    <tr>\n",
       "      <th>8</th>\n",
       "      <td>7.0</td>\n",
       "      <td>43.39</td>\n",
       "      <td>3.0</td>\n",
       "      <td>2538.67</td>\n",
       "      <td>1</td>\n",
       "    </tr>\n",
       "    <tr>\n",
       "      <th>9</th>\n",
       "      <td>90.0</td>\n",
       "      <td>665.41</td>\n",
       "      <td>38.0</td>\n",
       "      <td>17358.61</td>\n",
       "      <td>0</td>\n",
       "    </tr>\n",
       "  </tbody>\n",
       "</table>\n",
       "</div>"
      ],
      "text/plain": [
       "   calls  minutes  messages   mb_used  is_ultra\n",
       "0   40.0   311.90      83.0  19915.42         0\n",
       "1   85.0   516.75      56.0  22696.96         0\n",
       "2   77.0   467.66      86.0  21060.45         0\n",
       "3  106.0   745.53      81.0   8437.39         1\n",
       "4   66.0   418.74       1.0  14502.75         0\n",
       "5   58.0   344.56      21.0  15823.37         0\n",
       "6   57.0   431.64      20.0   3738.90         1\n",
       "7   15.0   132.40       6.0  21911.60         0\n",
       "8    7.0    43.39       3.0   2538.67         1\n",
       "9   90.0   665.41      38.0  17358.61         0"
      ]
     },
     "metadata": {},
     "output_type": "display_data"
    }
   ],
   "source": [
    "print(behavior.info())\n",
    "print(behavior.columns)\n",
    "display(behavior.head(10))"
   ]
  },
  {
   "cell_type": "markdown",
   "metadata": {},
   "source": [
    "Как и ожидалось, предобработка была сделана заранее, пропусков в данных нет. Лишних столбцов (и дублирующихся) в таблице также нет, а все нужные — есть."
   ]
  },
  {
   "cell_type": "markdown",
   "metadata": {},
   "source": [
    "## <a name=\"step2\"></a>Шаг 2. Разделите исходные данные на выборки"
   ]
  },
  {
   "cell_type": "markdown",
   "metadata": {},
   "source": [
    "Согласно общим рекомендациям, размеры обучающей, валидационной и тестовой выборок должны быть в соотношении 3:1:1, то есть 60%, 20% и 20% соответственно. Для этого применим функцию `train_test_split` дважды: сначала отделяя тестовую выборку (20% от всей), затем отделяя валидационную (25% уже от остатка). Но перед этим поделим наши данные на признаки (это все столбцы, кроме `is_ultra`) и ответы (столбец `is_ultra`)."
   ]
  },
  {
   "cell_type": "code",
   "execution_count": 4,
   "metadata": {},
   "outputs": [
    {
     "name": "stdout",
     "output_type": "stream",
     "text": [
      "Размер обучающей выборки: 1928\n",
      "Размер валидационной выборки: 643\n",
      "Размер тестовой выборки: 643\n"
     ]
    }
   ],
   "source": [
    "features = behavior.drop(['is_ultra'], axis=1)\n",
    "target = behavior['is_ultra']\n",
    "\n",
    "features_for_model, features_test, target_for_model, target_test = train_test_split(features, target, \n",
    "                                                                                   test_size=0.2, random_state=42)\n",
    "features_train, features_valid, target_train, target_valid = train_test_split(features_for_model, target_for_model, \n",
    "                                                                             test_size=0.25, random_state=42)\n",
    "\n",
    "print('Размер обучающей выборки:', len(features_train))\n",
    "print('Размер валидационной выборки:', len(features_valid))\n",
    "print('Размер тестовой выборки:', len(features_test))"
   ]
  },
  {
   "cell_type": "markdown",
   "metadata": {},
   "source": [
    "Судя по выведенным длинам выборок, разделение прошло корректно."
   ]
  },
  {
   "cell_type": "markdown",
   "metadata": {},
   "source": [
    "## <a name=\"step3\"></a>Шаг 3. Исследуйте качество разных моделей"
   ]
  },
  {
   "cell_type": "markdown",
   "metadata": {},
   "source": [
    "Чтобы исследовать качество разных моделей, нужно сначала определить критерий, по которому оно оценивается, а также составить список рассматриваемых далее моделей (вместе с диапазоном изменения каждого из гиперпараметров в них). Итак, нами будут исследованы следующие модели:\n",
    "- дерево решений (будем варьировать гиперпараметр высоты дерева — значения от 1 до 10);\n",
    "- случайный лес (меняем количество деревьев в ансамбле — от 10 до 100 с шагом в 10, а также высоту каждого дерева — от 1 до 10);\n",
    "- логистическая регрессия (нет гиперпараметров для изменения).\n",
    "\n",
    "Критерием для оценки качества моделей будет доля правильных ответов (accuracy). Для каждой модели подсчитаем accuracy на обучающей и валидационной выборке, \"забыв\" на время про тестовую выборку."
   ]
  },
  {
   "cell_type": "markdown",
   "metadata": {},
   "source": [
    "Начнём анализ с семейства моделей типа дерева решений."
   ]
  },
  {
   "cell_type": "code",
   "execution_count": 5,
   "metadata": {},
   "outputs": [
    {
     "name": "stdout",
     "output_type": "stream",
     "text": [
      "Лучшей моделью среди решающих деревьев является дерево с высотой 7, её accuracy на валидационной выборке равна 0.7884914463452566.\n"
     ]
    }
   ],
   "source": [
    "best_tree_model = None\n",
    "best_tree_result = 0\n",
    "best_tree_depth = 0\n",
    "\n",
    "for depth in range(1, 11):\n",
    "    model = DecisionTreeClassifier(max_depth=depth, random_state=42)\n",
    "    model.fit(features_train, target_train)\n",
    "    result = model.score(features_valid, target_valid)\n",
    "    if result > best_tree_result:\n",
    "        best_tree_result = result\n",
    "        best_tree_model = model\n",
    "        best_tree_depth = depth\n",
    "print('Лучшей моделью среди решающих деревьев является дерево с высотой {}, её accuracy на валидационной выборке равна {}.'\n",
    "      .format(best_tree_depth, best_tree_result))"
   ]
  },
  {
   "cell_type": "markdown",
   "metadata": {},
   "source": [
    "Итак, на проверочных данных мы смогли получить долю правильных ответов в 78.8%, что уже решает нашу задачу-минимум. Но мы не остановимся на этом, теперь проверим следующую группу моделей — случайные леса."
   ]
  },
  {
   "cell_type": "code",
   "execution_count": 6,
   "metadata": {},
   "outputs": [
    {
     "name": "stdout",
     "output_type": "stream",
     "text": [
      "Лучшей моделью среди случайных лесов является лес с 90 деревьями, каждое из которых имеет высоту 7, её accuracy на валидационной выборке равна 0.8055987558320373.\n"
     ]
    }
   ],
   "source": [
    "best_forest_model = None\n",
    "best_forest_result = 0\n",
    "best_forest_depth = 0\n",
    "best_forest_num_est = 0\n",
    "\n",
    "for n_est in range(10, 110, 10):\n",
    "    for depth in range(1, 11):\n",
    "        model = RandomForestClassifier(n_estimators=n_est, max_depth=depth, random_state=42)\n",
    "        model.fit(features_train, target_train)\n",
    "        result = model.score(features_valid, target_valid)\n",
    "        if result > best_forest_result:\n",
    "            best_forest_result = result\n",
    "            best_forest_model = model\n",
    "            best_forest_depth = depth\n",
    "            best_forest_num_est = n_est\n",
    "print('Лучшей моделью среди случайных лесов является лес с {} деревьями, каждое из которых имеет высоту {}, её accuracy на валидационной выборке равна {}.'\n",
    "      .format(best_forest_num_est, best_forest_depth, best_forest_result))"
   ]
  },
  {
   "cell_type": "markdown",
   "metadata": {},
   "source": [
    "На этом этапе мы получили улучшение в целевом показателе. Теперь он составляет 80.5% для случайного леса с 90 деревьями высотой 7. Осталось проверить предсказательную способность логистической регрессии, здесь будет тестироваться ровно одна модель."
   ]
  },
  {
   "cell_type": "code",
   "execution_count": 7,
   "metadata": {},
   "outputs": [
    {
     "name": "stdout",
     "output_type": "stream",
     "text": [
      "Accuracy логистической регрессии на валидационной выборке равна 0.7200622083981337.\n"
     ]
    }
   ],
   "source": [
    "logreg_model = LogisticRegression()\n",
    "logreg_model.fit(features_train, target_train)\n",
    "print('Accuracy логистической регрессии на валидационной выборке равна {}.'\n",
    "      .format(logreg_model.score(features_valid, target_valid)))"
   ]
  },
  {
   "cell_type": "markdown",
   "metadata": {},
   "source": [
    "Мы получили не самый лучший показатель по сравнению с моделями-лидерами. Но можно держать в голове, что здесь точно поменьше степень переобучения. Но всё-таки, на основе проведённых исследований, лучшей моделью мы будем считать случайный лес с 90 деревьями высотой 7."
   ]
  },
  {
   "cell_type": "markdown",
   "metadata": {},
   "source": [
    "## <a name=\"step4\"></a>Шаг 4. Проверьте качество модели на тестовой выборке"
   ]
  },
  {
   "cell_type": "markdown",
   "metadata": {},
   "source": [
    "Итак, теперь у нас есть модель-фаворит (`best_forest_model`), её качество мы и проверим на тестовой выборке, которую до сих пор никто не видел."
   ]
  },
  {
   "cell_type": "code",
   "execution_count": 8,
   "metadata": {},
   "outputs": [
    {
     "name": "stdout",
     "output_type": "stream",
     "text": [
      "Accuracy лучшей модели на тестовой выборке равна 0.8118195956454122.\n"
     ]
    }
   ],
   "source": [
    "print('Accuracy лучшей модели на тестовой выборке равна {}.'\n",
    "      .format(best_forest_model.score(features_test, target_test)))"
   ]
  },
  {
   "cell_type": "markdown",
   "metadata": {},
   "source": [
    "Отлично, получился результат 81.1%! Это даже чуть лучше, чем на валидационной выборке. Модель ещё раз показала свою устойчивость к данным."
   ]
  },
  {
   "cell_type": "markdown",
   "metadata": {},
   "source": [
    "## <a name=\"step5\"></a>Шаг 5. Проверьте модели на адекватность"
   ]
  },
  {
   "cell_type": "markdown",
   "metadata": {},
   "source": [
    "Проверим теперь лучшие модели в каждой из групп (всего 3) на адекватность. Воспользуемся `DummyClassifier` для того, чтобы сравнить, насколько наши модели лучше предсказывают ответы, чем совсем простая модель (и лучше ли вообще?)."
   ]
  },
  {
   "cell_type": "code",
   "execution_count": 9,
   "metadata": {},
   "outputs": [
    {
     "name": "stdout",
     "output_type": "stream",
     "text": [
      "Accuracy простейшей модели на валидационной выборке равна 0.7013996889580093.\n"
     ]
    }
   ],
   "source": [
    "dummy_model = DummyClassifier(strategy='prior', random_state=42)\n",
    "dummy_model.fit(features_train, target_train)\n",
    "print('Accuracy простейшей модели на валидационной выборке равна {}.'\n",
    "      .format(dummy_model.score(features_valid, target_valid)))"
   ]
  },
  {
   "cell_type": "markdown",
   "metadata": {},
   "source": [
    "Получили точность 70.1%, а это значит, что наши лучшие модели предсказывают точнее и проходят проверку на адекватность."
   ]
  }
 ],
 "metadata": {
  "kernelspec": {
   "display_name": "Python 3",
   "language": "python",
   "name": "python3"
  },
  "language_info": {
   "codemirror_mode": {
    "name": "ipython",
    "version": 3
   },
   "file_extension": ".py",
   "mimetype": "text/x-python",
   "name": "python",
   "nbconvert_exporter": "python",
   "pygments_lexer": "ipython3",
   "version": "3.8.5"
  }
 },
 "nbformat": 4,
 "nbformat_minor": 2
}
